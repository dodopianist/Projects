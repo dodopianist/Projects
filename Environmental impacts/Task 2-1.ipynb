{
 "cells": [
  {
   "cell_type": "markdown",
   "id": "de1caac6",
   "metadata": {},
   "source": [
    "# Read Data"
   ]
  },
  {
   "cell_type": "code",
   "execution_count": 1,
   "id": "74d756e3",
   "metadata": {},
   "outputs": [],
   "source": [
    "import pandas as pd"
   ]
  },
  {
   "cell_type": "code",
   "execution_count": 2,
   "id": "4ece6e4c",
   "metadata": {},
   "outputs": [],
   "source": [
    "train_text = pd.read_parquet('train.parquet')"
   ]
  },
  {
   "cell_type": "code",
   "execution_count": 3,
   "id": "0ea19716",
   "metadata": {},
   "outputs": [
    {
     "name": "stdout",
     "output_type": "stream",
     "text": [
      "(1000, 2)\n"
     ]
    },
    {
     "data": {
      "text/html": [
       "<div>\n",
       "<style scoped>\n",
       "    .dataframe tbody tr th:only-of-type {\n",
       "        vertical-align: middle;\n",
       "    }\n",
       "\n",
       "    .dataframe tbody tr th {\n",
       "        vertical-align: top;\n",
       "    }\n",
       "\n",
       "    .dataframe thead th {\n",
       "        text-align: right;\n",
       "    }\n",
       "</style>\n",
       "<table border=\"1\" class=\"dataframe\">\n",
       "  <thead>\n",
       "    <tr style=\"text-align: right;\">\n",
       "      <th></th>\n",
       "      <th>text</th>\n",
       "      <th>label</th>\n",
       "    </tr>\n",
       "  </thead>\n",
       "  <tbody>\n",
       "    <tr>\n",
       "      <th>0</th>\n",
       "      <td>− Scope 3: Optional scope that includes indire...</td>\n",
       "      <td>1</td>\n",
       "    </tr>\n",
       "    <tr>\n",
       "      <th>1</th>\n",
       "      <td>The Group is not aware of any noise pollution ...</td>\n",
       "      <td>0</td>\n",
       "    </tr>\n",
       "    <tr>\n",
       "      <th>2</th>\n",
       "      <td>Global climate change could exacerbate certain...</td>\n",
       "      <td>0</td>\n",
       "    </tr>\n",
       "    <tr>\n",
       "      <th>3</th>\n",
       "      <td>Setting an investment horizon is part and parc...</td>\n",
       "      <td>0</td>\n",
       "    </tr>\n",
       "    <tr>\n",
       "      <th>4</th>\n",
       "      <td>Climate change the physical impacts of climate...</td>\n",
       "      <td>0</td>\n",
       "    </tr>\n",
       "  </tbody>\n",
       "</table>\n",
       "</div>"
      ],
      "text/plain": [
       "                                                text  label\n",
       "0  − Scope 3: Optional scope that includes indire...      1\n",
       "1  The Group is not aware of any noise pollution ...      0\n",
       "2  Global climate change could exacerbate certain...      0\n",
       "3  Setting an investment horizon is part and parc...      0\n",
       "4  Climate change the physical impacts of climate...      0"
      ]
     },
     "execution_count": 3,
     "metadata": {},
     "output_type": "execute_result"
    }
   ],
   "source": [
    "print(train_text.shape)\n",
    "train_text.head()"
   ]
  },
  {
   "cell_type": "markdown",
   "id": "9b019e16",
   "metadata": {},
   "source": [
    "# Preprocessing"
   ]
  },
  {
   "cell_type": "code",
   "execution_count": 4,
   "id": "139ef282",
   "metadata": {},
   "outputs": [],
   "source": [
    "import nltk\n",
    "# nltk.download('punkt')\n",
    "from sklearn.feature_extraction.text import ENGLISH_STOP_WORDS\n",
    "from nltk import pos_tag\n",
    "from nltk.stem import WordNetLemmatizer\n",
    "import string"
   ]
  },
  {
   "cell_type": "code",
   "execution_count": 5,
   "id": "a3547256",
   "metadata": {},
   "outputs": [],
   "source": [
    "def get_wordnet_pos(tag):\n",
    "    if tag.startswith('J'):\n",
    "        return 'a'\n",
    "    elif tag.startswith('V'):\n",
    "        return 'v'\n",
    "    elif tag.startswith('N'):\n",
    "        return 'n'\n",
    "    elif tag.startswith('R'):\n",
    "        return 'r'\n",
    "    else:\n",
    "        return 'n'"
   ]
  },
  {
   "cell_type": "code",
   "execution_count": 6,
   "id": "4a15f567",
   "metadata": {},
   "outputs": [],
   "source": [
    "def preprocessing(df):\n",
    "    \n",
    "    df_new = df.copy()\n",
    "    tokenise_text = [nltk.word_tokenize(text.lower().replace('’', \"'\")) for text in df['text']]\n",
    "    stop_words = [item for item in ENGLISH_STOP_WORDS]\n",
    "    punctuations = [item for item in string.punctuation]\n",
    "    punctuations.append('−')\n",
    "    punctuations.append('—')\n",
    "    punctuations.append('‘')\n",
    "    punctuations.append('``')\n",
    "    punctuations.append(\"''\")\n",
    "    punctuations.append('\"\"')\n",
    "    punctuations.append('•')\n",
    "    \n",
    "    lemmatizer = WordNetLemmatizer()\n",
    "    stemmed_text = []\n",
    "    stemmed_text_wo_punct = []\n",
    "    for text in tokenise_text:\n",
    "        \n",
    "        pos_tagged = pos_tag(text)\n",
    "        stemmed_word = [\n",
    "            lemmatizer.lemmatize(word, pos = get_wordnet_pos(pos))\n",
    "            for word, pos in pos_tagged if not word in stop_words\n",
    "        ]\n",
    "        stemmed_text.append(stemmed_word)\n",
    "        \n",
    "        stemmed_word_wo_punct = [\n",
    "            word for word in stemmed_word if not word in punctuations\n",
    "        ]\n",
    "        stemmed_text_wo_punct.append(stemmed_word_wo_punct)\n",
    "    \n",
    "    df_new['processed'] = stemmed_text\n",
    "    df_new['processed_wo_punct'] = stemmed_text_wo_punct\n",
    "    \n",
    "    return df_new"
   ]
  },
  {
   "cell_type": "code",
   "execution_count": 7,
   "id": "fd78f53d",
   "metadata": {},
   "outputs": [],
   "source": [
    "train_text_processed = preprocessing(train_text)"
   ]
  },
  {
   "cell_type": "code",
   "execution_count": 8,
   "id": "c2cf1223",
   "metadata": {},
   "outputs": [
    {
     "name": "stdout",
     "output_type": "stream",
     "text": [
      "(1000, 2)\n"
     ]
    },
    {
     "data": {
      "text/html": [
       "<div>\n",
       "<style scoped>\n",
       "    .dataframe tbody tr th:only-of-type {\n",
       "        vertical-align: middle;\n",
       "    }\n",
       "\n",
       "    .dataframe tbody tr th {\n",
       "        vertical-align: top;\n",
       "    }\n",
       "\n",
       "    .dataframe thead th {\n",
       "        text-align: right;\n",
       "    }\n",
       "</style>\n",
       "<table border=\"1\" class=\"dataframe\">\n",
       "  <thead>\n",
       "    <tr style=\"text-align: right;\">\n",
       "      <th></th>\n",
       "      <th>text</th>\n",
       "      <th>label</th>\n",
       "      <th>processed</th>\n",
       "      <th>processed_wo_punct</th>\n",
       "    </tr>\n",
       "  </thead>\n",
       "  <tbody>\n",
       "    <tr>\n",
       "      <th>0</th>\n",
       "      <td>− Scope 3: Optional scope that includes indire...</td>\n",
       "      <td>1</td>\n",
       "      <td>[−, scope, 3, :, optional, scope, include, ind...</td>\n",
       "      <td>[scope, 3, optional, scope, include, indirect,...</td>\n",
       "    </tr>\n",
       "    <tr>\n",
       "      <th>1</th>\n",
       "      <td>The Group is not aware of any noise pollution ...</td>\n",
       "      <td>0</td>\n",
       "      <td>[group, aware, noise, pollution, negatively, i...</td>\n",
       "      <td>[group, aware, noise, pollution, negatively, i...</td>\n",
       "    </tr>\n",
       "    <tr>\n",
       "      <th>2</th>\n",
       "      <td>Global climate change could exacerbate certain...</td>\n",
       "      <td>0</td>\n",
       "      <td>[global, climate, change, exacerbate, certain,...</td>\n",
       "      <td>[global, climate, change, exacerbate, certain,...</td>\n",
       "    </tr>\n",
       "    <tr>\n",
       "      <th>3</th>\n",
       "      <td>Setting an investment horizon is part and parc...</td>\n",
       "      <td>0</td>\n",
       "      <td>[set, investment, horizon, parcel, policy, foc...</td>\n",
       "      <td>[set, investment, horizon, parcel, policy, foc...</td>\n",
       "    </tr>\n",
       "    <tr>\n",
       "      <th>4</th>\n",
       "      <td>Climate change the physical impacts of climate...</td>\n",
       "      <td>0</td>\n",
       "      <td>[climate, change, physical, impact, climate, c...</td>\n",
       "      <td>[climate, change, physical, impact, climate, c...</td>\n",
       "    </tr>\n",
       "  </tbody>\n",
       "</table>\n",
       "</div>"
      ],
      "text/plain": [
       "                                                text  label  \\\n",
       "0  − Scope 3: Optional scope that includes indire...      1   \n",
       "1  The Group is not aware of any noise pollution ...      0   \n",
       "2  Global climate change could exacerbate certain...      0   \n",
       "3  Setting an investment horizon is part and parc...      0   \n",
       "4  Climate change the physical impacts of climate...      0   \n",
       "\n",
       "                                           processed  \\\n",
       "0  [−, scope, 3, :, optional, scope, include, ind...   \n",
       "1  [group, aware, noise, pollution, negatively, i...   \n",
       "2  [global, climate, change, exacerbate, certain,...   \n",
       "3  [set, investment, horizon, parcel, policy, foc...   \n",
       "4  [climate, change, physical, impact, climate, c...   \n",
       "\n",
       "                                  processed_wo_punct  \n",
       "0  [scope, 3, optional, scope, include, indirect,...  \n",
       "1  [group, aware, noise, pollution, negatively, i...  \n",
       "2  [global, climate, change, exacerbate, certain,...  \n",
       "3  [set, investment, horizon, parcel, policy, foc...  \n",
       "4  [climate, change, physical, impact, climate, c...  "
      ]
     },
     "execution_count": 8,
     "metadata": {},
     "output_type": "execute_result"
    }
   ],
   "source": [
    "print(train_text.shape)\n",
    "train_text_processed.head()"
   ]
  },
  {
   "cell_type": "code",
   "execution_count": 126,
   "id": "c0e884e5",
   "metadata": {},
   "outputs": [
    {
     "data": {
      "text/plain": [
       "'− Scope 3: Optional scope that includes indirect emissions associated with the goods and services supply chain produced outside the organization. Included are emissions from the transport of products from our logistics centres to stores (downstream) performed by external logistics operators (air, land and sea transport) as well as the emissions associated with electricity consumption in franchise stores.'"
      ]
     },
     "execution_count": 126,
     "metadata": {},
     "output_type": "execute_result"
    }
   ],
   "source": [
    "train_text_processed['text'][0]"
   ]
  },
  {
   "cell_type": "code",
   "execution_count": 127,
   "id": "5bc6b1c9",
   "metadata": {},
   "outputs": [
    {
     "data": {
      "text/plain": [
       "'scope 3 optional scope include indirect emission associate good service supply chain produce outside organization include emission transport product logistics centre store downstream perform external logistics operator air land sea transport emission associate electricity consumption franchise store'"
      ]
     },
     "execution_count": 127,
     "metadata": {},
     "output_type": "execute_result"
    }
   ],
   "source": [
    "' '. join(train_text_processed['processed_wo_punct'][0])"
   ]
  },
  {
   "cell_type": "markdown",
   "id": "8d040ce7",
   "metadata": {},
   "source": [
    "# Descriptive Statistics"
   ]
  },
  {
   "cell_type": "code",
   "execution_count": 9,
   "id": "e5e6681f",
   "metadata": {},
   "outputs": [],
   "source": [
    "label_proportion = train_text.groupby('label').count()"
   ]
  },
  {
   "cell_type": "code",
   "execution_count": 10,
   "id": "c3c2e8eb",
   "metadata": {},
   "outputs": [
    {
     "data": {
      "image/png": "[encoded data removed]",
      "text/plain": [
       "<Figure size 1080x360 with 1 Axes>"
      ]
     },
     "metadata": {
      "needs_background": "light"
     },
     "output_type": "display_data"
    }
   ],
   "source": [
    "label_proportion_plot = label_proportion.plot.barh(figsize = (15, 5))\n",
    "\n",
    "for container in label_proportion_plot.containers:\n",
    "    label_proportion_plot.bar_label(container)"
   ]
  },
  {
   "cell_type": "code",
   "execution_count": 11,
   "id": "789844ca",
   "metadata": {},
   "outputs": [],
   "source": [
    "positive_df = train_text_processed.loc[train_text_processed['label'] == 2]"
   ]
  },
  {
   "cell_type": "code",
   "execution_count": 12,
   "id": "c7b1b177",
   "metadata": {},
   "outputs": [
    {
     "name": "stdout",
     "output_type": "stream",
     "text": [
      "(250, 4)\n"
     ]
    },
    {
     "data": {
      "text/html": [
       "<div>\n",
       "<style scoped>\n",
       "    .dataframe tbody tr th:only-of-type {\n",
       "        vertical-align: middle;\n",
       "    }\n",
       "\n",
       "    .dataframe tbody tr th {\n",
       "        vertical-align: top;\n",
       "    }\n",
       "\n",
       "    .dataframe thead th {\n",
       "        text-align: right;\n",
       "    }\n",
       "</style>\n",
       "<table border=\"1\" class=\"dataframe\">\n",
       "  <thead>\n",
       "    <tr style=\"text-align: right;\">\n",
       "      <th></th>\n",
       "      <th>text</th>\n",
       "      <th>label</th>\n",
       "      <th>processed</th>\n",
       "      <th>processed_wo_punct</th>\n",
       "    </tr>\n",
       "  </thead>\n",
       "  <tbody>\n",
       "    <tr>\n",
       "      <th>16</th>\n",
       "      <td>We want to contribute to the transition to a c...</td>\n",
       "      <td>2</td>\n",
       "      <td>[want, contribute, transition, circular, econo...</td>\n",
       "      <td>[want, contribute, transition, circular, econo...</td>\n",
       "    </tr>\n",
       "    <tr>\n",
       "      <th>22</th>\n",
       "      <td>Dominion East Ohio Pipeline Infrastructure Rep...</td>\n",
       "      <td>2</td>\n",
       "      <td>[dominion, east, ohio, pipeline, infrastructur...</td>\n",
       "      <td>[dominion, east, ohio, pipeline, infrastructur...</td>\n",
       "    </tr>\n",
       "    <tr>\n",
       "      <th>23</th>\n",
       "      <td>South West Water has maintained its investment...</td>\n",
       "      <td>2</td>\n",
       "      <td>[south, west, water, maintain, investment, ren...</td>\n",
       "      <td>[south, west, water, maintain, investment, ren...</td>\n",
       "    </tr>\n",
       "    <tr>\n",
       "      <th>24</th>\n",
       "      <td>The EBRD provided a total of €98 million to fi...</td>\n",
       "      <td>2</td>\n",
       "      <td>[ebrd, provide, total, €98, million, finance, ...</td>\n",
       "      <td>[ebrd, provide, total, €98, million, finance, ...</td>\n",
       "    </tr>\n",
       "    <tr>\n",
       "      <th>25</th>\n",
       "      <td>(€165 million equivalent) loan to finance the ...</td>\n",
       "      <td>2</td>\n",
       "      <td>[(, €165, million, equivalent, ), loan, financ...</td>\n",
       "      <td>[€165, million, equivalent, loan, finance, con...</td>\n",
       "    </tr>\n",
       "  </tbody>\n",
       "</table>\n",
       "</div>"
      ],
      "text/plain": [
       "                                                 text  label  \\\n",
       "16  We want to contribute to the transition to a c...      2   \n",
       "22  Dominion East Ohio Pipeline Infrastructure Rep...      2   \n",
       "23  South West Water has maintained its investment...      2   \n",
       "24  The EBRD provided a total of €98 million to fi...      2   \n",
       "25  (€165 million equivalent) loan to finance the ...      2   \n",
       "\n",
       "                                            processed  \\\n",
       "16  [want, contribute, transition, circular, econo...   \n",
       "22  [dominion, east, ohio, pipeline, infrastructur...   \n",
       "23  [south, west, water, maintain, investment, ren...   \n",
       "24  [ebrd, provide, total, €98, million, finance, ...   \n",
       "25  [(, €165, million, equivalent, ), loan, financ...   \n",
       "\n",
       "                                   processed_wo_punct  \n",
       "16  [want, contribute, transition, circular, econo...  \n",
       "22  [dominion, east, ohio, pipeline, infrastructur...  \n",
       "23  [south, west, water, maintain, investment, ren...  \n",
       "24  [ebrd, provide, total, €98, million, finance, ...  \n",
       "25  [€165, million, equivalent, loan, finance, con...  "
      ]
     },
     "execution_count": 12,
     "metadata": {},
     "output_type": "execute_result"
    }
   ],
   "source": [
    "print(positive_df.shape)\n",
    "positive_df.head()"
   ]
  },
  {
   "cell_type": "code",
   "execution_count": 13,
   "id": "a46ef1a8",
   "metadata": {},
   "outputs": [],
   "source": [
    "neutral_df = train_text_processed.loc[train_text_processed['label'] == 1]"
   ]
  },
  {
   "cell_type": "code",
   "execution_count": 14,
   "id": "4579ca31",
   "metadata": {},
   "outputs": [
    {
     "name": "stdout",
     "output_type": "stream",
     "text": [
      "(408, 4)\n"
     ]
    },
    {
     "data": {
      "text/html": [
       "<div>\n",
       "<style scoped>\n",
       "    .dataframe tbody tr th:only-of-type {\n",
       "        vertical-align: middle;\n",
       "    }\n",
       "\n",
       "    .dataframe tbody tr th {\n",
       "        vertical-align: top;\n",
       "    }\n",
       "\n",
       "    .dataframe thead th {\n",
       "        text-align: right;\n",
       "    }\n",
       "</style>\n",
       "<table border=\"1\" class=\"dataframe\">\n",
       "  <thead>\n",
       "    <tr style=\"text-align: right;\">\n",
       "      <th></th>\n",
       "      <th>text</th>\n",
       "      <th>label</th>\n",
       "      <th>processed</th>\n",
       "      <th>processed_wo_punct</th>\n",
       "    </tr>\n",
       "  </thead>\n",
       "  <tbody>\n",
       "    <tr>\n",
       "      <th>0</th>\n",
       "      <td>− Scope 3: Optional scope that includes indire...</td>\n",
       "      <td>1</td>\n",
       "      <td>[−, scope, 3, :, optional, scope, include, ind...</td>\n",
       "      <td>[scope, 3, optional, scope, include, indirect,...</td>\n",
       "    </tr>\n",
       "    <tr>\n",
       "      <th>6</th>\n",
       "      <td>We emitted 13.4 million tonnes CO2 of Scope 2 ...</td>\n",
       "      <td>1</td>\n",
       "      <td>[emit, 13.4, million, tonne, co2, scope, 2, (,...</td>\n",
       "      <td>[emit, 13.4, million, tonne, co2, scope, 2, in...</td>\n",
       "    </tr>\n",
       "    <tr>\n",
       "      <th>7</th>\n",
       "      <td>We do not provide normalised figures for our C...</td>\n",
       "      <td>1</td>\n",
       "      <td>[provide, normalised, figure, co2, emission, r...</td>\n",
       "      <td>[provide, normalised, figure, co2, emission, r...</td>\n",
       "    </tr>\n",
       "    <tr>\n",
       "      <th>10</th>\n",
       "      <td>Offsetting our emissions Australian Ethical of...</td>\n",
       "      <td>1</td>\n",
       "      <td>[offset, emission, australian, ethical, offset...</td>\n",
       "      <td>[offset, emission, australian, ethical, offset...</td>\n",
       "    </tr>\n",
       "    <tr>\n",
       "      <th>14</th>\n",
       "      <td>– Omissions Emissions associated with joint ve...</td>\n",
       "      <td>1</td>\n",
       "      <td>[–, omission, emission, associate, joint, vent...</td>\n",
       "      <td>[–, omission, emission, associate, joint, vent...</td>\n",
       "    </tr>\n",
       "  </tbody>\n",
       "</table>\n",
       "</div>"
      ],
      "text/plain": [
       "                                                 text  label  \\\n",
       "0   − Scope 3: Optional scope that includes indire...      1   \n",
       "6   We emitted 13.4 million tonnes CO2 of Scope 2 ...      1   \n",
       "7   We do not provide normalised figures for our C...      1   \n",
       "10  Offsetting our emissions Australian Ethical of...      1   \n",
       "14  – Omissions Emissions associated with joint ve...      1   \n",
       "\n",
       "                                            processed  \\\n",
       "0   [−, scope, 3, :, optional, scope, include, ind...   \n",
       "6   [emit, 13.4, million, tonne, co2, scope, 2, (,...   \n",
       "7   [provide, normalised, figure, co2, emission, r...   \n",
       "10  [offset, emission, australian, ethical, offset...   \n",
       "14  [–, omission, emission, associate, joint, vent...   \n",
       "\n",
       "                                   processed_wo_punct  \n",
       "0   [scope, 3, optional, scope, include, indirect,...  \n",
       "6   [emit, 13.4, million, tonne, co2, scope, 2, in...  \n",
       "7   [provide, normalised, figure, co2, emission, r...  \n",
       "10  [offset, emission, australian, ethical, offset...  \n",
       "14  [–, omission, emission, associate, joint, vent...  "
      ]
     },
     "execution_count": 14,
     "metadata": {},
     "output_type": "execute_result"
    }
   ],
   "source": [
    "print(neutral_df.shape)\n",
    "neutral_df.head()"
   ]
  },
  {
   "cell_type": "code",
   "execution_count": 15,
   "id": "0ef5ba59",
   "metadata": {},
   "outputs": [],
   "source": [
    "negative_df = train_text_processed.loc[train_text_processed['label'] == 0]"
   ]
  },
  {
   "cell_type": "code",
   "execution_count": 16,
   "id": "514f5e13",
   "metadata": {},
   "outputs": [
    {
     "name": "stdout",
     "output_type": "stream",
     "text": [
      "(342, 4)\n"
     ]
    },
    {
     "data": {
      "text/html": [
       "<div>\n",
       "<style scoped>\n",
       "    .dataframe tbody tr th:only-of-type {\n",
       "        vertical-align: middle;\n",
       "    }\n",
       "\n",
       "    .dataframe tbody tr th {\n",
       "        vertical-align: top;\n",
       "    }\n",
       "\n",
       "    .dataframe thead th {\n",
       "        text-align: right;\n",
       "    }\n",
       "</style>\n",
       "<table border=\"1\" class=\"dataframe\">\n",
       "  <thead>\n",
       "    <tr style=\"text-align: right;\">\n",
       "      <th></th>\n",
       "      <th>text</th>\n",
       "      <th>label</th>\n",
       "      <th>processed</th>\n",
       "      <th>processed_wo_punct</th>\n",
       "    </tr>\n",
       "  </thead>\n",
       "  <tbody>\n",
       "    <tr>\n",
       "      <th>1</th>\n",
       "      <td>The Group is not aware of any noise pollution ...</td>\n",
       "      <td>0</td>\n",
       "      <td>[group, aware, noise, pollution, negatively, i...</td>\n",
       "      <td>[group, aware, noise, pollution, negatively, i...</td>\n",
       "    </tr>\n",
       "    <tr>\n",
       "      <th>2</th>\n",
       "      <td>Global climate change could exacerbate certain...</td>\n",
       "      <td>0</td>\n",
       "      <td>[global, climate, change, exacerbate, certain,...</td>\n",
       "      <td>[global, climate, change, exacerbate, certain,...</td>\n",
       "    </tr>\n",
       "    <tr>\n",
       "      <th>3</th>\n",
       "      <td>Setting an investment horizon is part and parc...</td>\n",
       "      <td>0</td>\n",
       "      <td>[set, investment, horizon, parcel, policy, foc...</td>\n",
       "      <td>[set, investment, horizon, parcel, policy, foc...</td>\n",
       "    </tr>\n",
       "    <tr>\n",
       "      <th>4</th>\n",
       "      <td>Climate change the physical impacts of climate...</td>\n",
       "      <td>0</td>\n",
       "      <td>[climate, change, physical, impact, climate, c...</td>\n",
       "      <td>[climate, change, physical, impact, climate, c...</td>\n",
       "    </tr>\n",
       "    <tr>\n",
       "      <th>5</th>\n",
       "      <td>Projects with potential limited adverse social...</td>\n",
       "      <td>0</td>\n",
       "      <td>[project, potential, limited, adverse, social,...</td>\n",
       "      <td>[project, potential, limited, adverse, social,...</td>\n",
       "    </tr>\n",
       "  </tbody>\n",
       "</table>\n",
       "</div>"
      ],
      "text/plain": [
       "                                                text  label  \\\n",
       "1  The Group is not aware of any noise pollution ...      0   \n",
       "2  Global climate change could exacerbate certain...      0   \n",
       "3  Setting an investment horizon is part and parc...      0   \n",
       "4  Climate change the physical impacts of climate...      0   \n",
       "5  Projects with potential limited adverse social...      0   \n",
       "\n",
       "                                           processed  \\\n",
       "1  [group, aware, noise, pollution, negatively, i...   \n",
       "2  [global, climate, change, exacerbate, certain,...   \n",
       "3  [set, investment, horizon, parcel, policy, foc...   \n",
       "4  [climate, change, physical, impact, climate, c...   \n",
       "5  [project, potential, limited, adverse, social,...   \n",
       "\n",
       "                                  processed_wo_punct  \n",
       "1  [group, aware, noise, pollution, negatively, i...  \n",
       "2  [global, climate, change, exacerbate, certain,...  \n",
       "3  [set, investment, horizon, parcel, policy, foc...  \n",
       "4  [climate, change, physical, impact, climate, c...  \n",
       "5  [project, potential, limited, adverse, social,...  "
      ]
     },
     "execution_count": 16,
     "metadata": {},
     "output_type": "execute_result"
    }
   ],
   "source": [
    "print(negative_df.shape)\n",
    "negative_df.head()"
   ]
  },
  {
   "cell_type": "markdown",
   "id": "0506ded3",
   "metadata": {},
   "source": [
    "## Word Frequency by Label"
   ]
  },
  {
   "cell_type": "markdown",
   "id": "713736c9",
   "metadata": {},
   "source": [
    "### Positive"
   ]
  },
  {
   "cell_type": "code",
   "execution_count": 17,
   "id": "a63da348",
   "metadata": {},
   "outputs": [],
   "source": [
    "from nltk import FreqDist"
   ]
  },
  {
   "cell_type": "code",
   "execution_count": 18,
   "id": "e62d0856",
   "metadata": {},
   "outputs": [],
   "source": [
    "positive_words = []\n",
    "for text in positive_df['processed_wo_punct']:\n",
    "    for word in text:\n",
    "        positive_words.append(word)"
   ]
  },
  {
   "cell_type": "code",
   "execution_count": 19,
   "id": "fb10b963",
   "metadata": {},
   "outputs": [],
   "source": [
    "positive_freq_df = pd.DataFrame()"
   ]
  },
  {
   "cell_type": "code",
   "execution_count": 20,
   "id": "b3066ef5",
   "metadata": {},
   "outputs": [],
   "source": [
    "positive_word_list = []\n",
    "positive_word_freq = []\n",
    "for item in FreqDist(positive_words):\n",
    "    positive_word_list.append(item)\n",
    "    positive_word_freq.append(FreqDist(positive_words)[item])"
   ]
  },
  {
   "cell_type": "code",
   "execution_count": 21,
   "id": "408b5604",
   "metadata": {},
   "outputs": [],
   "source": [
    "positive_freq_df['words'] = positive_word_list\n",
    "positive_freq_df['freq'] = positive_word_freq\n",
    "positive_freq_df.set_index('words', inplace = True)"
   ]
  },
  {
   "cell_type": "code",
   "execution_count": 22,
   "id": "291b8ca0",
   "metadata": {},
   "outputs": [
    {
     "name": "stdout",
     "output_type": "stream",
     "text": [
      "(2799, 1)\n"
     ]
    },
    {
     "data": {
      "text/html": [
       "<div>\n",
       "<style scoped>\n",
       "    .dataframe tbody tr th:only-of-type {\n",
       "        vertical-align: middle;\n",
       "    }\n",
       "\n",
       "    .dataframe tbody tr th {\n",
       "        vertical-align: top;\n",
       "    }\n",
       "\n",
       "    .dataframe thead th {\n",
       "        text-align: right;\n",
       "    }\n",
       "</style>\n",
       "<table border=\"1\" class=\"dataframe\">\n",
       "  <thead>\n",
       "    <tr style=\"text-align: right;\">\n",
       "      <th></th>\n",
       "      <th>freq</th>\n",
       "    </tr>\n",
       "    <tr>\n",
       "      <th>words</th>\n",
       "      <th></th>\n",
       "    </tr>\n",
       "  </thead>\n",
       "  <tbody>\n",
       "    <tr>\n",
       "      <th>energy</th>\n",
       "      <td>180</td>\n",
       "    </tr>\n",
       "    <tr>\n",
       "      <th>million</th>\n",
       "      <td>130</td>\n",
       "    </tr>\n",
       "    <tr>\n",
       "      <th>climate</th>\n",
       "      <td>116</td>\n",
       "    </tr>\n",
       "    <tr>\n",
       "      <th>investment</th>\n",
       "      <td>114</td>\n",
       "    </tr>\n",
       "    <tr>\n",
       "      <th>project</th>\n",
       "      <td>107</td>\n",
       "    </tr>\n",
       "    <tr>\n",
       "      <th>'s</th>\n",
       "      <td>97</td>\n",
       "    </tr>\n",
       "    <tr>\n",
       "      <th>carbon</th>\n",
       "      <td>82</td>\n",
       "    </tr>\n",
       "    <tr>\n",
       "      <th>emission</th>\n",
       "      <td>80</td>\n",
       "    </tr>\n",
       "    <tr>\n",
       "      <th>fund</th>\n",
       "      <td>80</td>\n",
       "    </tr>\n",
       "    <tr>\n",
       "      <th>green</th>\n",
       "      <td>80</td>\n",
       "    </tr>\n",
       "  </tbody>\n",
       "</table>\n",
       "</div>"
      ],
      "text/plain": [
       "            freq\n",
       "words           \n",
       "energy       180\n",
       "million      130\n",
       "climate      116\n",
       "investment   114\n",
       "project      107\n",
       "'s            97\n",
       "carbon        82\n",
       "emission      80\n",
       "fund          80\n",
       "green         80"
      ]
     },
     "execution_count": 22,
     "metadata": {},
     "output_type": "execute_result"
    }
   ],
   "source": [
    "print(positive_freq_df.shape)\n",
    "positive_freq_df.head(10)"
   ]
  },
  {
   "cell_type": "code",
   "execution_count": 23,
   "id": "63c5bf39",
   "metadata": {
    "scrolled": true
   },
   "outputs": [
    {
     "data": {
      "image/png": "[encoded data removed]",
      "text/plain": [
       "<Figure size 1080x360 with 1 Axes>"
      ]
     },
     "metadata": {
      "needs_background": "light"
     },
     "output_type": "display_data"
    }
   ],
   "source": [
    "positive_freq_df_plot = positive_freq_df.head(10).sort_values(by = 'freq', ascending = True).plot.barh(figsize = (15, 5))\n",
    "\n",
    "for container in positive_freq_df_plot.containers:\n",
    "    positive_freq_df_plot.bar_label(container)"
   ]
  },
  {
   "cell_type": "markdown",
   "id": "0183caa3",
   "metadata": {},
   "source": [
    "### Neutral"
   ]
  },
  {
   "cell_type": "code",
   "execution_count": 24,
   "id": "de86b1cb",
   "metadata": {},
   "outputs": [],
   "source": [
    "neutral_words = []\n",
    "for text in neutral_df['processed_wo_punct']:\n",
    "    for word in text:\n",
    "        neutral_words.append(word)"
   ]
  },
  {
   "cell_type": "code",
   "execution_count": 25,
   "id": "d0d3fa01",
   "metadata": {},
   "outputs": [],
   "source": [
    "neutral_freq_df = pd.DataFrame()"
   ]
  },
  {
   "cell_type": "code",
   "execution_count": 26,
   "id": "5c3bb7b6",
   "metadata": {},
   "outputs": [],
   "source": [
    "neutral_word_list = []\n",
    "neutral_word_freq = []\n",
    "for item in FreqDist(neutral_words):\n",
    "    neutral_word_list.append(item)\n",
    "    neutral_word_freq.append(FreqDist(neutral_words)[item])"
   ]
  },
  {
   "cell_type": "code",
   "execution_count": 27,
   "id": "a2a1385e",
   "metadata": {},
   "outputs": [],
   "source": [
    "neutral_freq_df['words'] = neutral_word_list\n",
    "neutral_freq_df['freq'] = neutral_word_freq\n",
    "neutral_freq_df.set_index('words', inplace = True)"
   ]
  },
  {
   "cell_type": "code",
   "execution_count": 28,
   "id": "bd9c88fd",
   "metadata": {},
   "outputs": [
    {
     "name": "stdout",
     "output_type": "stream",
     "text": [
      "(3279, 1)\n"
     ]
    },
    {
     "data": {
      "text/html": [
       "<div>\n",
       "<style scoped>\n",
       "    .dataframe tbody tr th:only-of-type {\n",
       "        vertical-align: middle;\n",
       "    }\n",
       "\n",
       "    .dataframe tbody tr th {\n",
       "        vertical-align: top;\n",
       "    }\n",
       "\n",
       "    .dataframe thead th {\n",
       "        text-align: right;\n",
       "    }\n",
       "</style>\n",
       "<table border=\"1\" class=\"dataframe\">\n",
       "  <thead>\n",
       "    <tr style=\"text-align: right;\">\n",
       "      <th></th>\n",
       "      <th>freq</th>\n",
       "    </tr>\n",
       "    <tr>\n",
       "      <th>words</th>\n",
       "      <th></th>\n",
       "    </tr>\n",
       "  </thead>\n",
       "  <tbody>\n",
       "    <tr>\n",
       "      <th>emission</th>\n",
       "      <td>259</td>\n",
       "    </tr>\n",
       "    <tr>\n",
       "      <th>climate</th>\n",
       "      <td>221</td>\n",
       "    </tr>\n",
       "    <tr>\n",
       "      <th>'s</th>\n",
       "      <td>157</td>\n",
       "    </tr>\n",
       "    <tr>\n",
       "      <th>risk</th>\n",
       "      <td>152</td>\n",
       "    </tr>\n",
       "    <tr>\n",
       "      <th>energy</th>\n",
       "      <td>138</td>\n",
       "    </tr>\n",
       "    <tr>\n",
       "      <th>carbon</th>\n",
       "      <td>137</td>\n",
       "    </tr>\n",
       "    <tr>\n",
       "      <th>change</th>\n",
       "      <td>131</td>\n",
       "    </tr>\n",
       "    <tr>\n",
       "      <th>environmental</th>\n",
       "      <td>124</td>\n",
       "    </tr>\n",
       "    <tr>\n",
       "      <th>target</th>\n",
       "      <td>114</td>\n",
       "    </tr>\n",
       "    <tr>\n",
       "      <th>include</th>\n",
       "      <td>109</td>\n",
       "    </tr>\n",
       "  </tbody>\n",
       "</table>\n",
       "</div>"
      ],
      "text/plain": [
       "               freq\n",
       "words              \n",
       "emission        259\n",
       "climate         221\n",
       "'s              157\n",
       "risk            152\n",
       "energy          138\n",
       "carbon          137\n",
       "change          131\n",
       "environmental   124\n",
       "target          114\n",
       "include         109"
      ]
     },
     "execution_count": 28,
     "metadata": {},
     "output_type": "execute_result"
    }
   ],
   "source": [
    "print(neutral_freq_df.shape)\n",
    "neutral_freq_df.head(10)"
   ]
  },
  {
   "cell_type": "code",
   "execution_count": 29,
   "id": "f7a12e8d",
   "metadata": {
    "scrolled": false
   },
   "outputs": [
    {
     "data": {
      "image/png": "[encoded data removed]",
      "text/plain": [
       "<Figure size 1080x360 with 1 Axes>"
      ]
     },
     "metadata": {
      "needs_background": "light"
     },
     "output_type": "display_data"
    }
   ],
   "source": [
    "neutral_freq_df_plot = neutral_freq_df.head(10).sort_values(by = 'freq', ascending = True).plot.barh(figsize = (15, 5))\n",
    "\n",
    "for container in neutral_freq_df_plot.containers:\n",
    "    neutral_freq_df_plot.bar_label(container)"
   ]
  },
  {
   "cell_type": "markdown",
   "id": "fd4e11e1",
   "metadata": {},
   "source": [
    "### Negative"
   ]
  },
  {
   "cell_type": "code",
   "execution_count": 30,
   "id": "b0086e17",
   "metadata": {},
   "outputs": [],
   "source": [
    "negative_words = []\n",
    "for text in negative_df['processed_wo_punct']:\n",
    "    for word in text:\n",
    "        negative_words.append(word)"
   ]
  },
  {
   "cell_type": "code",
   "execution_count": 31,
   "id": "73cc9bb1",
   "metadata": {},
   "outputs": [],
   "source": [
    "negative_freq_df = pd.DataFrame()"
   ]
  },
  {
   "cell_type": "code",
   "execution_count": 32,
   "id": "13a762be",
   "metadata": {},
   "outputs": [],
   "source": [
    "negative_word_list = []\n",
    "negative_word_freq = []\n",
    "for item in FreqDist(negative_words):\n",
    "    negative_word_list.append(item)\n",
    "    negative_word_freq.append(FreqDist(negative_words)[item])"
   ]
  },
  {
   "cell_type": "code",
   "execution_count": 33,
   "id": "02fe6ef6",
   "metadata": {},
   "outputs": [],
   "source": [
    "negative_freq_df['words'] = negative_word_list\n",
    "negative_freq_df['freq'] = negative_word_freq\n",
    "negative_freq_df.set_index('words', inplace = True)"
   ]
  },
  {
   "cell_type": "code",
   "execution_count": 34,
   "id": "05eed9ea",
   "metadata": {
    "scrolled": true
   },
   "outputs": [
    {
     "name": "stdout",
     "output_type": "stream",
     "text": [
      "(2811, 1)\n"
     ]
    },
    {
     "data": {
      "text/html": [
       "<div>\n",
       "<style scoped>\n",
       "    .dataframe tbody tr th:only-of-type {\n",
       "        vertical-align: middle;\n",
       "    }\n",
       "\n",
       "    .dataframe tbody tr th {\n",
       "        vertical-align: top;\n",
       "    }\n",
       "\n",
       "    .dataframe thead th {\n",
       "        text-align: right;\n",
       "    }\n",
       "</style>\n",
       "<table border=\"1\" class=\"dataframe\">\n",
       "  <thead>\n",
       "    <tr style=\"text-align: right;\">\n",
       "      <th></th>\n",
       "      <th>freq</th>\n",
       "    </tr>\n",
       "    <tr>\n",
       "      <th>words</th>\n",
       "      <th></th>\n",
       "    </tr>\n",
       "  </thead>\n",
       "  <tbody>\n",
       "    <tr>\n",
       "      <th>risk</th>\n",
       "      <td>597</td>\n",
       "    </tr>\n",
       "    <tr>\n",
       "      <th>change</th>\n",
       "      <td>301</td>\n",
       "    </tr>\n",
       "    <tr>\n",
       "      <th>climate</th>\n",
       "      <td>298</td>\n",
       "    </tr>\n",
       "    <tr>\n",
       "      <th>impact</th>\n",
       "      <td>242</td>\n",
       "    </tr>\n",
       "    <tr>\n",
       "      <th>increase</th>\n",
       "      <td>138</td>\n",
       "    </tr>\n",
       "    <tr>\n",
       "      <th>include</th>\n",
       "      <td>128</td>\n",
       "    </tr>\n",
       "    <tr>\n",
       "      <th>business</th>\n",
       "      <td>121</td>\n",
       "    </tr>\n",
       "    <tr>\n",
       "      <th>physical</th>\n",
       "      <td>121</td>\n",
       "    </tr>\n",
       "    <tr>\n",
       "      <th>'s</th>\n",
       "      <td>109</td>\n",
       "    </tr>\n",
       "    <tr>\n",
       "      <th>event</th>\n",
       "      <td>88</td>\n",
       "    </tr>\n",
       "  </tbody>\n",
       "</table>\n",
       "</div>"
      ],
      "text/plain": [
       "          freq\n",
       "words         \n",
       "risk       597\n",
       "change     301\n",
       "climate    298\n",
       "impact     242\n",
       "increase   138\n",
       "include    128\n",
       "business   121\n",
       "physical   121\n",
       "'s         109\n",
       "event       88"
      ]
     },
     "execution_count": 34,
     "metadata": {},
     "output_type": "execute_result"
    }
   ],
   "source": [
    "print(negative_freq_df.shape)\n",
    "negative_freq_df.head(10)"
   ]
  },
  {
   "cell_type": "code",
   "execution_count": 35,
   "id": "3e131c63",
   "metadata": {
    "scrolled": true
   },
   "outputs": [
    {
     "data": {
      "image/png": "[encoded data removed]",
      "text/plain": [
       "<Figure size 1080x360 with 1 Axes>"
      ]
     },
     "metadata": {
      "needs_background": "light"
     },
     "output_type": "display_data"
    }
   ],
   "source": [
    "negative_freq_df_plot = negative_freq_df.head(10).sort_values(by = 'freq', ascending = True).plot.barh(figsize = (15, 5))\n",
    "\n",
    "for container in negative_freq_df_plot.containers:\n",
    "    negative_freq_df_plot.bar_label(container)"
   ]
  },
  {
   "cell_type": "markdown",
   "id": "eafcbd55",
   "metadata": {},
   "source": [
    "### All"
   ]
  },
  {
   "cell_type": "code",
   "execution_count": 36,
   "id": "c7fbe326",
   "metadata": {},
   "outputs": [],
   "source": [
    "all_words = []\n",
    "for text in train_text_processed['processed_wo_punct']:\n",
    "    for word in text:\n",
    "        all_words.append(word)"
   ]
  },
  {
   "cell_type": "code",
   "execution_count": 37,
   "id": "162bb199",
   "metadata": {},
   "outputs": [],
   "source": [
    "all_freq_df = pd.DataFrame()"
   ]
  },
  {
   "cell_type": "code",
   "execution_count": 38,
   "id": "aea96559",
   "metadata": {},
   "outputs": [],
   "source": [
    "all_word_list = []\n",
    "all_word_freq = []\n",
    "for item in FreqDist(all_words):\n",
    "    all_word_list.append(item)\n",
    "    all_word_freq.append(FreqDist(all_words)[item])"
   ]
  },
  {
   "cell_type": "code",
   "execution_count": 39,
   "id": "14f8c3f3",
   "metadata": {},
   "outputs": [],
   "source": [
    "all_freq_df['words'] = all_word_list\n",
    "all_freq_df['freq'] = all_word_freq\n",
    "all_freq_df.set_index('words', inplace = True)"
   ]
  },
  {
   "cell_type": "code",
   "execution_count": 40,
   "id": "98f6ab2b",
   "metadata": {
    "scrolled": true
   },
   "outputs": [
    {
     "name": "stdout",
     "output_type": "stream",
     "text": [
      "(5747, 1)\n"
     ]
    },
    {
     "data": {
      "text/html": [
       "<div>\n",
       "<style scoped>\n",
       "    .dataframe tbody tr th:only-of-type {\n",
       "        vertical-align: middle;\n",
       "    }\n",
       "\n",
       "    .dataframe tbody tr th {\n",
       "        vertical-align: top;\n",
       "    }\n",
       "\n",
       "    .dataframe thead th {\n",
       "        text-align: right;\n",
       "    }\n",
       "</style>\n",
       "<table border=\"1\" class=\"dataframe\">\n",
       "  <thead>\n",
       "    <tr style=\"text-align: right;\">\n",
       "      <th></th>\n",
       "      <th>freq</th>\n",
       "    </tr>\n",
       "    <tr>\n",
       "      <th>words</th>\n",
       "      <th></th>\n",
       "    </tr>\n",
       "  </thead>\n",
       "  <tbody>\n",
       "    <tr>\n",
       "      <th>risk</th>\n",
       "      <td>772</td>\n",
       "    </tr>\n",
       "    <tr>\n",
       "      <th>climate</th>\n",
       "      <td>635</td>\n",
       "    </tr>\n",
       "    <tr>\n",
       "      <th>change</th>\n",
       "      <td>487</td>\n",
       "    </tr>\n",
       "    <tr>\n",
       "      <th>emission</th>\n",
       "      <td>402</td>\n",
       "    </tr>\n",
       "    <tr>\n",
       "      <th>energy</th>\n",
       "      <td>388</td>\n",
       "    </tr>\n",
       "    <tr>\n",
       "      <th>'s</th>\n",
       "      <td>363</td>\n",
       "    </tr>\n",
       "    <tr>\n",
       "      <th>impact</th>\n",
       "      <td>331</td>\n",
       "    </tr>\n",
       "    <tr>\n",
       "      <th>include</th>\n",
       "      <td>298</td>\n",
       "    </tr>\n",
       "    <tr>\n",
       "      <th>carbon</th>\n",
       "      <td>291</td>\n",
       "    </tr>\n",
       "    <tr>\n",
       "      <th>investment</th>\n",
       "      <td>287</td>\n",
       "    </tr>\n",
       "  </tbody>\n",
       "</table>\n",
       "</div>"
      ],
      "text/plain": [
       "            freq\n",
       "words           \n",
       "risk         772\n",
       "climate      635\n",
       "change       487\n",
       "emission     402\n",
       "energy       388\n",
       "'s           363\n",
       "impact       331\n",
       "include      298\n",
       "carbon       291\n",
       "investment   287"
      ]
     },
     "execution_count": 40,
     "metadata": {},
     "output_type": "execute_result"
    }
   ],
   "source": [
    "print(all_freq_df.shape)\n",
    "all_freq_df.head(10)"
   ]
  },
  {
   "cell_type": "code",
   "execution_count": 41,
   "id": "e611dec8",
   "metadata": {
    "scrolled": true
   },
   "outputs": [
    {
     "data": {
      "image/png": "[encoded data removed]",
      "text/plain": [
       "<Figure size 1080x360 with 1 Axes>"
      ]
     },
     "metadata": {
      "needs_background": "light"
     },
     "output_type": "display_data"
    }
   ],
   "source": [
    "all_freq_df_plot = all_freq_df.head(10).sort_values(by = 'freq', ascending = True).plot.barh(figsize = (15, 5))\n",
    "\n",
    "for container in all_freq_df_plot.containers:\n",
    "    all_freq_df_plot.bar_label(container)"
   ]
  },
  {
   "cell_type": "markdown",
   "id": "04d372b2",
   "metadata": {},
   "source": [
    "### Compare"
   ]
  },
  {
   "cell_type": "code",
   "execution_count": 42,
   "id": "b8985d57",
   "metadata": {},
   "outputs": [],
   "source": [
    "all_total = sum([num for num in all_freq_df['freq']])\n",
    "positive_total = sum([num for num in positive_freq_df['freq']])\n",
    "neutral_total = sum([num for num in neutral_freq_df['freq']])\n",
    "negative_total = sum([num for num in negative_freq_df['freq']])\n",
    "total_list = [all_total, positive_total, neutral_total, negative_total]"
   ]
  },
  {
   "cell_type": "code",
   "execution_count": 128,
   "id": "34716a1b",
   "metadata": {},
   "outputs": [
    {
     "data": {
      "text/plain": [
       "[43303, 11597, 16730, 14976]"
      ]
     },
     "execution_count": 128,
     "metadata": {},
     "output_type": "execute_result"
    }
   ],
   "source": [
    "total_list"
   ]
  },
  {
   "cell_type": "code",
   "execution_count": 43,
   "id": "44d73440",
   "metadata": {},
   "outputs": [],
   "source": [
    "top_10_word = all_freq_df.index.tolist()[0:10]"
   ]
  },
  {
   "cell_type": "code",
   "execution_count": 44,
   "id": "321e5fa6",
   "metadata": {},
   "outputs": [],
   "source": [
    "all_word_df = all_freq_df.head(10).copy().drop('freq', axis = 1)\n",
    "\n",
    "all_freq_top_10 = [num for num in all_freq_df.head(10)['freq']]\n",
    "all_word_df['All'] = all_freq_top_10\n",
    "\n",
    "positive_freq_top_10 = []\n",
    "for word in top_10_word:\n",
    "    for item in FreqDist(positive_words):\n",
    "        if word == item:\n",
    "            positive_freq_top_10.append(FreqDist(positive_words)[word])\n",
    "all_word_df['Positive'] = positive_freq_top_10\n",
    "\n",
    "neutral_freq_top_10 = []\n",
    "for word in top_10_word:\n",
    "    for item in FreqDist(neutral_words):\n",
    "        if word == item:\n",
    "            neutral_freq_top_10.append(FreqDist(neutral_words)[word])\n",
    "all_word_df['Neutral'] = neutral_freq_top_10\n",
    "\n",
    "negative_freq_top_10 = []\n",
    "for word in top_10_word:\n",
    "    for item in FreqDist(negative_words):\n",
    "        if word == item:\n",
    "            negative_freq_top_10.append(FreqDist(negative_words)[word])\n",
    "all_word_df['Negative'] = negative_freq_top_10"
   ]
  },
  {
   "cell_type": "code",
   "execution_count": 45,
   "id": "0b919c07",
   "metadata": {},
   "outputs": [
    {
     "data": {
      "text/html": [
       "<div>\n",
       "<style scoped>\n",
       "    .dataframe tbody tr th:only-of-type {\n",
       "        vertical-align: middle;\n",
       "    }\n",
       "\n",
       "    .dataframe tbody tr th {\n",
       "        vertical-align: top;\n",
       "    }\n",
       "\n",
       "    .dataframe thead th {\n",
       "        text-align: right;\n",
       "    }\n",
       "</style>\n",
       "<table border=\"1\" class=\"dataframe\">\n",
       "  <thead>\n",
       "    <tr style=\"text-align: right;\">\n",
       "      <th></th>\n",
       "      <th>All</th>\n",
       "      <th>Positive</th>\n",
       "      <th>Neutral</th>\n",
       "      <th>Negative</th>\n",
       "    </tr>\n",
       "    <tr>\n",
       "      <th>words</th>\n",
       "      <th></th>\n",
       "      <th></th>\n",
       "      <th></th>\n",
       "      <th></th>\n",
       "    </tr>\n",
       "  </thead>\n",
       "  <tbody>\n",
       "    <tr>\n",
       "      <th>risk</th>\n",
       "      <td>772</td>\n",
       "      <td>23</td>\n",
       "      <td>152</td>\n",
       "      <td>597</td>\n",
       "    </tr>\n",
       "    <tr>\n",
       "      <th>climate</th>\n",
       "      <td>635</td>\n",
       "      <td>116</td>\n",
       "      <td>221</td>\n",
       "      <td>298</td>\n",
       "    </tr>\n",
       "    <tr>\n",
       "      <th>change</th>\n",
       "      <td>487</td>\n",
       "      <td>55</td>\n",
       "      <td>131</td>\n",
       "      <td>301</td>\n",
       "    </tr>\n",
       "    <tr>\n",
       "      <th>emission</th>\n",
       "      <td>402</td>\n",
       "      <td>80</td>\n",
       "      <td>259</td>\n",
       "      <td>63</td>\n",
       "    </tr>\n",
       "    <tr>\n",
       "      <th>energy</th>\n",
       "      <td>388</td>\n",
       "      <td>180</td>\n",
       "      <td>138</td>\n",
       "      <td>70</td>\n",
       "    </tr>\n",
       "    <tr>\n",
       "      <th>'s</th>\n",
       "      <td>363</td>\n",
       "      <td>97</td>\n",
       "      <td>157</td>\n",
       "      <td>109</td>\n",
       "    </tr>\n",
       "    <tr>\n",
       "      <th>impact</th>\n",
       "      <td>331</td>\n",
       "      <td>25</td>\n",
       "      <td>64</td>\n",
       "      <td>242</td>\n",
       "    </tr>\n",
       "    <tr>\n",
       "      <th>include</th>\n",
       "      <td>298</td>\n",
       "      <td>61</td>\n",
       "      <td>109</td>\n",
       "      <td>128</td>\n",
       "    </tr>\n",
       "    <tr>\n",
       "      <th>carbon</th>\n",
       "      <td>291</td>\n",
       "      <td>82</td>\n",
       "      <td>137</td>\n",
       "      <td>72</td>\n",
       "    </tr>\n",
       "    <tr>\n",
       "      <th>investment</th>\n",
       "      <td>287</td>\n",
       "      <td>114</td>\n",
       "      <td>106</td>\n",
       "      <td>67</td>\n",
       "    </tr>\n",
       "  </tbody>\n",
       "</table>\n",
       "</div>"
      ],
      "text/plain": [
       "            All  Positive  Neutral  Negative\n",
       "words                                       \n",
       "risk        772        23      152       597\n",
       "climate     635       116      221       298\n",
       "change      487        55      131       301\n",
       "emission    402        80      259        63\n",
       "energy      388       180      138        70\n",
       "'s          363        97      157       109\n",
       "impact      331        25       64       242\n",
       "include     298        61      109       128\n",
       "carbon      291        82      137        72\n",
       "investment  287       114      106        67"
      ]
     },
     "execution_count": 45,
     "metadata": {},
     "output_type": "execute_result"
    }
   ],
   "source": [
    "all_word_df"
   ]
  },
  {
   "cell_type": "code",
   "execution_count": 46,
   "id": "06178b1b",
   "metadata": {},
   "outputs": [],
   "source": [
    "all_word_df_pro = all_freq_df.head(10).copy().drop('freq', axis = 1)\n",
    "\n",
    "all_pro = [(num / all_total) for num in all_freq_df.head(10)['freq']]\n",
    "all_word_df_pro['All'] = all_pro\n",
    "\n",
    "positive_pro = []\n",
    "for word in top_10_word:\n",
    "    for item in FreqDist(positive_words):\n",
    "        if word == item:\n",
    "            positive_pro.append(FreqDist(positive_words)[word] / positive_total)\n",
    "all_word_df_pro['Positive'] = positive_pro\n",
    "\n",
    "neutral_pro = []\n",
    "for word in top_10_word:\n",
    "    for item in FreqDist(neutral_words):\n",
    "        if word == item:\n",
    "            neutral_pro.append(FreqDist(neutral_words)[word] / neutral_total)\n",
    "all_word_df_pro['Neutral'] = neutral_pro\n",
    "\n",
    "negative_pro = []\n",
    "for word in top_10_word:\n",
    "    for item in FreqDist(neutral_words):\n",
    "        if word == item:\n",
    "            negative_pro.append(FreqDist(negative_words)[word] / negative_total)\n",
    "all_word_df_pro['Negative'] = negative_pro"
   ]
  },
  {
   "cell_type": "code",
   "execution_count": 47,
   "id": "a0a4d66f",
   "metadata": {
    "scrolled": false
   },
   "outputs": [
    {
     "data": {
      "text/html": [
       "<div>\n",
       "<style scoped>\n",
       "    .dataframe tbody tr th:only-of-type {\n",
       "        vertical-align: middle;\n",
       "    }\n",
       "\n",
       "    .dataframe tbody tr th {\n",
       "        vertical-align: top;\n",
       "    }\n",
       "\n",
       "    .dataframe thead th {\n",
       "        text-align: right;\n",
       "    }\n",
       "</style>\n",
       "<table border=\"1\" class=\"dataframe\">\n",
       "  <thead>\n",
       "    <tr style=\"text-align: right;\">\n",
       "      <th></th>\n",
       "      <th>All</th>\n",
       "      <th>Positive</th>\n",
       "      <th>Neutral</th>\n",
       "      <th>Negative</th>\n",
       "    </tr>\n",
       "    <tr>\n",
       "      <th>words</th>\n",
       "      <th></th>\n",
       "      <th></th>\n",
       "      <th></th>\n",
       "      <th></th>\n",
       "    </tr>\n",
       "  </thead>\n",
       "  <tbody>\n",
       "    <tr>\n",
       "      <th>risk</th>\n",
       "      <td>1.78</td>\n",
       "      <td>0.20</td>\n",
       "      <td>0.91</td>\n",
       "      <td>3.99</td>\n",
       "    </tr>\n",
       "    <tr>\n",
       "      <th>climate</th>\n",
       "      <td>1.47</td>\n",
       "      <td>1.00</td>\n",
       "      <td>1.32</td>\n",
       "      <td>1.99</td>\n",
       "    </tr>\n",
       "    <tr>\n",
       "      <th>change</th>\n",
       "      <td>1.12</td>\n",
       "      <td>0.47</td>\n",
       "      <td>0.78</td>\n",
       "      <td>2.01</td>\n",
       "    </tr>\n",
       "    <tr>\n",
       "      <th>emission</th>\n",
       "      <td>0.93</td>\n",
       "      <td>0.69</td>\n",
       "      <td>1.55</td>\n",
       "      <td>0.42</td>\n",
       "    </tr>\n",
       "    <tr>\n",
       "      <th>energy</th>\n",
       "      <td>0.90</td>\n",
       "      <td>1.55</td>\n",
       "      <td>0.82</td>\n",
       "      <td>0.47</td>\n",
       "    </tr>\n",
       "    <tr>\n",
       "      <th>'s</th>\n",
       "      <td>0.84</td>\n",
       "      <td>0.84</td>\n",
       "      <td>0.94</td>\n",
       "      <td>0.73</td>\n",
       "    </tr>\n",
       "    <tr>\n",
       "      <th>impact</th>\n",
       "      <td>0.76</td>\n",
       "      <td>0.22</td>\n",
       "      <td>0.38</td>\n",
       "      <td>1.62</td>\n",
       "    </tr>\n",
       "    <tr>\n",
       "      <th>include</th>\n",
       "      <td>0.69</td>\n",
       "      <td>0.53</td>\n",
       "      <td>0.65</td>\n",
       "      <td>0.85</td>\n",
       "    </tr>\n",
       "    <tr>\n",
       "      <th>carbon</th>\n",
       "      <td>0.67</td>\n",
       "      <td>0.71</td>\n",
       "      <td>0.82</td>\n",
       "      <td>0.48</td>\n",
       "    </tr>\n",
       "    <tr>\n",
       "      <th>investment</th>\n",
       "      <td>0.66</td>\n",
       "      <td>0.98</td>\n",
       "      <td>0.63</td>\n",
       "      <td>0.45</td>\n",
       "    </tr>\n",
       "  </tbody>\n",
       "</table>\n",
       "</div>"
      ],
      "text/plain": [
       "             All  Positive  Neutral  Negative\n",
       "words                                        \n",
       "risk        1.78      0.20     0.91      3.99\n",
       "climate     1.47      1.00     1.32      1.99\n",
       "change      1.12      0.47     0.78      2.01\n",
       "emission    0.93      0.69     1.55      0.42\n",
       "energy      0.90      1.55     0.82      0.47\n",
       "'s          0.84      0.84     0.94      0.73\n",
       "impact      0.76      0.22     0.38      1.62\n",
       "include     0.69      0.53     0.65      0.85\n",
       "carbon      0.67      0.71     0.82      0.48\n",
       "investment  0.66      0.98     0.63      0.45"
      ]
     },
     "execution_count": 47,
     "metadata": {},
     "output_type": "execute_result"
    }
   ],
   "source": [
    "(all_word_df_pro * 100).round(2)"
   ]
  },
  {
   "cell_type": "code",
   "execution_count": 48,
   "id": "b3b483ad",
   "metadata": {},
   "outputs": [],
   "source": [
    "from statsmodels.stats.proportion import proportions_ztest"
   ]
  },
  {
   "cell_type": "code",
   "execution_count": 49,
   "id": "8fb71152",
   "metadata": {},
   "outputs": [],
   "source": [
    "def ztesting(df, df2):\n",
    "    \n",
    "    df_new = df.copy()\n",
    "    \n",
    "    for i in range(0, len(df.columns)):\n",
    "        result_list = []\n",
    "        \n",
    "        for row in range(0, len(df)):\n",
    "            result_set = []\n",
    "            \n",
    "            for j in range(0, len(df.columns)):\n",
    "                if not i == j:\n",
    "                    \n",
    "                    z_score, p_value = proportions_ztest(\n",
    "                            [df[df.columns[i]][row], df[df.columns[j]][row]], [total_list[i], total_list[j]]\n",
    "                        )\n",
    "                    \n",
    "                    if p_value < 0.05:\n",
    "                        if max([df2[df2.columns[i]][row], df2[df2.columns[j]][row]]) == df2[df2.columns[i]][row]:\n",
    "                            result_set.append(j)\n",
    "                        else:\n",
    "                            result_set.append('')\n",
    "                    \n",
    "                    else:\n",
    "                        result_set.append('')\n",
    "            \n",
    "            result_list.append(result_set)\n",
    "        \n",
    "        df_new[df.columns[i]] = result_list\n",
    "    \n",
    "    return df_new"
   ]
  },
  {
   "cell_type": "code",
   "execution_count": 50,
   "id": "1939622e",
   "metadata": {
    "scrolled": true
   },
   "outputs": [
    {
     "data": {
      "text/html": [
       "<div>\n",
       "<style scoped>\n",
       "    .dataframe tbody tr th:only-of-type {\n",
       "        vertical-align: middle;\n",
       "    }\n",
       "\n",
       "    .dataframe tbody tr th {\n",
       "        vertical-align: top;\n",
       "    }\n",
       "\n",
       "    .dataframe thead th {\n",
       "        text-align: right;\n",
       "    }\n",
       "</style>\n",
       "<table border=\"1\" class=\"dataframe\">\n",
       "  <thead>\n",
       "    <tr style=\"text-align: right;\">\n",
       "      <th></th>\n",
       "      <th>All</th>\n",
       "      <th>Positive</th>\n",
       "      <th>Neutral</th>\n",
       "      <th>Negative</th>\n",
       "    </tr>\n",
       "    <tr>\n",
       "      <th>words</th>\n",
       "      <th></th>\n",
       "      <th></th>\n",
       "      <th></th>\n",
       "      <th></th>\n",
       "    </tr>\n",
       "  </thead>\n",
       "  <tbody>\n",
       "    <tr>\n",
       "      <th>risk</th>\n",
       "      <td>[1, 2, ]</td>\n",
       "      <td>[, , ]</td>\n",
       "      <td>[, 1, ]</td>\n",
       "      <td>[0, 1, 2]</td>\n",
       "    </tr>\n",
       "    <tr>\n",
       "      <th>climate</th>\n",
       "      <td>[1, , ]</td>\n",
       "      <td>[, , ]</td>\n",
       "      <td>[, 1, ]</td>\n",
       "      <td>[0, 1, 2]</td>\n",
       "    </tr>\n",
       "    <tr>\n",
       "      <th>change</th>\n",
       "      <td>[1, 2, ]</td>\n",
       "      <td>[, , ]</td>\n",
       "      <td>[, 1, ]</td>\n",
       "      <td>[0, 1, 2]</td>\n",
       "    </tr>\n",
       "    <tr>\n",
       "      <th>emission</th>\n",
       "      <td>[1, , 3]</td>\n",
       "      <td>[, , 3]</td>\n",
       "      <td>[0, 1, 3]</td>\n",
       "      <td>[, , ]</td>\n",
       "    </tr>\n",
       "    <tr>\n",
       "      <th>energy</th>\n",
       "      <td>[, , 3]</td>\n",
       "      <td>[0, 2, 3]</td>\n",
       "      <td>[, , 3]</td>\n",
       "      <td>[, , ]</td>\n",
       "    </tr>\n",
       "    <tr>\n",
       "      <th>'s</th>\n",
       "      <td>[, , ]</td>\n",
       "      <td>[, , ]</td>\n",
       "      <td>[, , 3]</td>\n",
       "      <td>[, , ]</td>\n",
       "    </tr>\n",
       "    <tr>\n",
       "      <th>impact</th>\n",
       "      <td>[1, 2, ]</td>\n",
       "      <td>[, , ]</td>\n",
       "      <td>[, 1, ]</td>\n",
       "      <td>[0, 1, 2]</td>\n",
       "    </tr>\n",
       "    <tr>\n",
       "      <th>include</th>\n",
       "      <td>[, , ]</td>\n",
       "      <td>[, , ]</td>\n",
       "      <td>[, , ]</td>\n",
       "      <td>[0, 1, 2]</td>\n",
       "    </tr>\n",
       "    <tr>\n",
       "      <th>carbon</th>\n",
       "      <td>[, , 3]</td>\n",
       "      <td>[, , 3]</td>\n",
       "      <td>[, , 3]</td>\n",
       "      <td>[, , ]</td>\n",
       "    </tr>\n",
       "    <tr>\n",
       "      <th>investment</th>\n",
       "      <td>[, , 3]</td>\n",
       "      <td>[0, 2, 3]</td>\n",
       "      <td>[, , 3]</td>\n",
       "      <td>[, , ]</td>\n",
       "    </tr>\n",
       "  </tbody>\n",
       "</table>\n",
       "</div>"
      ],
      "text/plain": [
       "                 All   Positive    Neutral   Negative\n",
       "words                                                \n",
       "risk        [1, 2, ]     [, , ]    [, 1, ]  [0, 1, 2]\n",
       "climate      [1, , ]     [, , ]    [, 1, ]  [0, 1, 2]\n",
       "change      [1, 2, ]     [, , ]    [, 1, ]  [0, 1, 2]\n",
       "emission    [1, , 3]    [, , 3]  [0, 1, 3]     [, , ]\n",
       "energy       [, , 3]  [0, 2, 3]    [, , 3]     [, , ]\n",
       "'s            [, , ]     [, , ]    [, , 3]     [, , ]\n",
       "impact      [1, 2, ]     [, , ]    [, 1, ]  [0, 1, 2]\n",
       "include       [, , ]     [, , ]     [, , ]  [0, 1, 2]\n",
       "carbon       [, , 3]    [, , 3]    [, , 3]     [, , ]\n",
       "investment   [, , 3]  [0, 2, 3]    [, , 3]     [, , ]"
      ]
     },
     "execution_count": 50,
     "metadata": {},
     "output_type": "execute_result"
    }
   ],
   "source": [
    "ztesting(all_word_df, all_word_df_pro)"
   ]
  },
  {
   "cell_type": "markdown",
   "id": "87921539",
   "metadata": {},
   "source": [
    "## Bi-gram Frequency by Label"
   ]
  },
  {
   "cell_type": "markdown",
   "id": "c17f7da4",
   "metadata": {},
   "source": [
    "### Positive"
   ]
  },
  {
   "cell_type": "code",
   "execution_count": 51,
   "id": "c7fa7efe",
   "metadata": {},
   "outputs": [],
   "source": [
    "positive_bi = []\n",
    "for text in positive_df['processed_wo_punct']:\n",
    "    bigram = list(nltk.bigrams(text))\n",
    "    for bi in bigram:\n",
    "        positive_bi.append(bi)"
   ]
  },
  {
   "cell_type": "code",
   "execution_count": 52,
   "id": "31815faf",
   "metadata": {},
   "outputs": [],
   "source": [
    "positive_bifreq_df = pd.DataFrame()"
   ]
  },
  {
   "cell_type": "code",
   "execution_count": 53,
   "id": "dbe9ce32",
   "metadata": {},
   "outputs": [],
   "source": [
    "positive_bi_list = []\n",
    "positive_bi_freq = []\n",
    "for item in FreqDist(positive_bi):\n",
    "    positive_bi_list.append(item)\n",
    "    positive_bi_freq.append(FreqDist(positive_bi)[item])"
   ]
  },
  {
   "cell_type": "code",
   "execution_count": 54,
   "id": "264a4dc0",
   "metadata": {},
   "outputs": [],
   "source": [
    "positive_bifreq_df['words'] = positive_bi_list\n",
    "positive_bifreq_df['freq'] = positive_bi_freq\n",
    "positive_bifreq_df.set_index('words', inplace = True)"
   ]
  },
  {
   "cell_type": "code",
   "execution_count": 55,
   "id": "e29681cf",
   "metadata": {},
   "outputs": [
    {
     "name": "stdout",
     "output_type": "stream",
     "text": [
      "(9441, 1)\n"
     ]
    },
    {
     "data": {
      "text/html": [
       "<div>\n",
       "<style scoped>\n",
       "    .dataframe tbody tr th:only-of-type {\n",
       "        vertical-align: middle;\n",
       "    }\n",
       "\n",
       "    .dataframe tbody tr th {\n",
       "        vertical-align: top;\n",
       "    }\n",
       "\n",
       "    .dataframe thead th {\n",
       "        text-align: right;\n",
       "    }\n",
       "</style>\n",
       "<table border=\"1\" class=\"dataframe\">\n",
       "  <thead>\n",
       "    <tr style=\"text-align: right;\">\n",
       "      <th></th>\n",
       "      <th>freq</th>\n",
       "    </tr>\n",
       "    <tr>\n",
       "      <th>words</th>\n",
       "      <th></th>\n",
       "    </tr>\n",
       "  </thead>\n",
       "  <tbody>\n",
       "    <tr>\n",
       "      <th>(renewable, energy)</th>\n",
       "      <td>49</td>\n",
       "    </tr>\n",
       "    <tr>\n",
       "      <th>(climate, change)</th>\n",
       "      <td>48</td>\n",
       "    </tr>\n",
       "    <tr>\n",
       "      <th>(energy, efficiency)</th>\n",
       "      <td>27</td>\n",
       "    </tr>\n",
       "    <tr>\n",
       "      <th>(green, bond)</th>\n",
       "      <td>26</td>\n",
       "    </tr>\n",
       "    <tr>\n",
       "      <th>(wind, farm)</th>\n",
       "      <td>17</td>\n",
       "    </tr>\n",
       "    <tr>\n",
       "      <th>(carbon, emission)</th>\n",
       "      <td>17</td>\n",
       "    </tr>\n",
       "    <tr>\n",
       "      <th>(electric, vehicle)</th>\n",
       "      <td>17</td>\n",
       "    </tr>\n",
       "    <tr>\n",
       "      <th>(sustainable, development)</th>\n",
       "      <td>16</td>\n",
       "    </tr>\n",
       "    <tr>\n",
       "      <th>(development, goal)</th>\n",
       "      <td>14</td>\n",
       "    </tr>\n",
       "    <tr>\n",
       "      <th>(climate, action)</th>\n",
       "      <td>13</td>\n",
       "    </tr>\n",
       "  </tbody>\n",
       "</table>\n",
       "</div>"
      ],
      "text/plain": [
       "                            freq\n",
       "words                           \n",
       "(renewable, energy)           49\n",
       "(climate, change)             48\n",
       "(energy, efficiency)          27\n",
       "(green, bond)                 26\n",
       "(wind, farm)                  17\n",
       "(carbon, emission)            17\n",
       "(electric, vehicle)           17\n",
       "(sustainable, development)    16\n",
       "(development, goal)           14\n",
       "(climate, action)             13"
      ]
     },
     "execution_count": 55,
     "metadata": {},
     "output_type": "execute_result"
    }
   ],
   "source": [
    "print(positive_bifreq_df.shape)\n",
    "positive_bifreq_df.head(10)"
   ]
  },
  {
   "cell_type": "code",
   "execution_count": 56,
   "id": "a381ba2f",
   "metadata": {
    "scrolled": true
   },
   "outputs": [
    {
     "data": {
      "image/png": "[encoded data removed]",
      "text/plain": [
       "<Figure size 1080x360 with 1 Axes>"
      ]
     },
     "metadata": {
      "needs_background": "light"
     },
     "output_type": "display_data"
    }
   ],
   "source": [
    "positive_bifreq_df_plot = positive_bifreq_df.head(10).sort_values(by = 'freq', ascending = True).plot.barh(figsize = (15, 5))\n",
    "\n",
    "for container in positive_bifreq_df_plot.containers:\n",
    "    positive_bifreq_df_plot.bar_label(container)"
   ]
  },
  {
   "cell_type": "markdown",
   "id": "fcce487e",
   "metadata": {},
   "source": [
    "### Neutral"
   ]
  },
  {
   "cell_type": "code",
   "execution_count": 57,
   "id": "7fa7e084",
   "metadata": {},
   "outputs": [],
   "source": [
    "neutral_bi = []\n",
    "for text in neutral_df['processed_wo_punct']:\n",
    "    bigram = list(nltk.bigrams(text))\n",
    "    for bi in bigram:\n",
    "        neutral_bi.append(bi)"
   ]
  },
  {
   "cell_type": "code",
   "execution_count": 58,
   "id": "0d780776",
   "metadata": {},
   "outputs": [],
   "source": [
    "neutral_bifreq_df = pd.DataFrame()"
   ]
  },
  {
   "cell_type": "code",
   "execution_count": 59,
   "id": "605462f6",
   "metadata": {},
   "outputs": [],
   "source": [
    "neutral_bi_list = []\n",
    "neutral_bi_freq = []\n",
    "for item in FreqDist(neutral_bi):\n",
    "    neutral_bi_list.append(item)\n",
    "    neutral_bi_freq.append(FreqDist(neutral_bi)[item])"
   ]
  },
  {
   "cell_type": "code",
   "execution_count": 60,
   "id": "e2296bc0",
   "metadata": {},
   "outputs": [],
   "source": [
    "neutral_bifreq_df['words'] = neutral_bi_list\n",
    "neutral_bifreq_df['freq'] = neutral_bi_freq\n",
    "neutral_bifreq_df.set_index('words', inplace = True)"
   ]
  },
  {
   "cell_type": "code",
   "execution_count": 61,
   "id": "333e84e1",
   "metadata": {},
   "outputs": [
    {
     "name": "stdout",
     "output_type": "stream",
     "text": [
      "(12992, 1)\n"
     ]
    },
    {
     "data": {
      "text/html": [
       "<div>\n",
       "<style scoped>\n",
       "    .dataframe tbody tr th:only-of-type {\n",
       "        vertical-align: middle;\n",
       "    }\n",
       "\n",
       "    .dataframe tbody tr th {\n",
       "        vertical-align: top;\n",
       "    }\n",
       "\n",
       "    .dataframe thead th {\n",
       "        text-align: right;\n",
       "    }\n",
       "</style>\n",
       "<table border=\"1\" class=\"dataframe\">\n",
       "  <thead>\n",
       "    <tr style=\"text-align: right;\">\n",
       "      <th></th>\n",
       "      <th>freq</th>\n",
       "    </tr>\n",
       "    <tr>\n",
       "      <th>words</th>\n",
       "      <th></th>\n",
       "    </tr>\n",
       "  </thead>\n",
       "  <tbody>\n",
       "    <tr>\n",
       "      <th>(climate, change)</th>\n",
       "      <td>98</td>\n",
       "    </tr>\n",
       "    <tr>\n",
       "      <th>(environmental, social)</th>\n",
       "      <td>61</td>\n",
       "    </tr>\n",
       "    <tr>\n",
       "      <th>(social, governance)</th>\n",
       "      <td>51</td>\n",
       "    </tr>\n",
       "    <tr>\n",
       "      <th>(greenhouse, gas)</th>\n",
       "      <td>48</td>\n",
       "    </tr>\n",
       "    <tr>\n",
       "      <th>(gas, emission)</th>\n",
       "      <td>33</td>\n",
       "    </tr>\n",
       "    <tr>\n",
       "      <th>(risk, opportunity)</th>\n",
       "      <td>33</td>\n",
       "    </tr>\n",
       "    <tr>\n",
       "      <th>(paris, agreement)</th>\n",
       "      <td>28</td>\n",
       "    </tr>\n",
       "    <tr>\n",
       "      <th>(scope, 3)</th>\n",
       "      <td>26</td>\n",
       "    </tr>\n",
       "    <tr>\n",
       "      <th>(oil, gas)</th>\n",
       "      <td>24</td>\n",
       "    </tr>\n",
       "    <tr>\n",
       "      <th>(bnp, paribas)</th>\n",
       "      <td>24</td>\n",
       "    </tr>\n",
       "  </tbody>\n",
       "</table>\n",
       "</div>"
      ],
      "text/plain": [
       "                         freq\n",
       "words                        \n",
       "(climate, change)          98\n",
       "(environmental, social)    61\n",
       "(social, governance)       51\n",
       "(greenhouse, gas)          48\n",
       "(gas, emission)            33\n",
       "(risk, opportunity)        33\n",
       "(paris, agreement)         28\n",
       "(scope, 3)                 26\n",
       "(oil, gas)                 24\n",
       "(bnp, paribas)             24"
      ]
     },
     "execution_count": 61,
     "metadata": {},
     "output_type": "execute_result"
    }
   ],
   "source": [
    "print(neutral_bifreq_df.shape)\n",
    "neutral_bifreq_df.head(10)"
   ]
  },
  {
   "cell_type": "code",
   "execution_count": 62,
   "id": "b0ec4854",
   "metadata": {
    "scrolled": true
   },
   "outputs": [
    {
     "data": {
      "image/png": "[encoded data removed]",
      "text/plain": [
       "<Figure size 1080x360 with 1 Axes>"
      ]
     },
     "metadata": {
      "needs_background": "light"
     },
     "output_type": "display_data"
    }
   ],
   "source": [
    "neutral_bifreq_df_plot = neutral_bifreq_df.head(10).sort_values(by = 'freq', ascending = True).plot.barh(figsize = (15, 5))\n",
    "\n",
    "for container in neutral_bifreq_df_plot.containers:\n",
    "    neutral_bifreq_df_plot.bar_label(container)"
   ]
  },
  {
   "cell_type": "markdown",
   "id": "8fcdc940",
   "metadata": {},
   "source": [
    "### Negative"
   ]
  },
  {
   "cell_type": "code",
   "execution_count": 63,
   "id": "83acfb56",
   "metadata": {},
   "outputs": [],
   "source": [
    "negative_bi = []\n",
    "for text in negative_df['processed_wo_punct']:\n",
    "    bigram = list(nltk.bigrams(text))\n",
    "    for bi in bigram:\n",
    "        negative_bi.append(bi)"
   ]
  },
  {
   "cell_type": "code",
   "execution_count": 64,
   "id": "772758d2",
   "metadata": {},
   "outputs": [],
   "source": [
    "negative_bifreq_df = pd.DataFrame()"
   ]
  },
  {
   "cell_type": "code",
   "execution_count": 65,
   "id": "0ab74033",
   "metadata": {},
   "outputs": [],
   "source": [
    "negative_bi_list = []\n",
    "negative_bi_freq = []\n",
    "for item in FreqDist(negative_bi):\n",
    "    negative_bi_list.append(item)\n",
    "    negative_bi_freq.append(FreqDist(negative_bi)[item])"
   ]
  },
  {
   "cell_type": "code",
   "execution_count": 66,
   "id": "ae24e8a9",
   "metadata": {},
   "outputs": [],
   "source": [
    "negative_bifreq_df['words'] = negative_bi_list\n",
    "negative_bifreq_df['freq'] = negative_bi_freq\n",
    "negative_bifreq_df.set_index('words', inplace = True)"
   ]
  },
  {
   "cell_type": "code",
   "execution_count": 67,
   "id": "0334f9c8",
   "metadata": {},
   "outputs": [
    {
     "name": "stdout",
     "output_type": "stream",
     "text": [
      "(11179, 1)\n"
     ]
    },
    {
     "data": {
      "text/html": [
       "<div>\n",
       "<style scoped>\n",
       "    .dataframe tbody tr th:only-of-type {\n",
       "        vertical-align: middle;\n",
       "    }\n",
       "\n",
       "    .dataframe tbody tr th {\n",
       "        vertical-align: top;\n",
       "    }\n",
       "\n",
       "    .dataframe thead th {\n",
       "        text-align: right;\n",
       "    }\n",
       "</style>\n",
       "<table border=\"1\" class=\"dataframe\">\n",
       "  <thead>\n",
       "    <tr style=\"text-align: right;\">\n",
       "      <th></th>\n",
       "      <th>freq</th>\n",
       "    </tr>\n",
       "    <tr>\n",
       "      <th>words</th>\n",
       "      <th></th>\n",
       "    </tr>\n",
       "  </thead>\n",
       "  <tbody>\n",
       "    <tr>\n",
       "      <th>(climate, change)</th>\n",
       "      <td>207</td>\n",
       "    </tr>\n",
       "    <tr>\n",
       "      <th>(physical, risk)</th>\n",
       "      <td>75</td>\n",
       "    </tr>\n",
       "    <tr>\n",
       "      <th>(extreme, weather)</th>\n",
       "      <td>49</td>\n",
       "    </tr>\n",
       "    <tr>\n",
       "      <th>(weather, event)</th>\n",
       "      <td>47</td>\n",
       "    </tr>\n",
       "    <tr>\n",
       "      <th>(transition, risk)</th>\n",
       "      <td>37</td>\n",
       "    </tr>\n",
       "    <tr>\n",
       "      <th>(risk, management)</th>\n",
       "      <td>36</td>\n",
       "    </tr>\n",
       "    <tr>\n",
       "      <th>(impact, climate)</th>\n",
       "      <td>30</td>\n",
       "    </tr>\n",
       "    <tr>\n",
       "      <th>(climate, risk)</th>\n",
       "      <td>27</td>\n",
       "    </tr>\n",
       "    <tr>\n",
       "      <th>(greenhouse, gas)</th>\n",
       "      <td>23</td>\n",
       "    </tr>\n",
       "    <tr>\n",
       "      <th>(supply, chain)</th>\n",
       "      <td>23</td>\n",
       "    </tr>\n",
       "  </tbody>\n",
       "</table>\n",
       "</div>"
      ],
      "text/plain": [
       "                    freq\n",
       "words                   \n",
       "(climate, change)    207\n",
       "(physical, risk)      75\n",
       "(extreme, weather)    49\n",
       "(weather, event)      47\n",
       "(transition, risk)    37\n",
       "(risk, management)    36\n",
       "(impact, climate)     30\n",
       "(climate, risk)       27\n",
       "(greenhouse, gas)     23\n",
       "(supply, chain)       23"
      ]
     },
     "execution_count": 67,
     "metadata": {},
     "output_type": "execute_result"
    }
   ],
   "source": [
    "print(negative_bifreq_df.shape)\n",
    "negative_bifreq_df.head(10)"
   ]
  },
  {
   "cell_type": "code",
   "execution_count": 68,
   "id": "fac01c4f",
   "metadata": {
    "scrolled": true
   },
   "outputs": [
    {
     "data": {
      "image/png": "[encoded data removed]",
      "text/plain": [
       "<Figure size 1080x360 with 1 Axes>"
      ]
     },
     "metadata": {
      "needs_background": "light"
     },
     "output_type": "display_data"
    }
   ],
   "source": [
    "negative_bifreq_df_plot = negative_bifreq_df.head(10).sort_values(by = 'freq', ascending = True).plot.barh(figsize = (15, 5))\n",
    "\n",
    "for container in negative_bifreq_df_plot.containers:\n",
    "    negative_bifreq_df_plot.bar_label(container)"
   ]
  },
  {
   "cell_type": "markdown",
   "id": "ef2ad2e5",
   "metadata": {},
   "source": [
    "### All"
   ]
  },
  {
   "cell_type": "code",
   "execution_count": 69,
   "id": "84eef71c",
   "metadata": {},
   "outputs": [],
   "source": [
    "all_bi = []\n",
    "for text in train_text_processed['processed_wo_punct']:\n",
    "    bigram = list(nltk.bigrams(text))\n",
    "    for bi in bigram:\n",
    "        all_bi.append(bi)"
   ]
  },
  {
   "cell_type": "code",
   "execution_count": 70,
   "id": "1924433e",
   "metadata": {},
   "outputs": [],
   "source": [
    "all_bifreq_df = pd.DataFrame()"
   ]
  },
  {
   "cell_type": "code",
   "execution_count": 71,
   "id": "34b4b3e8",
   "metadata": {},
   "outputs": [],
   "source": [
    "all_bi_list = []\n",
    "all_bi_freq = []\n",
    "for item in FreqDist(all_bi):\n",
    "    all_bi_list.append(item)\n",
    "    all_bi_freq.append(FreqDist(all_bi)[item])"
   ]
  },
  {
   "cell_type": "code",
   "execution_count": 72,
   "id": "c3bf048f",
   "metadata": {},
   "outputs": [],
   "source": [
    "all_bifreq_df['words'] = all_bi_list\n",
    "all_bifreq_df['freq'] = all_bi_freq\n",
    "all_bifreq_df.set_index('words', inplace = True)"
   ]
  },
  {
   "cell_type": "code",
   "execution_count": 73,
   "id": "59522279",
   "metadata": {},
   "outputs": [
    {
     "name": "stdout",
     "output_type": "stream",
     "text": [
      "(31399, 1)\n"
     ]
    },
    {
     "data": {
      "text/html": [
       "<div>\n",
       "<style scoped>\n",
       "    .dataframe tbody tr th:only-of-type {\n",
       "        vertical-align: middle;\n",
       "    }\n",
       "\n",
       "    .dataframe tbody tr th {\n",
       "        vertical-align: top;\n",
       "    }\n",
       "\n",
       "    .dataframe thead th {\n",
       "        text-align: right;\n",
       "    }\n",
       "</style>\n",
       "<table border=\"1\" class=\"dataframe\">\n",
       "  <thead>\n",
       "    <tr style=\"text-align: right;\">\n",
       "      <th></th>\n",
       "      <th>freq</th>\n",
       "    </tr>\n",
       "    <tr>\n",
       "      <th>words</th>\n",
       "      <th></th>\n",
       "    </tr>\n",
       "  </thead>\n",
       "  <tbody>\n",
       "    <tr>\n",
       "      <th>(climate, change)</th>\n",
       "      <td>353</td>\n",
       "    </tr>\n",
       "    <tr>\n",
       "      <th>(environmental, social)</th>\n",
       "      <td>88</td>\n",
       "    </tr>\n",
       "    <tr>\n",
       "      <th>(greenhouse, gas)</th>\n",
       "      <td>81</td>\n",
       "    </tr>\n",
       "    <tr>\n",
       "      <th>(renewable, energy)</th>\n",
       "      <td>78</td>\n",
       "    </tr>\n",
       "    <tr>\n",
       "      <th>(physical, risk)</th>\n",
       "      <td>77</td>\n",
       "    </tr>\n",
       "    <tr>\n",
       "      <th>(social, governance)</th>\n",
       "      <td>60</td>\n",
       "    </tr>\n",
       "    <tr>\n",
       "      <th>(gas, emission)</th>\n",
       "      <td>56</td>\n",
       "    </tr>\n",
       "    <tr>\n",
       "      <th>(climate, risk)</th>\n",
       "      <td>53</td>\n",
       "    </tr>\n",
       "    <tr>\n",
       "      <th>(energy, efficiency)</th>\n",
       "      <td>52</td>\n",
       "    </tr>\n",
       "    <tr>\n",
       "      <th>(extreme, weather)</th>\n",
       "      <td>51</td>\n",
       "    </tr>\n",
       "  </tbody>\n",
       "</table>\n",
       "</div>"
      ],
      "text/plain": [
       "                         freq\n",
       "words                        \n",
       "(climate, change)         353\n",
       "(environmental, social)    88\n",
       "(greenhouse, gas)          81\n",
       "(renewable, energy)        78\n",
       "(physical, risk)           77\n",
       "(social, governance)       60\n",
       "(gas, emission)            56\n",
       "(climate, risk)            53\n",
       "(energy, efficiency)       52\n",
       "(extreme, weather)         51"
      ]
     },
     "execution_count": 73,
     "metadata": {},
     "output_type": "execute_result"
    }
   ],
   "source": [
    "print(all_bifreq_df.shape)\n",
    "all_bifreq_df.head(10)"
   ]
  },
  {
   "cell_type": "code",
   "execution_count": 74,
   "id": "795a7d44",
   "metadata": {
    "scrolled": true
   },
   "outputs": [
    {
     "data": {
      "image/png": "[encoded data removed]",
      "text/plain": [
       "<Figure size 1080x360 with 1 Axes>"
      ]
     },
     "metadata": {
      "needs_background": "light"
     },
     "output_type": "display_data"
    }
   ],
   "source": [
    "all_bifreq_df_plot = all_bifreq_df.head(10).sort_values(by = 'freq', ascending = True).plot.barh(figsize = (15, 5))\n",
    "\n",
    "for container in all_bifreq_df_plot.containers:\n",
    "    all_bifreq_df_plot.bar_label(container)"
   ]
  },
  {
   "cell_type": "markdown",
   "id": "6be4e338",
   "metadata": {},
   "source": [
    "### Compare"
   ]
  },
  {
   "cell_type": "code",
   "execution_count": 75,
   "id": "2cd1217a",
   "metadata": {},
   "outputs": [],
   "source": [
    "all_bitotal = sum([num for num in all_bifreq_df['freq']])\n",
    "positive_bitotal = sum([num for num in positive_bifreq_df['freq']])\n",
    "neutral_bitotal = sum([num for num in neutral_bifreq_df['freq']])\n",
    "negative_bitotal = sum([num for num in negative_bifreq_df['freq']])\n",
    "total_bilist = [all_bitotal, positive_bitotal, neutral_bitotal, negative_bitotal]"
   ]
  },
  {
   "cell_type": "code",
   "execution_count": 129,
   "id": "749b5907",
   "metadata": {},
   "outputs": [
    {
     "data": {
      "text/plain": [
       "[42303, 11347, 16322, 14634]"
      ]
     },
     "execution_count": 129,
     "metadata": {},
     "output_type": "execute_result"
    }
   ],
   "source": [
    "total_bilist"
   ]
  },
  {
   "cell_type": "code",
   "execution_count": 76,
   "id": "72cec922",
   "metadata": {},
   "outputs": [],
   "source": [
    "top_10_biword = all_bifreq_df.index.tolist()[0:10]"
   ]
  },
  {
   "cell_type": "code",
   "execution_count": 77,
   "id": "39c17b2d",
   "metadata": {},
   "outputs": [],
   "source": [
    "all_biword_df = all_bifreq_df.head(10).copy().drop('freq', axis = 1)\n",
    "\n",
    "all_bifreq_top_10 = [num for num in all_bifreq_df.head(10)['freq']]\n",
    "all_biword_df['All'] = all_bifreq_top_10\n",
    "\n",
    "positive_bifreq_top_10 = []\n",
    "for word in top_10_biword:\n",
    "    if word in [('physical', 'risk'), ('extreme', 'weather')]:\n",
    "        positive_bifreq_top_10.append(0)\n",
    "    for item in FreqDist(positive_bi):\n",
    "        if word == item:\n",
    "            positive_bifreq_top_10.append(FreqDist(positive_bi)[word])\n",
    "all_biword_df['Positive'] = positive_bifreq_top_10\n",
    "\n",
    "neutral_bifreq_top_10 = []\n",
    "for word in top_10_biword:\n",
    "    for item in FreqDist(neutral_bi):\n",
    "        if word == item:\n",
    "            neutral_bifreq_top_10.append(FreqDist(neutral_bi)[word])\n",
    "all_biword_df['Neutral'] = neutral_bifreq_top_10\n",
    "\n",
    "negative_bifreq_top_10 = []\n",
    "for word in top_10_biword:\n",
    "    for item in FreqDist(negative_bi):\n",
    "        if word == item:\n",
    "            negative_bifreq_top_10.append(FreqDist(negative_bi)[word])\n",
    "all_biword_df['Negative'] = negative_bifreq_top_10"
   ]
  },
  {
   "cell_type": "code",
   "execution_count": 78,
   "id": "d305dbb4",
   "metadata": {},
   "outputs": [
    {
     "data": {
      "text/html": [
       "<div>\n",
       "<style scoped>\n",
       "    .dataframe tbody tr th:only-of-type {\n",
       "        vertical-align: middle;\n",
       "    }\n",
       "\n",
       "    .dataframe tbody tr th {\n",
       "        vertical-align: top;\n",
       "    }\n",
       "\n",
       "    .dataframe thead th {\n",
       "        text-align: right;\n",
       "    }\n",
       "</style>\n",
       "<table border=\"1\" class=\"dataframe\">\n",
       "  <thead>\n",
       "    <tr style=\"text-align: right;\">\n",
       "      <th></th>\n",
       "      <th>All</th>\n",
       "      <th>Positive</th>\n",
       "      <th>Neutral</th>\n",
       "      <th>Negative</th>\n",
       "    </tr>\n",
       "    <tr>\n",
       "      <th>words</th>\n",
       "      <th></th>\n",
       "      <th></th>\n",
       "      <th></th>\n",
       "      <th></th>\n",
       "    </tr>\n",
       "  </thead>\n",
       "  <tbody>\n",
       "    <tr>\n",
       "      <th>(climate, change)</th>\n",
       "      <td>353</td>\n",
       "      <td>48</td>\n",
       "      <td>98</td>\n",
       "      <td>207</td>\n",
       "    </tr>\n",
       "    <tr>\n",
       "      <th>(environmental, social)</th>\n",
       "      <td>88</td>\n",
       "      <td>10</td>\n",
       "      <td>61</td>\n",
       "      <td>17</td>\n",
       "    </tr>\n",
       "    <tr>\n",
       "      <th>(greenhouse, gas)</th>\n",
       "      <td>81</td>\n",
       "      <td>10</td>\n",
       "      <td>48</td>\n",
       "      <td>23</td>\n",
       "    </tr>\n",
       "    <tr>\n",
       "      <th>(renewable, energy)</th>\n",
       "      <td>78</td>\n",
       "      <td>49</td>\n",
       "      <td>20</td>\n",
       "      <td>9</td>\n",
       "    </tr>\n",
       "    <tr>\n",
       "      <th>(physical, risk)</th>\n",
       "      <td>77</td>\n",
       "      <td>0</td>\n",
       "      <td>2</td>\n",
       "      <td>75</td>\n",
       "    </tr>\n",
       "    <tr>\n",
       "      <th>(social, governance)</th>\n",
       "      <td>60</td>\n",
       "      <td>3</td>\n",
       "      <td>51</td>\n",
       "      <td>6</td>\n",
       "    </tr>\n",
       "    <tr>\n",
       "      <th>(gas, emission)</th>\n",
       "      <td>56</td>\n",
       "      <td>8</td>\n",
       "      <td>33</td>\n",
       "      <td>15</td>\n",
       "    </tr>\n",
       "    <tr>\n",
       "      <th>(climate, risk)</th>\n",
       "      <td>53</td>\n",
       "      <td>5</td>\n",
       "      <td>21</td>\n",
       "      <td>27</td>\n",
       "    </tr>\n",
       "    <tr>\n",
       "      <th>(energy, efficiency)</th>\n",
       "      <td>52</td>\n",
       "      <td>27</td>\n",
       "      <td>22</td>\n",
       "      <td>3</td>\n",
       "    </tr>\n",
       "    <tr>\n",
       "      <th>(extreme, weather)</th>\n",
       "      <td>51</td>\n",
       "      <td>0</td>\n",
       "      <td>2</td>\n",
       "      <td>49</td>\n",
       "    </tr>\n",
       "  </tbody>\n",
       "</table>\n",
       "</div>"
      ],
      "text/plain": [
       "                         All  Positive  Neutral  Negative\n",
       "words                                                    \n",
       "(climate, change)        353        48       98       207\n",
       "(environmental, social)   88        10       61        17\n",
       "(greenhouse, gas)         81        10       48        23\n",
       "(renewable, energy)       78        49       20         9\n",
       "(physical, risk)          77         0        2        75\n",
       "(social, governance)      60         3       51         6\n",
       "(gas, emission)           56         8       33        15\n",
       "(climate, risk)           53         5       21        27\n",
       "(energy, efficiency)      52        27       22         3\n",
       "(extreme, weather)        51         0        2        49"
      ]
     },
     "execution_count": 78,
     "metadata": {},
     "output_type": "execute_result"
    }
   ],
   "source": [
    "all_biword_df"
   ]
  },
  {
   "cell_type": "code",
   "execution_count": 79,
   "id": "1e6a450a",
   "metadata": {},
   "outputs": [],
   "source": [
    "all_biword_df_pro = all_bifreq_df.head(10).copy().drop('freq', axis = 1)\n",
    "\n",
    "all_bipro = [(num / all_bitotal) for num in all_bifreq_df.head(10)['freq']]\n",
    "all_biword_df_pro['All'] = all_bipro\n",
    "\n",
    "positive_bipro = []\n",
    "for word in top_10_biword:\n",
    "    if word in [('physical', 'risk'), ('extreme', 'weather')]:\n",
    "        positive_bipro.append(0)\n",
    "    for item in FreqDist(positive_bi):\n",
    "        if word == item:\n",
    "            positive_bipro.append(FreqDist(positive_bi)[word] / positive_bitotal)\n",
    "all_biword_df_pro['Positive'] = positive_bipro\n",
    "\n",
    "neutral_bipro = []\n",
    "for word in top_10_biword:\n",
    "    for item in FreqDist(neutral_bi):\n",
    "        if word == item:\n",
    "            neutral_bipro.append(FreqDist(neutral_bi)[word] / neutral_bitotal)\n",
    "all_biword_df_pro['Neutral'] = neutral_bipro\n",
    "\n",
    "negative_bipro = []\n",
    "for word in top_10_biword:\n",
    "    for item in FreqDist(neutral_bi):\n",
    "        if word == item:\n",
    "            negative_bipro.append(FreqDist(negative_bi)[word] / negative_bitotal)\n",
    "all_biword_df_pro['Negative'] = negative_bipro"
   ]
  },
  {
   "cell_type": "code",
   "execution_count": 80,
   "id": "607e492a",
   "metadata": {
    "scrolled": false
   },
   "outputs": [
    {
     "data": {
      "text/html": [
       "<div>\n",
       "<style scoped>\n",
       "    .dataframe tbody tr th:only-of-type {\n",
       "        vertical-align: middle;\n",
       "    }\n",
       "\n",
       "    .dataframe tbody tr th {\n",
       "        vertical-align: top;\n",
       "    }\n",
       "\n",
       "    .dataframe thead th {\n",
       "        text-align: right;\n",
       "    }\n",
       "</style>\n",
       "<table border=\"1\" class=\"dataframe\">\n",
       "  <thead>\n",
       "    <tr style=\"text-align: right;\">\n",
       "      <th></th>\n",
       "      <th>All</th>\n",
       "      <th>Positive</th>\n",
       "      <th>Neutral</th>\n",
       "      <th>Negative</th>\n",
       "    </tr>\n",
       "    <tr>\n",
       "      <th>words</th>\n",
       "      <th></th>\n",
       "      <th></th>\n",
       "      <th></th>\n",
       "      <th></th>\n",
       "    </tr>\n",
       "  </thead>\n",
       "  <tbody>\n",
       "    <tr>\n",
       "      <th>(climate, change)</th>\n",
       "      <td>0.83</td>\n",
       "      <td>0.42</td>\n",
       "      <td>0.60</td>\n",
       "      <td>1.41</td>\n",
       "    </tr>\n",
       "    <tr>\n",
       "      <th>(environmental, social)</th>\n",
       "      <td>0.21</td>\n",
       "      <td>0.09</td>\n",
       "      <td>0.37</td>\n",
       "      <td>0.12</td>\n",
       "    </tr>\n",
       "    <tr>\n",
       "      <th>(greenhouse, gas)</th>\n",
       "      <td>0.19</td>\n",
       "      <td>0.09</td>\n",
       "      <td>0.29</td>\n",
       "      <td>0.16</td>\n",
       "    </tr>\n",
       "    <tr>\n",
       "      <th>(renewable, energy)</th>\n",
       "      <td>0.18</td>\n",
       "      <td>0.43</td>\n",
       "      <td>0.12</td>\n",
       "      <td>0.06</td>\n",
       "    </tr>\n",
       "    <tr>\n",
       "      <th>(physical, risk)</th>\n",
       "      <td>0.18</td>\n",
       "      <td>0.00</td>\n",
       "      <td>0.01</td>\n",
       "      <td>0.51</td>\n",
       "    </tr>\n",
       "    <tr>\n",
       "      <th>(social, governance)</th>\n",
       "      <td>0.14</td>\n",
       "      <td>0.03</td>\n",
       "      <td>0.31</td>\n",
       "      <td>0.04</td>\n",
       "    </tr>\n",
       "    <tr>\n",
       "      <th>(gas, emission)</th>\n",
       "      <td>0.13</td>\n",
       "      <td>0.07</td>\n",
       "      <td>0.20</td>\n",
       "      <td>0.10</td>\n",
       "    </tr>\n",
       "    <tr>\n",
       "      <th>(climate, risk)</th>\n",
       "      <td>0.13</td>\n",
       "      <td>0.04</td>\n",
       "      <td>0.13</td>\n",
       "      <td>0.18</td>\n",
       "    </tr>\n",
       "    <tr>\n",
       "      <th>(energy, efficiency)</th>\n",
       "      <td>0.12</td>\n",
       "      <td>0.24</td>\n",
       "      <td>0.13</td>\n",
       "      <td>0.02</td>\n",
       "    </tr>\n",
       "    <tr>\n",
       "      <th>(extreme, weather)</th>\n",
       "      <td>0.12</td>\n",
       "      <td>0.00</td>\n",
       "      <td>0.01</td>\n",
       "      <td>0.33</td>\n",
       "    </tr>\n",
       "  </tbody>\n",
       "</table>\n",
       "</div>"
      ],
      "text/plain": [
       "                          All  Positive  Neutral  Negative\n",
       "words                                                     \n",
       "(climate, change)        0.83      0.42     0.60      1.41\n",
       "(environmental, social)  0.21      0.09     0.37      0.12\n",
       "(greenhouse, gas)        0.19      0.09     0.29      0.16\n",
       "(renewable, energy)      0.18      0.43     0.12      0.06\n",
       "(physical, risk)         0.18      0.00     0.01      0.51\n",
       "(social, governance)     0.14      0.03     0.31      0.04\n",
       "(gas, emission)          0.13      0.07     0.20      0.10\n",
       "(climate, risk)          0.13      0.04     0.13      0.18\n",
       "(energy, efficiency)     0.12      0.24     0.13      0.02\n",
       "(extreme, weather)       0.12      0.00     0.01      0.33"
      ]
     },
     "execution_count": 80,
     "metadata": {},
     "output_type": "execute_result"
    }
   ],
   "source": [
    "(all_biword_df_pro * 100).round(2)"
   ]
  },
  {
   "cell_type": "code",
   "execution_count": 81,
   "id": "848029a2",
   "metadata": {
    "scrolled": true
   },
   "outputs": [
    {
     "data": {
      "text/html": [
       "<div>\n",
       "<style scoped>\n",
       "    .dataframe tbody tr th:only-of-type {\n",
       "        vertical-align: middle;\n",
       "    }\n",
       "\n",
       "    .dataframe tbody tr th {\n",
       "        vertical-align: top;\n",
       "    }\n",
       "\n",
       "    .dataframe thead th {\n",
       "        text-align: right;\n",
       "    }\n",
       "</style>\n",
       "<table border=\"1\" class=\"dataframe\">\n",
       "  <thead>\n",
       "    <tr style=\"text-align: right;\">\n",
       "      <th></th>\n",
       "      <th>All</th>\n",
       "      <th>Positive</th>\n",
       "      <th>Neutral</th>\n",
       "      <th>Negative</th>\n",
       "    </tr>\n",
       "    <tr>\n",
       "      <th>words</th>\n",
       "      <th></th>\n",
       "      <th></th>\n",
       "      <th></th>\n",
       "      <th></th>\n",
       "    </tr>\n",
       "  </thead>\n",
       "  <tbody>\n",
       "    <tr>\n",
       "      <th>(climate, change)</th>\n",
       "      <td>[1, 2, ]</td>\n",
       "      <td>[, , ]</td>\n",
       "      <td>[, 1, ]</td>\n",
       "      <td>[0, 1, 2]</td>\n",
       "    </tr>\n",
       "    <tr>\n",
       "      <th>(environmental, social)</th>\n",
       "      <td>[1, , 3]</td>\n",
       "      <td>[, , ]</td>\n",
       "      <td>[0, 1, 3]</td>\n",
       "      <td>[, , ]</td>\n",
       "    </tr>\n",
       "    <tr>\n",
       "      <th>(greenhouse, gas)</th>\n",
       "      <td>[1, , ]</td>\n",
       "      <td>[, , ]</td>\n",
       "      <td>[0, 1, 3]</td>\n",
       "      <td>[, , ]</td>\n",
       "    </tr>\n",
       "    <tr>\n",
       "      <th>(renewable, energy)</th>\n",
       "      <td>[, , 3]</td>\n",
       "      <td>[0, 2, 3]</td>\n",
       "      <td>[, , ]</td>\n",
       "      <td>[, , ]</td>\n",
       "    </tr>\n",
       "    <tr>\n",
       "      <th>(physical, risk)</th>\n",
       "      <td>[1, 2, ]</td>\n",
       "      <td>[, , ]</td>\n",
       "      <td>[, , ]</td>\n",
       "      <td>[0, 1, 2]</td>\n",
       "    </tr>\n",
       "    <tr>\n",
       "      <th>(social, governance)</th>\n",
       "      <td>[1, , 3]</td>\n",
       "      <td>[, , ]</td>\n",
       "      <td>[0, 1, 3]</td>\n",
       "      <td>[, , ]</td>\n",
       "    </tr>\n",
       "    <tr>\n",
       "      <th>(gas, emission)</th>\n",
       "      <td>[, , ]</td>\n",
       "      <td>[, , ]</td>\n",
       "      <td>[, 1, 3]</td>\n",
       "      <td>[, , ]</td>\n",
       "    </tr>\n",
       "    <tr>\n",
       "      <th>(climate, risk)</th>\n",
       "      <td>[1, , ]</td>\n",
       "      <td>[, , ]</td>\n",
       "      <td>[, 1, ]</td>\n",
       "      <td>[, 1, ]</td>\n",
       "    </tr>\n",
       "    <tr>\n",
       "      <th>(energy, efficiency)</th>\n",
       "      <td>[, , 3]</td>\n",
       "      <td>[0, 2, 3]</td>\n",
       "      <td>[, , 3]</td>\n",
       "      <td>[, , ]</td>\n",
       "    </tr>\n",
       "    <tr>\n",
       "      <th>(extreme, weather)</th>\n",
       "      <td>[1, 2, ]</td>\n",
       "      <td>[, , ]</td>\n",
       "      <td>[, , ]</td>\n",
       "      <td>[0, 1, 2]</td>\n",
       "    </tr>\n",
       "  </tbody>\n",
       "</table>\n",
       "</div>"
      ],
      "text/plain": [
       "                              All   Positive    Neutral   Negative\n",
       "words                                                             \n",
       "(climate, change)        [1, 2, ]     [, , ]    [, 1, ]  [0, 1, 2]\n",
       "(environmental, social)  [1, , 3]     [, , ]  [0, 1, 3]     [, , ]\n",
       "(greenhouse, gas)         [1, , ]     [, , ]  [0, 1, 3]     [, , ]\n",
       "(renewable, energy)       [, , 3]  [0, 2, 3]     [, , ]     [, , ]\n",
       "(physical, risk)         [1, 2, ]     [, , ]     [, , ]  [0, 1, 2]\n",
       "(social, governance)     [1, , 3]     [, , ]  [0, 1, 3]     [, , ]\n",
       "(gas, emission)            [, , ]     [, , ]   [, 1, 3]     [, , ]\n",
       "(climate, risk)           [1, , ]     [, , ]    [, 1, ]    [, 1, ]\n",
       "(energy, efficiency)      [, , 3]  [0, 2, 3]    [, , 3]     [, , ]\n",
       "(extreme, weather)       [1, 2, ]     [, , ]     [, , ]  [0, 1, 2]"
      ]
     },
     "execution_count": 81,
     "metadata": {},
     "output_type": "execute_result"
    }
   ],
   "source": [
    "ztesting(all_biword_df, all_biword_df_pro)"
   ]
  },
  {
   "cell_type": "markdown",
   "id": "de3a9f67",
   "metadata": {},
   "source": [
    "# Topic Modelling"
   ]
  },
  {
   "cell_type": "code",
   "execution_count": 82,
   "id": "3cc492e2",
   "metadata": {},
   "outputs": [],
   "source": [
    "import smart_open\n",
    "import pyLDAvis.gensim_models as gensimvis\n",
    "import pyLDAvis\n",
    "import gensim\n",
    "from gensim.models import CoherenceModel\n",
    "from gensim import corpora, models\n",
    "from gensim.test.utils import common_texts\n",
    "from gensim.corpora.dictionary import Dictionary\n",
    "from gensim.corpora import Dictionary\n",
    "from gensim.models.ldamodel import LdaModel\n",
    "from gensim import corpora\n",
    "from gensim.models import LdaModel"
   ]
  },
  {
   "cell_type": "markdown",
   "id": "302e2b39",
   "metadata": {},
   "source": [
    "## Positive"
   ]
  },
  {
   "cell_type": "code",
   "execution_count": 83,
   "id": "7c72792f",
   "metadata": {},
   "outputs": [],
   "source": [
    "positive_texts = []\n",
    "for text in positive_df['processed_wo_punct']:\n",
    "    positive_texts.append(text)"
   ]
  },
  {
   "cell_type": "code",
   "execution_count": 84,
   "id": "b231cd2b",
   "metadata": {},
   "outputs": [
    {
     "name": "stdout",
     "output_type": "stream",
     "text": [
      "(0, '0.016*\"energy\" + 0.010*\"\\'s\" + 0.009*\"climate\" + 0.008*\"million\" + 0.007*\"renewable\" + 0.006*\"sustainable\" + 0.006*\"change\" + 0.005*\"efficiency\" + 0.005*\"power\" + 0.005*\"generation\"')\n",
      "(1, '0.015*\"energy\" + 0.010*\"project\" + 0.008*\"emission\" + 0.008*\"new\" + 0.007*\"renewable\" + 0.007*\"2019\" + 0.007*\"fuel\" + 0.006*\"total\" + 0.006*\"index\" + 0.006*\"gas\"')\n",
      "(2, '0.013*\"million\" + 0.012*\"investment\" + 0.011*\"fund\" + 0.011*\"finance\" + 0.010*\"green\" + 0.009*\"climate\" + 0.009*\"carbon\" + 0.009*\"project\" + 0.008*\"energy\" + 0.008*\"sustainable\"')\n"
     ]
    }
   ],
   "source": [
    "positive_dictionary = corpora.Dictionary(positive_texts)\n",
    "positive_corpus = [positive_dictionary.doc2bow(doc) for doc in positive_texts]\n",
    "\n",
    "positive_model = LdaModel(\n",
    "    corpus = positive_corpus,\n",
    "    id2word = positive_dictionary,\n",
    "    num_topics = 3,\n",
    "    alpha = 2,\n",
    "    eta = 'auto',\n",
    "    passes = 10,\n",
    "    random_state = 10,\n",
    "    per_word_topics = True)\n",
    "\n",
    "for topic in positive_model.print_topics():\n",
    "    print(topic)"
   ]
  },
  {
   "cell_type": "code",
   "execution_count": 85,
   "id": "b63199a3",
   "metadata": {
    "scrolled": false
   },
   "outputs": [
    {
     "data": {
      "text/html": [
       "\n",
       "<link rel=\"stylesheet\" type=\"text/css\" href=\"https://cdn.jsdelivr.net/gh/bmabey/pyLDAvis@3.4.0/pyLDAvis/js/ldavis.v1.0.0.css\">\n",
       "\n",
       "\n",
       "<div id=\"ldavis_el1700020255335049768632412140\" style=\"background-color:white;\"></div>\n",
       "<script type=\"text/javascript\">\n",
       "\n",
       "var ldavis_el1700020255335049768632412140_data = {\"mdsDat\": {\"x\": [0.08243452318894036, 0.004772553936444596, -0.087207077125385], \"y\": [0.04274208995846667, -0.07883089394497642, 0.036088803986509696], \"topics\": [1, 2, 3], \"cluster\": [1, 1, 1], \"Freq\": [40.272690310771694, 30.884214741814088, 28.843094947414222]}, \"tinfo\": {\"Term\": [\"index\", \"finance\", \"fund\", \"fuel\", \"generation\", \"farm\", \"http\", \"eni\", \"sustainable\", \"private\", \"bond\", \"energy\", \"reduction\", \"factor\", \"tilt\", \"help\", \"increase\", \"wind\", \"renewable\", \"portfolio\", \"heat\", \"issue\", \"power\", \"expect\", \"green\", \"infrastructure\", \"2\", \"loan\", \"offer\", \"launch\", \"wealth\", \"private\", \"mobilize\", \"net\", \"loan\", \"usd\", \"catalyst\", \"eligible\", \"estate\", \"portfolio\", \"mortgage\", \"real\", \"equinor\", \"challenge\", \"eso\", \"implementation\", \"range\", \"gwm\", \"institution\", \"institutional\", \"offer\", \"e-face\", \"benchmark\", \"leader\", \"young\", \"tcnv\", \"related\", \"renovation\", \"creation\", \"norway\", \"finance\", \"issue\", \"infrastructure\", \"ambition\", \"address\", \"fund\", \"bond\", \"criterion\", \"facilitate\", \"2030\", \"launch\", \"financial\", \"investor\", \"green\", \"asset\", \"social\", \"environmental\", \"client\", \"investment\", \"million\", \"carbon\", \"help\", \"sustainable\", \"support\", \"low-carbon\", \"focus\", \"product\", \"financing\", \"climate\", \"billion\", \"project\", \"include\", \"commit\", \"company\", \"energy\", \"'s\", \"new\", \"business\", \"development\", \"2019\", \"provide\", \"emission\", \"invest\", \"heat\", \"circular\", \"bnz\", \"airport\", \"farm\", \"joint\", \"generation\", \"nz\", \"down\", \"iag\", \"zealand\", \"analysis\", \"aircraft\", \"fy20\", \"chapter\", \"agl\", \"replacement\", \"january\", \"network\", \"blackrock\", \"earmark\", \"estimate\", \"australian\", \"commence\", \"emu\", \"optimise\", \"environment\", \"saitama\", \"traffic\", \"abp\", \"lead\", \"give\", \"programme\", \"bioeconomy\", \"trial\", \"act\", \"megawatt\", \"associate\", \"city\", \"wind\", \"expect\", \"future\", \"contribute\", \"upgrade\", \"good\", \"'s\", \"energy\", \"panel\", \"agreement\", \"opportunity\", \"change\", \"operation\", \"efficiency\", \"power\", \"electric\", \"climate\", \"renewable\", \"solar\", \"sustainable\", \"million\", \"company\", \"market\", \"work\", \"business\", \"include\", \"year\", \"development\", \"invest\", \"help\", \"reduce\", \"support\", \"investment\", \"emission\", \"project\", \"new\", \"carbon\", \"index\", \"http\", \"tilt\", \"eni\", \"balance\", \"2014\", \"trustee\", \"road\", \"2021\", \"hydropower\", \"'balanced\", \"universe\", \"stock\", \"ftse\", \"megaton\", \"methanol\", \"away\", \"es\", \"methane\", \"decarbonization\", \"december\", \"factor\", \"mwh\", \"controversial\", \"weapon\", \"subsidiary\", \"mwp\", \"possible\", \"upton\", \"proceed\", \"oil\", \"upstream\", \"field\", \"fuel\", \"reduction\", \"compare\", \"climate-related\", \"2\", \"total\", \"electricity\", \"gas\", \"emission\", \"2019\", \"facility\", \"mw\", \"energy\", \"increase\", \"project\", \"new\", \"renewable\", \"production\", \"waste\", \"create\", \"capacity\", \"50\", \"use\", \"target\", \"invest\", \"power\", \"billion\", \"investment\", \"plant\", \"climate\", \"reduce\", \"carbon\", \"million\", \"year\", \"'s\"], \"Freq\": [20.0, 58.0, 66.0, 30.0, 21.0, 19.0, 12.0, 13.0, 64.0, 22.0, 38.0, 145.0, 21.0, 14.0, 10.0, 44.0, 27.0, 25.0, 59.0, 21.0, 10.0, 23.0, 39.0, 20.0, 66.0, 24.0, 16.0, 16.0, 18.0, 25.0, 6.809311276607163, 20.398461545326477, 7.55229764060198, 8.846780988290849, 14.729467677081567, 6.598615379504083, 5.097381286472009, 4.359194512769406, 7.2418572588444485, 18.781147233816156, 4.333779384067142, 7.936537262136688, 4.305511686634423, 5.014408590177107, 4.286402765579199, 4.270102644688186, 7.822284992971658, 3.551122931496796, 5.679089455052706, 6.388396315104064, 15.606718059920848, 3.5434395092125235, 3.5381810286108646, 3.534887240110131, 3.5336562831663105, 3.5291342562662438, 3.5260345718418984, 3.5209177274080243, 3.5178963370649114, 3.514752068510975, 49.42521357108692, 20.329488809431936, 20.604063977478273, 7.671574867397215, 10.357015094702364, 52.99724618750729, 31.26267004792332, 6.2704538936520615, 8.927121046104313, 12.1315406590739, 20.121631072773532, 14.417828960914063, 12.573607527814382, 46.524678841698346, 22.719422163556835, 17.752365181258387, 31.72871121678783, 15.473061363914832, 58.03012456893067, 61.42840957008286, 41.47726385919282, 28.99168062703952, 39.42929947837061, 33.92504940605215, 12.483588907917463, 17.903766360841487, 18.26695737982933, 17.538185197540468, 44.05567499003552, 29.246336475918987, 39.71105812837002, 25.53866371343472, 15.77388244785873, 21.486118572135396, 39.579032559056344, 29.47723877048679, 25.98604696777444, 22.005464961305613, 22.098835002846393, 21.494332926158027, 19.14871837168183, 21.77705285348812, 20.823346125489834, 9.488981154934274, 7.9464290113920075, 4.980153598450167, 4.916507871106179, 17.419396475528977, 4.152043642967697, 18.44409589634415, 3.4099367053710967, 3.400502195615573, 3.391862199420802, 3.389294571760285, 3.384580652546908, 5.399097200826954, 3.357337447596786, 3.3556946328870696, 3.3302464323342393, 3.980191464715723, 3.977312369393237, 6.582392869627272, 3.944325567329828, 2.6236311722753185, 3.27415869505007, 2.6204068356889634, 2.6157813115817947, 2.615281170403037, 2.61505934872142, 5.882955750846302, 2.611031950934325, 2.6098821891165476, 2.607710254643726, 8.439077454024439, 3.2586787105543973, 7.11164397451668, 4.531736899481744, 4.515487210429184, 5.125022753574065, 5.042755679799631, 3.830182467732261, 7.756469595982959, 17.195898622558815, 14.17514597279379, 11.538826141676148, 9.523646213141493, 5.465099158101046, 7.446118547666746, 35.95309832425308, 56.577738043196575, 5.870002532122428, 11.287606415916587, 16.98757303904479, 20.97909242001269, 11.647252746433558, 18.55100060422581, 18.476845449278162, 15.05417025857799, 33.303603452729945, 23.953072383768276, 16.012338185397923, 22.56597470931833, 30.23663016941123, 15.803190360612941, 10.719359309573811, 11.585831490276458, 15.704379642362001, 15.8848991275609, 13.605121791249791, 14.926968032912319, 15.700797138812284, 13.733128745948395, 13.151146207583412, 14.386695475936122, 16.537730343551686, 14.876347658034534, 15.479917782384513, 12.322497959260778, 12.315645670697457, 19.866753771085346, 12.08654462642256, 9.718040952899251, 12.51705995229306, 5.722142214423871, 4.975568355334268, 4.937902323831582, 4.921886238771357, 7.6578630769489, 4.129188546878118, 3.413696718167973, 3.4132796691259233, 3.413192443182488, 3.4123599027045217, 3.4002872869709413, 3.400048583831094, 3.3967834519752715, 3.396021393174813, 5.389886135030075, 4.023298198555432, 3.999026411589984, 11.972178174926865, 3.287806317698966, 2.626091230124297, 2.6250480234168734, 3.27740267693665, 2.6159212302818973, 7.2037944099416915, 2.611950113446396, 2.6092379317677072, 5.825974575643633, 6.996339964330095, 5.719575668918597, 21.91689832713145, 15.891337942657447, 5.556737293374113, 7.072922006257015, 10.752099839505329, 20.01288526324972, 14.827929083691552, 19.482750900748606, 28.403798284040434, 23.020834540065927, 13.663011033052927, 9.215755030445962, 48.851680884807706, 14.465757620911742, 32.01863140794395, 25.34924698933783, 23.67490450733942, 9.893143919133179, 11.542872330218461, 11.968890068380583, 10.858742122188609, 8.731222702694005, 14.390237087564307, 14.090860516027188, 18.20875525023811, 15.04220117134629, 15.51666980587441, 18.991724913029124, 11.737738981868064, 17.18811514046586, 12.65009976491149, 13.714960312793128, 14.721522778337386, 12.257055769777079, 13.446150204005521], \"Total\": [20.0, 58.0, 66.0, 30.0, 21.0, 19.0, 12.0, 13.0, 64.0, 22.0, 38.0, 145.0, 21.0, 14.0, 10.0, 44.0, 27.0, 25.0, 59.0, 21.0, 10.0, 23.0, 39.0, 20.0, 66.0, 24.0, 16.0, 16.0, 18.0, 25.0, 7.420532979159874, 22.261949975355435, 8.244433500688563, 9.88388901050243, 16.472513250722184, 7.410967480142943, 5.762666253589321, 4.938904405115279, 8.230533801076662, 21.398562475815417, 4.937753646944128, 9.05235735491654, 4.936397881549943, 5.758942029762782, 4.93563017269531, 4.934935985288896, 9.047832842581785, 4.112165159803886, 6.579601847667935, 7.402203262591797, 18.095526262857693, 4.111783419809204, 4.111537492887322, 4.111409816055109, 4.11134414612754, 4.1111231190451, 4.110952158894654, 4.110704546025568, 4.1106007959573425, 4.110379656664095, 58.358843104319824, 23.841913075779797, 24.645763597917078, 9.041219557382204, 12.324825460713893, 66.43382884249853, 38.56967317214539, 7.396905066556451, 10.679543691186742, 14.7757070134169, 25.417973836062863, 18.04146851315266, 15.588984058064776, 66.14299271973148, 31.069442869213027, 23.732162896040407, 45.71659655029036, 20.463948488694292, 93.55957982551146, 106.38656251783148, 67.5078698426834, 44.01778533037969, 64.26836922865928, 55.3112537959955, 16.37348025176329, 26.110645144025533, 26.921024370518566, 26.098181798129968, 94.54739358323133, 55.09806119579865, 87.20960731869849, 50.195942170535844, 22.852079168170775, 39.73321573505683, 145.00845148706063, 78.87648729874539, 63.65779191637304, 46.08413640941552, 46.878129886182606, 50.793717585708606, 33.28763030324503, 65.0571987955631, 54.732898514540224, 10.314138362940541, 8.730651366047308, 5.557294721675086, 5.558712786965581, 19.819806135403987, 4.764582534588938, 21.41787012789724, 3.972494627606718, 3.9724412236397524, 3.972769837056136, 3.972477504217983, 3.972748740402898, 6.348824211692937, 3.9739260142050385, 3.9735089845233498, 3.9729029443320196, 4.771611096811183, 4.773421548158708, 7.950488622066192, 4.775127610256952, 3.1801561621100243, 3.9720652769728013, 3.1801039622225993, 3.180265895020577, 3.180120729349681, 3.180284624004766, 7.165223114176701, 3.180604201352985, 3.1805862343596236, 3.1801042823028007, 10.349326438540173, 3.977990696134822, 8.758004971893303, 5.576002602635256, 5.577339309463735, 6.358418875243023, 6.366593572184856, 4.777395905003645, 10.367337475114834, 25.461250928035216, 20.83566334729922, 16.759874957725607, 13.609228335909386, 7.14457224478022, 10.390808332715283, 78.87648729874539, 145.00845148706063, 7.985901865747132, 19.134289584149442, 33.00322582324653, 45.10299273059534, 20.665769672972484, 39.18621338640142, 39.02972550694633, 29.705887893861018, 94.54739358323133, 59.07602000778315, 35.23975555632409, 64.26836922865928, 106.38656251783148, 39.73321573505683, 21.641272082169895, 24.9397836792459, 46.08413640941552, 50.195942170535844, 37.721562556648074, 46.878129886182606, 54.732898514540224, 44.01778533037969, 40.20671751758779, 55.3112537959955, 93.55957982551146, 65.0571987955631, 87.20960731869849, 63.65779191637304, 67.5078698426834, 20.58104290127513, 12.669137563966324, 10.296310839222514, 13.463234907784, 6.343065794909726, 5.5500944549188675, 5.550136922018118, 5.551491536414077, 8.729988595781737, 4.760401364991877, 3.967573070188985, 3.96754132343491, 3.967574249070518, 3.967653686221953, 3.9677006988390575, 3.9676364462643, 3.9679076102086706, 3.967601742523388, 6.35388297705451, 4.760813475074672, 4.765546160587759, 14.324373681391375, 3.9726488294864257, 3.1764589302984128, 3.1764778916344296, 3.97287508966262, 3.1765755148479733, 8.749455636834323, 3.1765747019659236, 3.1766525574185858, 7.134207438372047, 8.742333046462505, 7.159929300786129, 30.14422449763321, 21.473704030550074, 7.176686139181424, 9.535574663678663, 16.65007834511752, 38.50867357901224, 27.168759309373918, 39.18553201178343, 65.0571987955631, 50.793717585708606, 25.515935595834286, 15.064195311892664, 145.00845148706063, 27.788016431786236, 87.20960731869849, 63.65779191637304, 59.07602000778315, 16.691184940048856, 21.534772835964077, 23.185067274871084, 20.641572823073165, 14.3769576108042, 34.62764210921999, 33.71142920639737, 54.732898514540224, 39.02972550694633, 55.09806119579865, 93.55957982551146, 27.998366459347494, 94.54739358323133, 40.20671751758779, 67.5078698426834, 106.38656251783148, 37.721562556648074, 78.87648729874539], \"Category\": [\"Default\", \"Default\", \"Default\", \"Default\", \"Default\", \"Default\", \"Default\", \"Default\", \"Default\", \"Default\", \"Default\", \"Default\", \"Default\", \"Default\", \"Default\", \"Default\", \"Default\", \"Default\", \"Default\", \"Default\", \"Default\", \"Default\", \"Default\", \"Default\", \"Default\", \"Default\", \"Default\", \"Default\", \"Default\", \"Default\", \"Topic1\", \"Topic1\", \"Topic1\", \"Topic1\", \"Topic1\", \"Topic1\", \"Topic1\", \"Topic1\", \"Topic1\", \"Topic1\", \"Topic1\", \"Topic1\", \"Topic1\", \"Topic1\", \"Topic1\", \"Topic1\", \"Topic1\", \"Topic1\", \"Topic1\", \"Topic1\", \"Topic1\", \"Topic1\", \"Topic1\", \"Topic1\", \"Topic1\", \"Topic1\", \"Topic1\", \"Topic1\", \"Topic1\", \"Topic1\", \"Topic1\", \"Topic1\", \"Topic1\", \"Topic1\", \"Topic1\", \"Topic1\", \"Topic1\", \"Topic1\", \"Topic1\", \"Topic1\", \"Topic1\", \"Topic1\", \"Topic1\", \"Topic1\", \"Topic1\", \"Topic1\", \"Topic1\", \"Topic1\", \"Topic1\", \"Topic1\", \"Topic1\", \"Topic1\", \"Topic1\", \"Topic1\", \"Topic1\", \"Topic1\", \"Topic1\", \"Topic1\", \"Topic1\", \"Topic1\", \"Topic1\", \"Topic1\", \"Topic1\", \"Topic1\", \"Topic1\", \"Topic1\", \"Topic1\", \"Topic1\", \"Topic1\", \"Topic1\", \"Topic1\", \"Topic1\", \"Topic1\", \"Topic2\", \"Topic2\", \"Topic2\", \"Topic2\", \"Topic2\", \"Topic2\", \"Topic2\", \"Topic2\", \"Topic2\", \"Topic2\", \"Topic2\", \"Topic2\", \"Topic2\", \"Topic2\", \"Topic2\", \"Topic2\", \"Topic2\", \"Topic2\", \"Topic2\", \"Topic2\", \"Topic2\", \"Topic2\", \"Topic2\", \"Topic2\", \"Topic2\", \"Topic2\", \"Topic2\", \"Topic2\", \"Topic2\", \"Topic2\", \"Topic2\", \"Topic2\", \"Topic2\", \"Topic2\", \"Topic2\", \"Topic2\", \"Topic2\", \"Topic2\", \"Topic2\", \"Topic2\", \"Topic2\", \"Topic2\", \"Topic2\", \"Topic2\", \"Topic2\", \"Topic2\", \"Topic2\", \"Topic2\", \"Topic2\", \"Topic2\", \"Topic2\", \"Topic2\", \"Topic2\", \"Topic2\", \"Topic2\", \"Topic2\", \"Topic2\", \"Topic2\", \"Topic2\", \"Topic2\", \"Topic2\", \"Topic2\", \"Topic2\", \"Topic2\", \"Topic2\", \"Topic2\", \"Topic2\", \"Topic2\", \"Topic2\", \"Topic2\", \"Topic2\", \"Topic2\", \"Topic2\", \"Topic2\", \"Topic2\", \"Topic2\", \"Topic3\", \"Topic3\", \"Topic3\", \"Topic3\", \"Topic3\", \"Topic3\", \"Topic3\", \"Topic3\", \"Topic3\", \"Topic3\", \"Topic3\", \"Topic3\", \"Topic3\", \"Topic3\", \"Topic3\", \"Topic3\", \"Topic3\", \"Topic3\", \"Topic3\", \"Topic3\", \"Topic3\", \"Topic3\", \"Topic3\", \"Topic3\", \"Topic3\", \"Topic3\", \"Topic3\", \"Topic3\", \"Topic3\", \"Topic3\", \"Topic3\", \"Topic3\", \"Topic3\", \"Topic3\", \"Topic3\", \"Topic3\", \"Topic3\", \"Topic3\", \"Topic3\", \"Topic3\", \"Topic3\", \"Topic3\", \"Topic3\", \"Topic3\", \"Topic3\", \"Topic3\", \"Topic3\", \"Topic3\", \"Topic3\", \"Topic3\", \"Topic3\", \"Topic3\", \"Topic3\", \"Topic3\", \"Topic3\", \"Topic3\", \"Topic3\", \"Topic3\", \"Topic3\", \"Topic3\", \"Topic3\", \"Topic3\", \"Topic3\", \"Topic3\", \"Topic3\", \"Topic3\", \"Topic3\", \"Topic3\"], \"logprob\": [30.0, 29.0, 28.0, 27.0, 26.0, 25.0, 24.0, 23.0, 22.0, 21.0, 20.0, 19.0, 18.0, 17.0, 16.0, 15.0, 14.0, 13.0, 12.0, 11.0, 10.0, 9.0, 8.0, 7.0, 6.0, 5.0, 4.0, 3.0, 2.0, 1.0, -6.5307, -5.4335, -6.4272, -6.269, -5.7592, -6.5621, -6.8203, -6.9767, -6.4691, -5.5162, -6.9826, -6.3775, -6.9891, -6.8367, -6.9936, -6.9974, -6.392, -7.1817, -6.7122, -6.5945, -5.7013, -7.1839, -7.1854, -7.1863, -7.1867, -7.188, -7.1888, -7.1903, -7.1911, -7.192, -4.5485, -5.4369, -5.4235, -6.4115, -6.1113, -4.4788, -5.0066, -6.6132, -6.2599, -5.9532, -5.4472, -5.7805, -5.9174, -4.609, -5.3258, -5.5725, -4.9918, -5.7099, -4.388, -4.3311, -4.7239, -5.082, -4.7745, -4.9249, -5.9246, -5.564, -5.5439, -5.5846, -4.6636, -5.0733, -4.7674, -5.2088, -5.6906, -5.3816, -4.7707, -5.0654, -5.1914, -5.3577, -5.3535, -5.3812, -5.4968, -5.3681, -5.4129, -5.9334, -6.1109, -6.5781, -6.591, -5.326, -6.76, -5.2688, -6.9569, -6.9597, -6.9622, -6.963, -6.9643, -6.4973, -6.9724, -6.9729, -6.9805, -6.8022, -6.803, -6.2992, -6.8113, -7.219, -6.9975, -7.2202, -7.222, -7.2222, -7.2223, -6.4115, -7.2238, -7.2243, -7.2251, -6.0507, -7.0023, -6.2218, -6.6725, -6.6761, -6.5494, -6.5656, -6.8407, -6.135, -5.3389, -5.5321, -5.7379, -5.9298, -6.4852, -6.1759, -4.6014, -4.148, -6.4137, -5.7599, -5.3511, -5.1401, -5.7285, -5.2631, -5.2671, -5.4719, -4.6779, -5.0075, -5.4102, -5.0671, -4.7745, -5.4234, -5.8115, -5.7338, -5.4296, -5.4182, -5.5731, -5.4804, -5.4299, -5.5638, -5.6071, -5.5173, -5.3779, -5.4838, -5.444, -5.6722, -5.6727, -5.1262, -5.6231, -5.8412, -5.5881, -6.3709, -6.5107, -6.5183, -6.5215, -6.0795, -6.6971, -6.8874, -6.8875, -6.8876, -6.8878, -6.8913, -6.8914, -6.8924, -6.8926, -6.4307, -6.7231, -6.7292, -5.6326, -6.925, -7.1497, -7.1501, -6.9282, -7.1536, -6.1406, -7.1551, -7.1561, -6.3529, -6.1698, -6.3713, -5.0279, -5.3494, -6.4002, -6.1589, -5.7401, -5.1188, -5.4187, -5.1457, -4.7687, -4.9788, -5.5005, -5.8943, -4.2264, -5.4434, -4.6489, -4.8825, -4.9508, -5.8234, -5.6691, -5.6329, -5.7302, -5.9483, -5.4487, -5.4697, -5.2133, -5.4043, -5.3733, -5.1712, -5.6524, -5.271, -5.5775, -5.4967, -5.4259, -5.6091, -5.5165], \"loglift\": [30.0, 29.0, 28.0, 27.0, 26.0, 25.0, 24.0, 23.0, 22.0, 21.0, 20.0, 19.0, 18.0, 17.0, 16.0, 15.0, 14.0, 13.0, 12.0, 11.0, 10.0, 9.0, 8.0, 7.0, 6.0, 5.0, 4.0, 3.0, 2.0, 1.0, 0.8235, 0.8221, 0.8218, 0.7986, 0.7977, 0.7934, 0.7868, 0.7846, 0.7815, 0.779, 0.779, 0.7779, 0.7728, 0.7711, 0.7685, 0.7648, 0.7639, 0.7628, 0.7623, 0.7622, 0.7615, 0.7607, 0.7593, 0.7584, 0.7581, 0.7569, 0.756, 0.7546, 0.7538, 0.753, 0.7433, 0.7501, 0.7304, 0.7452, 0.7355, 0.6835, 0.6995, 0.7443, 0.7303, 0.7123, 0.6758, 0.6853, 0.6945, 0.5577, 0.5965, 0.6192, 0.5443, 0.6299, 0.4319, 0.3603, 0.4224, 0.4919, 0.4209, 0.4207, 0.6382, 0.5322, 0.5217, 0.512, 0.1458, 0.2761, 0.1228, 0.2338, 0.5388, 0.2947, -0.389, -0.0748, 0.0135, 0.1703, 0.1575, 0.0495, 0.3565, -0.1849, -0.0569, 1.0915, 1.0808, 1.0653, 1.0522, 1.0458, 1.0373, 1.0254, 1.0222, 1.0195, 1.0168, 1.0162, 1.0147, 1.0129, 1.0063, 1.0059, 0.9985, 0.9936, 0.9925, 0.9861, 0.9838, 0.9826, 0.9817, 0.9813, 0.9795, 0.9794, 0.9792, 0.9777, 0.9776, 0.9772, 0.9765, 0.9709, 0.9755, 0.9667, 0.9676, 0.9637, 0.9593, 0.9418, 0.9539, 0.8848, 0.7824, 0.7897, 0.8017, 0.818, 0.907, 0.8417, 0.3893, 0.2337, 0.8671, 0.6471, 0.5108, 0.4095, 0.6015, 0.4271, 0.4271, 0.4952, 0.1315, 0.2722, 0.3861, 0.1283, -0.0831, 0.2529, 0.4724, 0.4082, 0.0984, 0.0244, 0.1551, 0.0305, -0.0738, 0.0101, 0.0574, -0.1717, -0.558, -0.3006, -0.5538, -0.4672, -0.5264, 1.208, 1.1962, 1.1855, 1.1704, 1.1403, 1.134, 1.1264, 1.1229, 1.1123, 1.101, 1.0929, 1.0928, 1.0928, 1.0925, 1.089, 1.0889, 1.0879, 1.0877, 1.0788, 1.075, 1.0679, 1.0639, 1.0541, 1.053, 1.0526, 1.0509, 1.0491, 1.0489, 1.0476, 1.0465, 1.0407, 1.0205, 1.0187, 0.9246, 0.9422, 0.9875, 0.9445, 0.806, 0.5888, 0.6377, 0.5445, 0.4146, 0.4519, 0.6187, 0.7519, 0.1553, 0.5905, 0.2413, 0.3225, 0.3289, 0.7203, 0.6197, 0.5821, 0.601, 0.7446, 0.3652, 0.371, 0.1427, 0.2898, -0.0239, -0.3513, 0.374, -0.4616, 0.0869, -0.3505, -0.7345, 0.1192, -0.5259]}, \"token.table\": {\"Topic\": [3, 1, 2, 3, 1, 2, 3, 3, 1, 2, 3, 1, 3, 1, 2, 3, 1, 2, 3, 2, 1, 2, 3, 1, 2, 3, 2, 1, 2, 3, 2, 3, 2, 1, 2, 2, 1, 2, 3, 1, 2, 2, 3, 3, 1, 1, 2, 3, 1, 2, 1, 2, 2, 1, 2, 3, 1, 2, 3, 1, 2, 3, 1, 2, 3, 1, 1, 1, 2, 3, 2, 2, 1, 2, 3, 1, 2, 3, 1, 2, 3, 1, 2, 3, 2, 1, 2, 3, 1, 2, 3, 1, 3, 1, 2, 3, 3, 1, 2, 3, 1, 1, 2, 3, 3, 1, 2, 3, 2, 1, 2, 1, 2, 3, 1, 2, 3, 1, 2, 3, 1, 1, 2, 3, 2, 1, 2, 3, 2, 3, 1, 2, 1, 2, 3, 1, 3, 1, 1, 3, 2, 1, 2, 3, 1, 2, 1, 2, 3, 1, 3, 2, 3, 1, 2, 3, 1, 2, 3, 1, 2, 3, 1, 2, 3, 1, 2, 3, 3, 1, 2, 3, 1, 2, 3, 1, 2, 3, 2, 1, 2, 3, 1, 2, 3, 2, 1, 2, 3, 1, 2, 3, 1, 2, 1, 2, 3, 3, 3, 2, 1, 1, 2, 3, 1, 2, 3, 3, 1, 2, 3, 1, 2, 1, 2, 1, 2, 3, 1, 2, 3, 1, 2, 1, 2, 3, 1, 2, 2, 1, 2, 3, 1, 2, 3, 1, 1, 2, 3, 1, 2, 3, 1, 2, 3, 3, 1, 2, 3, 1, 3, 3, 1, 2, 3, 1, 1, 1, 2, 3, 3, 3, 1, 2, 1, 2, 3, 1, 2, 3, 1, 2, 1, 2, 2, 3, 1, 2, 3, 1, 2, 3, 2, 1, 2, 3, 1, 2, 3, 1, 2, 3, 1, 3, 1, 2, 3, 1, 2, 3, 1, 2, 3, 1, 2, 3, 1, 2, 3, 1, 2, 3, 1, 2, 3, 1, 2, 1, 3, 1, 2, 3, 1, 2, 3, 1, 1, 2, 3, 1, 2, 3, 2, 1, 2, 3, 1, 2, 3, 3, 3, 1, 2, 3, 1, 2, 3, 1, 2, 3, 1, 3, 1, 2, 3, 2, 1, 2, 3, 3, 2, 3, 1, 2, 3, 3, 1, 1, 2, 3, 1, 2, 3, 1, 3, 1, 2, 3, 1, 2, 3, 1, 2, 3, 1, 2], \"Freq\": [0.756129741514024, 0.3676634316911483, 0.4564097772717703, 0.1648146417925837, 0.06005977745403466, 0.3002988872701733, 0.6606575519943813, 0.9008855688156195, 0.4134369563433685, 0.11812484466953387, 0.4528119045665465, 0.11454768686446994, 0.9163814949157595, 0.8121438784014563, 0.06767865653345469, 0.13535731306690937, 0.20866723553149505, 0.20866723553149505, 0.6260017065944851, 0.9433652904701659, 0.15727180288382295, 0.7863590144191147, 0.15727180288382295, 0.8113705165136488, 0.08113705165136488, 0.08113705165136488, 0.7551153506732348, 0.1567865891653043, 0.5748841602727824, 0.26131098194217384, 0.7875473998462987, 0.15750947996925974, 0.8994888190165742, 0.8848363817763896, 0.1106045477220487, 0.7551446607961806, 0.7402771944388772, 0.12874385990241344, 0.12874385990241344, 0.20931905579620097, 0.8372762231848039, 0.9433653854206945, 0.756065991123778, 0.9459148295158732, 0.9728720720459744, 0.5263343096038253, 0.18149458951856046, 0.29039134322969673, 0.179339944986287, 0.896699724931435, 0.20941848713152808, 0.8376739485261123, 0.8997183432612504, 0.8037402822066916, 0.15556263526581127, 0.025927105877635213, 0.47738770245253304, 0.3471910563291149, 0.17359552816455745, 0.048445920694676875, 0.387567365557415, 0.5329051276414456, 0.6073365978743533, 0.1777570530363961, 0.20738322854246213, 0.8676539261467227, 0.8682150252875451, 0.39908659958588094, 0.4656010328501944, 0.15520034428339813, 0.7550001803657356, 0.9163119296128645, 0.19291356192471654, 0.7716542476988661, 0.09645678096235827, 0.7329963720484853, 0.14659927440969706, 0.09773284960646471, 0.46537507098242975, 0.3490313032368223, 0.17980400469775695, 0.10487044937197493, 0.20974089874394986, 0.7340931456038244, 0.9433173511363235, 0.7001551098372438, 0.17503877745931096, 0.13127908309448322, 0.5285250542022348, 0.40268575558265507, 0.050335719447831884, 0.13934007710612525, 0.8360404626367516, 0.22043865573804675, 0.7347955191268225, 0.07347955191268225, 0.9444479106544483, 0.21565604881462658, 0.2587872585775519, 0.5175745171551038, 0.9730937637957655, 0.8111500615477325, 0.13519167692462208, 0.8401925471228971, 0.8393581480924445, 0.4693019976141269, 0.3199786347369047, 0.21331908982460313, 0.7552031184620644, 0.972813884293937, 0.9433499007827052, 0.22967261243780246, 0.48486440403536074, 0.3062301499170699, 0.3029702405178715, 0.5049504008631192, 0.1683168002877064, 0.22084188430090904, 0.22084188430090904, 0.5521047107522726, 0.8098962182497711, 0.33816396044245917, 0.23056633666531307, 0.4303904951085844, 0.9433604115443394, 0.27584599097363144, 0.3930805371374248, 0.33791133894269854, 0.07427635385176506, 0.9655926000729458, 0.1395629953268946, 0.8373779719613675, 0.6999646171122674, 0.24061283713234194, 0.06562168285427507, 0.8103074541357816, 0.7561242772547038, 0.8104334927946253, 0.8504916168480237, 0.12149880240686052, 0.7552745966668418, 0.28796779348893337, 0.6719248514741778, 0.04799463224815556, 0.8427326354240415, 0.09363695949156017, 0.15676477881740059, 0.274338362930451, 0.548676725860902, 0.1396221604158635, 0.8377329624951811, 0.857727864937741, 0.1009091605809107, 0.13966618355996954, 0.13966618355996954, 0.8379971013598173, 0.8396328198694695, 0.102812182024833, 0.0514060910124165, 0.7759900470293571, 0.055427860502096936, 0.11085572100419387, 0.6897032191449355, 0.2682179185563638, 0.07663369101610394, 0.689374004384516, 0.15319422319655912, 0.15319422319655912, 0.7561143782326012, 0.06634770120415708, 0.1990431036124712, 0.7298247132457277, 0.7977863224721327, 0.16557829334327281, 0.045157716366347134, 0.17899894883267756, 0.7159957953307102, 0.11933263255511838, 0.7549209495285818, 0.22967660608240872, 0.25519622898045413, 0.4848728350628629, 0.04668998336568856, 0.8404197005823941, 0.09337996673137712, 0.7541495767988906, 0.19247780691931676, 0.6736723242176087, 0.09623890345965838, 0.7105816968269592, 0.12095007605565261, 0.18142511408347892, 0.9727235761587857, 0.8725886432101456, 0.6588246042443465, 0.31805325722140865, 0.02271808980152919, 0.947183653142303, 0.8402652829688082, 0.7551406507413053, 0.8105474948254746, 0.5179701560669491, 0.31875086527196866, 0.17929736171548236, 0.07197347118710619, 0.395854091529084, 0.5038142983097433, 0.9717680535402251, 0.852073416859959, 0.12172477383713699, 0.040574924612379, 0.9119092824935344, 0.15198488041558908, 0.8105694733245097, 0.1350949122207516, 0.383681489011973, 0.2923287535329318, 0.3288698477245483, 0.619925828099805, 0.18170239789132214, 0.20307915058441886, 0.8339222076036831, 0.19244358637008072, 0.8388588590366657, 0.08388588590366657, 0.04194294295183328, 0.20949333510796642, 0.8379733404318657, 0.8395279063719898, 0.7868447787771393, 0.15736895575542786, 0.039342238938856966, 0.09662464566544829, 0.7729971653235863, 0.09662464566544829, 0.9729022838783786, 0.9106078575679625, 0.06070719050453083, 0.06070719050453083, 0.7328924465345539, 0.061074370544546154, 0.18322311163363847, 0.27724802762141515, 0.5082880506392612, 0.23104002301784599, 0.7561054191607232, 0.15706986611630447, 0.7853493305815225, 0.15706986611630447, 0.1573840757866103, 0.7869203789330514, 0.7561176636595898, 0.5733806841420952, 0.28199050039775175, 0.14099525019887588, 0.9703516923669591, 0.8100849669718772, 0.06638257001424659, 0.33191285007123295, 0.5974431301282193, 0.7551636524559944, 0.9444132481590245, 0.9105727503047406, 0.10117475003386008, 0.12577843294115898, 0.8804490305881129, 0.12577843294115898, 0.4084338965786951, 0.18850795226709005, 0.3927249005564376, 0.9731461164456822, 0.7551929659392365, 0.8841964454408323, 0.11052455568010404, 0.14016973975572958, 0.8410184385343775, 0.0967783940133466, 0.5806703640800797, 0.3387243790467131, 0.36360082084908024, 0.5151011628695303, 0.12120027361636007, 0.9433117958550066, 0.25044134446208693, 0.7513240333862607, 0.12522067223104347, 0.2500145860353574, 0.3214473249026024, 0.4285964332034699, 0.8879101117878239, 0.046732111146727574, 0.09346422229345515, 0.11429282477758972, 0.800049773443128, 0.15372898277063587, 0.46118694831190765, 0.38432245692658973, 0.8983938973064142, 0.04491969486532071, 0.9443903435375579, 0.6686224027831551, 0.2600198233045603, 0.07429137808701723, 0.11982372774512831, 0.29955931936282076, 0.5991186387256415, 0.11418125511566365, 0.7992687858096457, 0.11418125511566365, 0.45866506259825407, 0.17199939847434528, 0.36693205007860324, 0.5707825948231524, 0.1802471352073113, 0.2403295136097484, 0.8841896329416727, 0.11052370411770909, 0.8837477008853412, 0.11046846261066764, 0.3482005213152733, 0.3233290555070395, 0.3233290555070395, 0.13970575340574587, 0.13970575340574587, 0.7450973514973114, 0.973010593505791, 0.18620076299234056, 0.4062562101651067, 0.4062562101651067, 0.9730692038831634, 0.8382912854472062, 0.9006588530673855, 0.9432170147809782, 0.7584643708561098, 0.2106845474600305, 0.0421369094920061, 0.25539337200041584, 0.4540326613340726, 0.2837704133337954, 0.7561295168459189, 0.7551206449470231, 0.614703114946593, 0.2531130473309501, 0.12655652366547504, 0.6068303967888558, 0.3578743365677867, 0.03111950752763363, 0.3262988327386768, 0.2669717722407356, 0.41528942348558867, 0.9729701310743253, 0.9712216497880236, 0.3116181079407567, 0.15580905397037834, 0.5193635132345944, 0.9432223429728882, 0.1792969630345389, 0.8964848151726945, 0.9008786756529099, 0.7561357917761374, 0.6998319603602537, 0.13996639207205075, 0.11438594190879511, 0.11438594190879511, 0.8007015933615659, 0.9444134898333589, 0.9445460418974857, 0.40430127918736763, 0.20215063959368382, 0.40430127918736763, 0.18574609681137724, 0.2786191452170658, 0.5572382904341316, 0.9433284670601269, 0.9444422729655378, 0.11782610400719627, 0.6676812560407789, 0.1963768400119938, 0.36086920864071154, 0.481158944854282, 0.16038631495142733, 0.3181204379319942, 0.3711405109206599, 0.3181204379319942, 0.9729178239110888, 0.7551962212031649], \"Term\": [\"'balanced\", \"'s\", \"'s\", \"'s\", \"2\", \"2\", \"2\", \"2014\", \"2019\", \"2019\", \"2019\", \"2021\", \"2021\", \"2030\", \"2030\", \"2030\", \"50\", \"50\", \"50\", \"abp\", \"act\", \"act\", \"act\", \"address\", \"address\", \"address\", \"agl\", \"agreement\", \"agreement\", \"agreement\", \"aircraft\", \"aircraft\", \"airport\", \"ambition\", \"ambition\", \"analysis\", \"asset\", \"asset\", \"asset\", \"associate\", \"associate\", \"australian\", \"away\", \"balance\", \"benchmark\", \"billion\", \"billion\", \"billion\", \"bioeconomy\", \"bioeconomy\", \"blackrock\", \"blackrock\", \"bnz\", \"bond\", \"bond\", \"bond\", \"business\", \"business\", \"business\", \"capacity\", \"capacity\", \"capacity\", \"carbon\", \"carbon\", \"carbon\", \"catalyst\", \"challenge\", \"change\", \"change\", \"change\", \"chapter\", \"circular\", \"city\", \"city\", \"city\", \"client\", \"client\", \"client\", \"climate\", \"climate\", \"climate\", \"climate-related\", \"climate-related\", \"climate-related\", \"commence\", \"commit\", \"commit\", \"commit\", \"company\", \"company\", \"company\", \"compare\", \"compare\", \"contribute\", \"contribute\", \"contribute\", \"controversial\", \"create\", \"create\", \"create\", \"creation\", \"criterion\", \"criterion\", \"decarbonization\", \"december\", \"development\", \"development\", \"development\", \"down\", \"e-face\", \"earmark\", \"efficiency\", \"efficiency\", \"efficiency\", \"electric\", \"electric\", \"electric\", \"electricity\", \"electricity\", \"electricity\", \"eligible\", \"emission\", \"emission\", \"emission\", \"emu\", \"energy\", \"energy\", \"energy\", \"eni\", \"eni\", \"environment\", \"environment\", \"environmental\", \"environmental\", \"environmental\", \"equinor\", \"es\", \"eso\", \"estate\", \"estate\", \"estimate\", \"expect\", \"expect\", \"expect\", \"facilitate\", \"facilitate\", \"facility\", \"facility\", \"facility\", \"factor\", \"factor\", \"farm\", \"farm\", \"field\", \"field\", \"field\", \"finance\", \"finance\", \"finance\", \"financial\", \"financial\", \"financial\", \"financing\", \"financing\", \"financing\", \"focus\", \"focus\", \"focus\", \"ftse\", \"fuel\", \"fuel\", \"fuel\", \"fund\", \"fund\", \"fund\", \"future\", \"future\", \"future\", \"fy20\", \"gas\", \"gas\", \"gas\", \"generation\", \"generation\", \"generation\", \"give\", \"good\", \"good\", \"good\", \"green\", \"green\", \"green\", \"gwm\", \"heat\", \"help\", \"help\", \"help\", \"http\", \"hydropower\", \"iag\", \"implementation\", \"include\", \"include\", \"include\", \"increase\", \"increase\", \"increase\", \"index\", \"infrastructure\", \"infrastructure\", \"infrastructure\", \"institution\", \"institution\", \"institutional\", \"institutional\", \"invest\", \"invest\", \"invest\", \"investment\", \"investment\", \"investment\", \"investor\", \"investor\", \"issue\", \"issue\", \"issue\", \"january\", \"january\", \"joint\", \"launch\", \"launch\", \"launch\", \"lead\", \"lead\", \"lead\", \"leader\", \"loan\", \"loan\", \"loan\", \"low-carbon\", \"low-carbon\", \"low-carbon\", \"market\", \"market\", \"market\", \"megaton\", \"megawatt\", \"megawatt\", \"megawatt\", \"methane\", \"methane\", \"methanol\", \"million\", \"million\", \"million\", \"mobilize\", \"mortgage\", \"mw\", \"mw\", \"mw\", \"mwh\", \"mwp\", \"net\", \"net\", \"network\", \"network\", \"network\", \"new\", \"new\", \"new\", \"norway\", \"nz\", \"offer\", \"offer\", \"oil\", \"oil\", \"operation\", \"operation\", \"operation\", \"opportunity\", \"opportunity\", \"opportunity\", \"optimise\", \"panel\", \"panel\", \"panel\", \"plant\", \"plant\", \"plant\", \"portfolio\", \"portfolio\", \"portfolio\", \"possible\", \"possible\", \"power\", \"power\", \"power\", \"private\", \"private\", \"proceed\", \"product\", \"product\", \"product\", \"production\", \"production\", \"production\", \"programme\", \"programme\", \"programme\", \"project\", \"project\", \"project\", \"provide\", \"provide\", \"provide\", \"range\", \"range\", \"real\", \"real\", \"reduce\", \"reduce\", \"reduce\", \"reduction\", \"reduction\", \"reduction\", \"related\", \"renewable\", \"renewable\", \"renewable\", \"renovation\", \"replacement\", \"road\", \"saitama\", \"social\", \"social\", \"social\", \"solar\", \"solar\", \"solar\", \"stock\", \"subsidiary\", \"support\", \"support\", \"support\", \"sustainable\", \"sustainable\", \"sustainable\", \"target\", \"target\", \"target\", \"tcnv\", \"tilt\", \"total\", \"total\", \"total\", \"traffic\", \"trial\", \"trial\", \"trustee\", \"universe\", \"upgrade\", \"upgrade\", \"upstream\", \"upstream\", \"upstream\", \"upton\", \"usd\", \"use\", \"use\", \"use\", \"waste\", \"waste\", \"waste\", \"wealth\", \"weapon\", \"wind\", \"wind\", \"wind\", \"work\", \"work\", \"work\", \"year\", \"year\", \"year\", \"young\", \"zealand\"]}, \"R\": 30, \"lambda.step\": 0.01, \"plot.opts\": {\"xlab\": \"PC1\", \"ylab\": \"PC2\"}, \"topic.order\": [3, 1, 2]};\n",
       "\n",
       "function LDAvis_load_lib(url, callback){\n",
       "  var s = document.createElement('script');\n",
       "  s.src = url;\n",
       "  s.async = true;\n",
       "  s.onreadystatechange = s.onload = callback;\n",
       "  s.onerror = function(){console.warn(\"failed to load library \" + url);};\n",
       "  document.getElementsByTagName(\"head\")[0].appendChild(s);\n",
       "}\n",
       "\n",
       "if(typeof(LDAvis) !== \"undefined\"){\n",
       "   // already loaded: just create the visualization\n",
       "   !function(LDAvis){\n",
       "       new LDAvis(\"#\" + \"ldavis_el1700020255335049768632412140\", ldavis_el1700020255335049768632412140_data);\n",
       "   }(LDAvis);\n",
       "}else if(typeof define === \"function\" && define.amd){\n",
       "   // require.js is available: use it to load d3/LDAvis\n",
       "   require.config({paths: {d3: \"https://d3js.org/d3.v5\"}});\n",
       "   require([\"d3\"], function(d3){\n",
       "      window.d3 = d3;\n",
       "      LDAvis_load_lib(\"https://cdn.jsdelivr.net/gh/bmabey/pyLDAvis@3.4.0/pyLDAvis/js/ldavis.v3.0.0.js\", function(){\n",
       "        new LDAvis(\"#\" + \"ldavis_el1700020255335049768632412140\", ldavis_el1700020255335049768632412140_data);\n",
       "      });\n",
       "    });\n",
       "}else{\n",
       "    // require.js not available: dynamically load d3 & LDAvis\n",
       "    LDAvis_load_lib(\"https://d3js.org/d3.v5.js\", function(){\n",
       "         LDAvis_load_lib(\"https://cdn.jsdelivr.net/gh/bmabey/pyLDAvis@3.4.0/pyLDAvis/js/ldavis.v3.0.0.js\", function(){\n",
       "                 new LDAvis(\"#\" + \"ldavis_el1700020255335049768632412140\", ldavis_el1700020255335049768632412140_data);\n",
       "            })\n",
       "         });\n",
       "}\n",
       "</script>"
      ],
      "text/plain": [
       "<IPython.core.display.HTML object>"
      ]
     },
     "execution_count": 85,
     "metadata": {},
     "output_type": "execute_result"
    }
   ],
   "source": [
    "positive_vis = gensimvis.prepare(positive_model, positive_corpus, positive_dictionary)\n",
    "pyLDAvis.display(positive_vis)"
   ]
  },
  {
   "cell_type": "markdown",
   "id": "05be38ed",
   "metadata": {},
   "source": [
    "## Neutral"
   ]
  },
  {
   "cell_type": "code",
   "execution_count": 130,
   "id": "1abc008f",
   "metadata": {},
   "outputs": [],
   "source": [
    "neutral_texts = []\n",
    "for text in neutral_df['processed_wo_punct']:\n",
    "    neutral_texts.append(text)"
   ]
  },
  {
   "cell_type": "code",
   "execution_count": 131,
   "id": "51d3c003",
   "metadata": {},
   "outputs": [
    {
     "name": "stdout",
     "output_type": "stream",
     "text": [
      "(0, '0.032*\"emission\" + 0.012*\"scope\" + 0.010*\"\\'s\" + 0.009*\"gas\" + 0.009*\"energy\" + 0.008*\"use\" + 0.008*\"carbon\" + 0.008*\"fuel\" + 0.008*\"2\" + 0.008*\"change\"')\n",
      "(1, '0.012*\"energy\" + 0.008*\"management\" + 0.008*\"bank\" + 0.007*\"risk\" + 0.007*\"project\" + 0.006*\"carbon\" + 0.005*\"scenario\" + 0.005*\"target\" + 0.005*\"power\" + 0.005*\"investment\"')\n",
      "(2, '0.021*\"climate\" + 0.013*\"environmental\" + 0.011*\"risk\" + 0.010*\"group\" + 0.010*\"change\" + 0.009*\"\\'s\" + 0.009*\"investment\" + 0.009*\"social\" + 0.009*\"include\" + 0.009*\"governance\"')\n"
     ]
    }
   ],
   "source": [
    "neutral_dictionary = corpora.Dictionary(neutral_texts)\n",
    "neutral_corpus = [neutral_dictionary.doc2bow(doc) for doc in neutral_texts]\n",
    "\n",
    "neutral_model = LdaModel(\n",
    "    corpus = neutral_corpus,\n",
    "    id2word = neutral_dictionary,\n",
    "    num_topics = 3,\n",
    "    alpha = 2,\n",
    "    eta = 'auto',\n",
    "    passes = 10,\n",
    "    random_state = 10,\n",
    "    per_word_topics = True)\n",
    "\n",
    "for topic in neutral_model.print_topics():\n",
    "    print(topic)"
   ]
  },
  {
   "cell_type": "code",
   "execution_count": 132,
   "id": "d84bdc54",
   "metadata": {
    "scrolled": false
   },
   "outputs": [
    {
     "data": {
      "text/html": [
       "\n",
       "<link rel=\"stylesheet\" type=\"text/css\" href=\"https://cdn.jsdelivr.net/gh/bmabey/pyLDAvis@3.4.0/pyLDAvis/js/ldavis.v1.0.0.css\">\n",
       "\n",
       "\n",
       "<div id=\"ldavis_el1700020255372027686332116330\" style=\"background-color:white;\"></div>\n",
       "<script type=\"text/javascript\">\n",
       "\n",
       "var ldavis_el1700020255372027686332116330_data = {\"mdsDat\": {\"x\": [0.08832398238230588, -0.0915616659700995, 0.0032376835877935698], \"y\": [-0.04298412982357372, -0.03858001695842003, 0.08156414678199378], \"topics\": [1, 2, 3], \"cluster\": [1, 1, 1], \"Freq\": [38.37116318651804, 30.852133105803297, 30.776703707678653]}, \"tinfo\": {\"Term\": [\"emission\", \"scope\", \"energy\", \"climate\", \"bank\", \"governance\", \"fuel\", \"environmental\", \"social\", \"2\", \"group\", \"3\", \"use\", \"electricity\", \"gas\", \"investment\", \"management\", \"power\", \"1\", \"financial\", \"align\", \"change\", \"greenhouse\", \"consumption\", \"green\", \"result\", \"renewable\", \"project\", \"indirect\", \"purchase\", \"vote\", \"adaptation\", \"s\", \"proposal\", \"manager\", \"measurement\", \"arctic\", \"p\", \"climate-kic\", \"http\", \"institutional\", \"task\", \"500\", \"body\", \"tax\", \"lti\", \"stanley\", \"morgan\", \"iag\", \"stewardship\", \"discussion\", \"coalition\", \"insurance\", \"well\", \"view\", \"join\", \"governance\", \"country\", \"form\", \"aspect\", \"social\", \"number\", \"environmental\", \"group\", \"climate\", \"internal\", \"force\", \"oil\", \"opportunity\", \"financial\", \"team\", \"disclosure\", \"investment\", \"work\", \"2020\", \"climate-related\", \"risk\", \"include\", \"board\", \"change\", \"year\", \"sustainability\", \"impact\", \"fund\", \"'s\", \"finance\", \"support\", \"report\", \"industry\", \"company\", \"target\", \"customer\", \"carbon\", \"sector\", \"management\", \"portfolio\", \"emission\", \"business\", \"figure\", \"scope\", \"purchase\", \"diesel\", \"dr\", \"steam\", \"wm\", \"rng\", \"baseline\", \"heat\", \"cibc\", \"quantify\", \"occur\", \"air\", \"3\", \"maritime\", \"footprint\", \"aviva\", \"biomass\", \"timeframe\", \"indirect\", \"leak\", \"shipping\", \"refrigerant\", \"initial\", \"able\", \"consumption\", \"airline\", \"outside\", \"canadian\", \"fuel\", \"operational\", \"emission\", \"fleet\", \"2\", \"electricity\", \"combustion\", \"1\", \"result\", \"alternative\", \"greenhouse\", \"travel\", \"source\", \"total\", \"gas\", \"use\", \"review\", \"facility\", \"base\", \"production\", \"'s\", \"energy\", \"carbon\", \"scenario\", \"change\", \"intensity\", \"technology\", \"company\", \"business\", \"target\", \"operation\", \"portfolio\", \"climate\", \"provide\", \"report\", \"include\", \"reduce\", \"strategy\", \"sector\", \"data\", \"risk\", \"bond\", \"td\", \"pseg\", \"coal-fired\", \"maintain\", \"culture\", \"network\", \"singapore\", \"mizuho\", \"short-term\", \"60\", \"30e-3\", \"bank\", \"advance\", \"eraring\", \"car\", \"3lod\", \"advisory\", \"spend\", \"issuance\", \"wba\", \"mountain\", \"digital\", \"tone\", \"eliminate\", \"monetary\", \"efficient\", \"oversight\", \"dynamic\", \"cookstove\", \"apply\", \"green\", \"replace\", \"active\", \"water\", \"statement\", \"align\", \"financing\", \"retail\", \"neutrality\", \"mining\", \"paribas\", \"offset\", \"bnp\", \"achieve\", \"power\", \"energy\", \"capital\", \"project\", \"management\", \"plant\", \"raise\", \"limit\", \"coal\", \"asset\", \"building\", \"commit\", \"sustainable\", \"goal\", \"market\", \"employee\", \"value\", \"policy\", \"new\", \"scenario\", \"risk\", \"development\", \"carbon\", \"2019\", \"business\", \"target\", \"investment\", \"reduce\", \"use\", \"strategy\", \"operation\", \"portfolio\", \"global\", \"emission\", \"'s\", \"climate\"], \"Freq\": [215.0, 67.0, 115.0, 187.0, 48.0, 62.0, 48.0, 105.0, 65.0, 51.0, 86.0, 33.0, 73.0, 35.0, 79.0, 90.0, 75.0, 41.0, 35.0, 66.0, 30.0, 111.0, 41.0, 20.0, 19.0, 29.0, 32.0, 68.0, 16.0, 14.0, 11.25817109591439, 12.026042029198786, 11.118478370773468, 13.447554118102364, 9.425009268366301, 8.622140981528037, 7.789586598699594, 9.3426814131548, 6.226152132630156, 10.88124817821673, 8.48439653955421, 12.306052992718392, 5.372621010171058, 6.126865918528108, 9.951214619528674, 5.3519820626353525, 6.114522307837329, 6.104736426007068, 5.335887988164729, 6.849394615350899, 6.06687867589699, 5.304993089710884, 9.04682336695081, 5.267686867401847, 5.266178012889242, 4.50806531031229, 54.71721961750236, 8.967901831139235, 4.4772593438480435, 4.466612540572255, 55.216362740031535, 8.838850304316775, 83.43684758438357, 65.21570227050309, 133.61686171842717, 14.102275909494317, 13.309536154210946, 26.54407947403318, 36.58736784857468, 47.46354989269485, 15.03767004937054, 23.814191733548526, 60.26388538894788, 39.599394194380515, 34.61230643735386, 31.663055613617733, 72.51217294411984, 54.93046507666261, 23.42169525508407, 62.05619828749203, 34.93854783623959, 26.68434988344267, 32.35497040718071, 16.51512035973174, 60.769921861662425, 24.531973031514795, 27.732898396504844, 31.729379447339674, 23.078405817990546, 36.754057784843795, 38.937560833131236, 20.281680082365092, 39.8496293825927, 25.68115519042058, 28.049167455313217, 25.023415690003418, 28.91885654875647, 24.42981334262277, 5.941483033843278, 60.827124932401, 12.50088603805159, 5.143782512407671, 4.374105759745243, 5.090845155020411, 4.325736329245438, 4.299071161194771, 4.294255068850262, 7.127537258402172, 3.5464030560561945, 3.542250040181076, 4.953436602423372, 10.578311588281775, 28.05193825653711, 3.5043321009094957, 11.206753052964006, 4.199989450032811, 4.19888021653712, 3.4940927220452904, 13.994396232928583, 3.4902903224999315, 3.485316798315839, 3.4842928904736628, 4.175596528170635, 6.253666165543068, 17.277100056355177, 4.142156683496366, 5.503308162340669, 3.4310671083421274, 40.250014366192964, 13.556699665793563, 163.75003357490388, 7.514656143089032, 39.5990974033131, 27.648535391496388, 7.469928074985699, 26.10422037968512, 21.725062680278434, 7.89652329389055, 28.13672071011675, 11.260437310261961, 17.036842244374085, 14.366048340703694, 47.2238939429675, 43.726152647907135, 14.243268330605353, 9.323311832143473, 19.273892201675793, 16.51943709561913, 51.953430021719484, 44.63287351648451, 43.21772712285727, 31.636716525261537, 39.029944048356136, 12.792688957143929, 13.6786732883777, 29.344136392298513, 27.49172366511313, 30.96324955445844, 21.95730228436868, 22.617650736386334, 34.601391207952815, 19.348681939636073, 20.302592701686144, 23.236588605744707, 19.075317774091282, 18.64562138830059, 18.527932074938704, 17.504842637974267, 17.640682280139426, 9.636005192114474, 5.170179458740593, 5.153232175839029, 5.822989419501302, 5.003517889824982, 7.85014951619503, 4.274866545314337, 3.5594520999058483, 3.5397124385019336, 3.5374142783263385, 3.5306555654781584, 3.5229860403225146, 41.407168697769606, 4.177055373678144, 3.4749428639860658, 5.483384404090466, 2.737981518537924, 6.82367573429127, 2.726786829064942, 2.7257600298002593, 2.724628932186449, 2.7241850647868593, 2.7240052400469845, 2.72193545729103, 2.7209569109982135, 2.7191170042013986, 2.7186027054453574, 4.750917778015485, 3.3861972569027414, 2.7084114380208746, 7.436628740290413, 16.0655314708962, 6.69656302041624, 11.724564647990924, 13.471213135875548, 5.957876556296903, 22.97926163666918, 10.794716093563885, 4.629114689293147, 4.615869997785596, 11.070212390377892, 14.902880609396139, 6.98923677579885, 14.754266251374323, 19.876631510613908, 26.077246290277696, 61.976284901502716, 12.06717633305246, 38.32095417280167, 41.44544978839407, 13.071936277616382, 6.390923901288684, 10.305935666942826, 24.346773637160574, 22.7332278252362, 11.145681237208388, 9.647471416944667, 18.5165858333221, 21.88288218597084, 13.362300483923207, 16.538777437655305, 11.83439800261142, 19.121655322725147, 23.62636935492847, 27.38767952066975, 38.521075131649916, 16.99830877091999, 32.21762098091515, 19.777677552755815, 24.03816800924089, 26.344775152283667, 24.522543928566623, 19.442058652412193, 22.050828902360752, 18.81054653442641, 19.754179254580624, 20.07309003892671, 18.569913459347656, 23.1910184550189, 19.75815218250025, 19.408906163368947], \"Total\": [215.0, 67.0, 115.0, 187.0, 48.0, 62.0, 48.0, 105.0, 65.0, 51.0, 86.0, 33.0, 73.0, 35.0, 79.0, 90.0, 75.0, 41.0, 35.0, 66.0, 30.0, 111.0, 41.0, 20.0, 19.0, 29.0, 32.0, 68.0, 16.0, 14.0, 11.919275680983706, 12.769378997098014, 11.914624782185438, 14.466459056895781, 10.209168478924322, 9.357621171550873, 8.5054920397774, 10.206408117878462, 6.804183162626236, 11.907082397809674, 9.35327007761674, 13.603705444322468, 5.951175858972346, 6.800858255657486, 11.051269238670201, 5.95050227429051, 6.800439309722209, 6.800098703821985, 5.949924479746115, 7.649676838596694, 6.798921445366962, 5.948969776115472, 10.196623190037906, 5.94758058198846, 5.947755096389149, 5.097818678057906, 62.0257263688195, 10.194325586265656, 5.096800389656511, 5.096407415253067, 65.34494220521884, 10.190078793474061, 105.89317695971388, 86.31021105990641, 187.62715908974894, 16.965959693104512, 16.113468019850064, 34.70288422134171, 49.89501322869675, 66.75095539035296, 18.64777515381591, 31.312725566600704, 90.28195301618416, 58.24352568242047, 49.82704607788894, 46.43024893736848, 128.6739303559092, 92.61641629784017, 32.955696761543095, 111.03434725301662, 54.803885430353034, 39.67266828728084, 54.728353837883034, 21.995843033651976, 132.48150406588215, 37.94070524888282, 45.48156758808851, 59.66832623373675, 37.07961624419396, 82.96236807809517, 96.24558553987333, 32.03133742304245, 115.28497748636511, 54.5179145141193, 75.21536341279294, 67.71415646531646, 215.85990857867927, 75.95970501697678, 6.6247399309605175, 67.91951363324638, 14.068285658629215, 5.798096052999358, 4.969995672479503, 5.7976266008383766, 4.970871267767593, 4.9703275209348075, 4.970708625466152, 8.28971268565929, 4.142935565765814, 4.143039898574505, 5.797786490879445, 12.428437415682088, 33.14543061122136, 4.1436971302054015, 13.26173443629808, 4.975232801722195, 4.9742543232815395, 4.143066354542941, 16.604439037307646, 4.143521587118012, 4.143963456485087, 4.143772921697657, 4.97120924534662, 7.458492976023712, 20.715554465487017, 4.971898592243003, 6.626601144834994, 4.145385338742203, 48.924200760159785, 16.591314651487146, 215.85990857867927, 9.122443856073433, 51.33575824678156, 35.6179664042288, 9.132635294060652, 35.75076925609074, 29.87731007909995, 9.954296333426619, 41.576469569974876, 14.916315574861933, 24.045596936834386, 19.884649747290283, 79.24370265653839, 73.80998098312044, 19.946020112836795, 12.433329857629507, 31.67194615804283, 26.526234103764672, 132.48150406588215, 115.11040345926835, 115.28497748636511, 74.01319086740469, 111.03434725301662, 20.739022671235684, 23.24759206678811, 82.96236807809517, 75.95970501697678, 96.24558553987333, 60.068930447106595, 67.71415646531646, 187.62715908974894, 50.912365723766165, 59.66832623373675, 92.61641629784017, 53.34596064237853, 50.82139792225608, 54.5179145141193, 41.72210585854866, 128.6739303559092, 10.755922646777144, 5.78959124644322, 5.789525866083725, 6.619245845073799, 5.793695827059464, 9.112063304053978, 4.96469453674011, 4.137517595929294, 4.138026964443593, 4.137613259755172, 4.13787526766949, 4.138452830189783, 48.82563378864524, 4.967624061304198, 4.137665632004702, 6.616443390546352, 3.3117564179714387, 8.271840762241387, 3.311800581264448, 3.3119750337605653, 3.311902718735003, 3.3120480682643363, 3.3119498221794164, 3.311970638960841, 3.31188929092634, 3.312061017374152, 3.3118732515028473, 5.797757503713592, 4.139933439196149, 3.3117032432734366, 9.11669899445707, 19.923016455112023, 8.269275893100833, 14.944899697002697, 17.36409003256682, 7.467803901354201, 30.675573315425133, 14.117464970250245, 5.799730091906014, 5.790353631769463, 14.930833074976256, 20.767181887592393, 9.103310674654072, 20.76445309516302, 29.899815978835576, 41.3728946818883, 115.11040345926835, 17.4228509930045, 68.31431716771624, 75.21536341279294, 19.839458920046226, 8.303657591830653, 14.919996812179974, 43.303021644581776, 40.93735195917243, 16.60777114819176, 14.109311930965326, 35.14632081357421, 45.13276341544143, 22.44534135523934, 30.61602909097444, 19.078918479925733, 41.009458922970154, 57.620981122466176, 74.01319086740469, 128.6739303559092, 34.9918464550501, 115.28497748636511, 49.28259206757737, 75.95970501697678, 96.24558553987333, 90.28195301618416, 53.34596064237853, 73.80998098312044, 50.82139792225608, 60.068930447106595, 67.71415646531646, 56.0798436610866, 215.85990857867927, 132.48150406588215, 187.62715908974894], \"Category\": [\"Default\", \"Default\", \"Default\", \"Default\", \"Default\", \"Default\", \"Default\", \"Default\", \"Default\", \"Default\", \"Default\", \"Default\", \"Default\", \"Default\", \"Default\", \"Default\", \"Default\", \"Default\", \"Default\", \"Default\", \"Default\", \"Default\", \"Default\", \"Default\", \"Default\", \"Default\", \"Default\", \"Default\", \"Default\", \"Default\", \"Topic1\", \"Topic1\", \"Topic1\", \"Topic1\", \"Topic1\", \"Topic1\", \"Topic1\", \"Topic1\", \"Topic1\", \"Topic1\", \"Topic1\", \"Topic1\", \"Topic1\", \"Topic1\", \"Topic1\", \"Topic1\", \"Topic1\", \"Topic1\", \"Topic1\", \"Topic1\", \"Topic1\", \"Topic1\", \"Topic1\", \"Topic1\", \"Topic1\", \"Topic1\", \"Topic1\", \"Topic1\", \"Topic1\", \"Topic1\", \"Topic1\", \"Topic1\", \"Topic1\", \"Topic1\", \"Topic1\", \"Topic1\", \"Topic1\", \"Topic1\", \"Topic1\", \"Topic1\", \"Topic1\", \"Topic1\", \"Topic1\", \"Topic1\", \"Topic1\", \"Topic1\", \"Topic1\", \"Topic1\", \"Topic1\", \"Topic1\", \"Topic1\", \"Topic1\", \"Topic1\", \"Topic1\", \"Topic1\", \"Topic1\", \"Topic1\", \"Topic1\", \"Topic1\", \"Topic1\", \"Topic1\", \"Topic1\", \"Topic1\", \"Topic1\", \"Topic1\", \"Topic1\", \"Topic1\", \"Topic1\", \"Topic2\", \"Topic2\", \"Topic2\", \"Topic2\", \"Topic2\", \"Topic2\", \"Topic2\", \"Topic2\", \"Topic2\", \"Topic2\", \"Topic2\", \"Topic2\", \"Topic2\", \"Topic2\", \"Topic2\", \"Topic2\", \"Topic2\", \"Topic2\", \"Topic2\", \"Topic2\", \"Topic2\", \"Topic2\", \"Topic2\", \"Topic2\", \"Topic2\", \"Topic2\", \"Topic2\", \"Topic2\", \"Topic2\", \"Topic2\", \"Topic2\", \"Topic2\", \"Topic2\", \"Topic2\", \"Topic2\", \"Topic2\", \"Topic2\", \"Topic2\", \"Topic2\", \"Topic2\", \"Topic2\", \"Topic2\", \"Topic2\", \"Topic2\", \"Topic2\", \"Topic2\", \"Topic2\", \"Topic2\", \"Topic2\", \"Topic2\", \"Topic2\", \"Topic2\", \"Topic2\", \"Topic2\", \"Topic2\", \"Topic2\", \"Topic2\", \"Topic2\", \"Topic2\", \"Topic2\", \"Topic2\", \"Topic2\", \"Topic2\", \"Topic2\", \"Topic2\", \"Topic2\", \"Topic2\", \"Topic2\", \"Topic2\", \"Topic2\", \"Topic2\", \"Topic3\", \"Topic3\", \"Topic3\", \"Topic3\", \"Topic3\", \"Topic3\", \"Topic3\", \"Topic3\", \"Topic3\", \"Topic3\", \"Topic3\", \"Topic3\", \"Topic3\", \"Topic3\", \"Topic3\", \"Topic3\", \"Topic3\", \"Topic3\", \"Topic3\", \"Topic3\", \"Topic3\", \"Topic3\", \"Topic3\", \"Topic3\", \"Topic3\", \"Topic3\", \"Topic3\", \"Topic3\", \"Topic3\", \"Topic3\", \"Topic3\", \"Topic3\", \"Topic3\", \"Topic3\", \"Topic3\", \"Topic3\", \"Topic3\", \"Topic3\", \"Topic3\", \"Topic3\", \"Topic3\", \"Topic3\", \"Topic3\", \"Topic3\", \"Topic3\", \"Topic3\", \"Topic3\", \"Topic3\", \"Topic3\", \"Topic3\", \"Topic3\", \"Topic3\", \"Topic3\", \"Topic3\", \"Topic3\", \"Topic3\", \"Topic3\", \"Topic3\", \"Topic3\", \"Topic3\", \"Topic3\", \"Topic3\", \"Topic3\", \"Topic3\", \"Topic3\", \"Topic3\", \"Topic3\", \"Topic3\", \"Topic3\", \"Topic3\", \"Topic3\", \"Topic3\", \"Topic3\", \"Topic3\", \"Topic3\", \"Topic3\", \"Topic3\", \"Topic3\", \"Topic3\", \"Topic3\", \"Topic3\"], \"logprob\": [30.0, 29.0, 28.0, 27.0, 26.0, 25.0, 24.0, 23.0, 22.0, 21.0, 20.0, 19.0, 18.0, 17.0, 16.0, 15.0, 14.0, 13.0, 12.0, 11.0, 10.0, 9.0, 8.0, 7.0, 6.0, 5.0, 4.0, 3.0, 2.0, 1.0, -6.346, -6.28, -6.3585, -6.1683, -6.5237, -6.6128, -6.7143, -6.5325, -6.9383, -6.3801, -6.6289, -6.257, -7.0858, -6.9544, -6.4694, -7.0896, -6.9564, -6.958, -7.0926, -6.8429, -6.9643, -7.0984, -6.5647, -7.1055, -7.1058, -7.2612, -4.7649, -6.5734, -7.2681, -7.2705, -4.7558, -6.5879, -4.343, -4.5894, -3.8721, -6.1208, -6.1786, -5.4883, -5.1674, -4.9071, -6.0565, -5.5968, -4.6684, -5.0883, -5.2229, -5.3119, -4.4833, -4.761, -5.6134, -4.6391, -5.2135, -5.483, -5.2903, -5.9628, -4.66, -5.5671, -5.4445, -5.3099, -5.6282, -5.1628, -5.1051, -5.7574, -5.082, -5.5213, -5.4331, -5.5473, -5.4026, -5.5713, -6.767, -4.441, -6.0232, -6.9112, -7.0733, -6.9216, -7.0844, -7.0906, -7.0917, -6.585, -7.2831, -7.2842, -6.9489, -6.1902, -5.2149, -7.295, -6.1325, -7.1139, -7.1142, -7.2979, -5.9103, -7.299, -7.3004, -7.3007, -7.1197, -6.7158, -5.6996, -7.1278, -6.8436, -7.3161, -4.8539, -5.9421, -3.4507, -6.5321, -4.8702, -5.2294, -6.5381, -5.2869, -5.4705, -6.4826, -5.2119, -6.1277, -5.7136, -5.8841, -4.6941, -4.771, -5.8927, -6.3165, -5.5902, -5.7445, -4.5986, -4.7505, -4.7827, -5.0947, -4.8847, -6.0001, -5.9332, -5.1699, -5.2351, -5.1162, -5.4599, -5.4303, -5.0051, -5.5864, -5.5382, -5.4033, -5.6006, -5.6234, -5.6297, -5.6865, -5.6788, -6.281, -6.9036, -6.9069, -6.7847, -6.9364, -6.486, -7.0938, -7.2769, -7.2825, -7.2832, -7.2851, -7.2872, -4.8231, -7.1169, -7.301, -6.8448, -7.5393, -6.6261, -7.5434, -7.5438, -7.5442, -7.5444, -7.5444, -7.5452, -7.5456, -7.5462, -7.5464, -6.9882, -7.3268, -7.5502, -6.5401, -5.7699, -6.645, -6.0849, -5.946, -6.7618, -5.412, -6.1675, -7.0142, -7.017, -6.1423, -5.845, -6.6022, -5.855, -5.557, -5.2855, -4.4198, -6.0561, -4.9005, -4.8222, -5.9761, -6.6917, -6.2138, -5.3541, -5.4227, -6.1355, -6.2799, -5.6279, -5.4608, -5.9541, -5.7408, -6.0755, -5.5957, -5.3842, -5.2365, -4.8953, -5.7134, -5.074, -5.562, -5.3669, -5.2753, -5.347, -5.5791, -5.4532, -5.6121, -5.5632, -5.5472, -5.625, -5.4028, -5.563, -5.5808], \"loglift\": [30.0, 29.0, 28.0, 27.0, 26.0, 25.0, 24.0, 23.0, 22.0, 21.0, 20.0, 19.0, 18.0, 17.0, 16.0, 15.0, 14.0, 13.0, 12.0, 11.0, 10.0, 9.0, 8.0, 7.0, 6.0, 5.0, 4.0, 3.0, 2.0, 1.0, 0.9008, 0.8979, 0.8887, 0.8848, 0.8779, 0.876, 0.8699, 0.8694, 0.8691, 0.8678, 0.8604, 0.8576, 0.8556, 0.8535, 0.853, 0.8519, 0.8515, 0.85, 0.8489, 0.8474, 0.8439, 0.8433, 0.8382, 0.8365, 0.8362, 0.8349, 0.8325, 0.8297, 0.8283, 0.826, 0.7894, 0.8156, 0.7195, 0.6776, 0.6184, 0.773, 0.7667, 0.6898, 0.6476, 0.6169, 0.7427, 0.6841, 0.5537, 0.572, 0.5935, 0.5751, 0.3843, 0.4355, 0.6164, 0.3761, 0.5077, 0.5613, 0.4322, 0.6713, 0.1785, 0.5218, 0.4632, 0.3263, 0.4837, 0.1437, 0.0529, 0.5009, -0.1044, 0.2051, -0.0285, -0.0376, -1.0523, -0.1765, 1.0671, 1.0657, 1.0578, 1.0562, 1.0482, 1.046, 1.037, 1.0309, 1.0297, 1.0249, 1.0205, 1.0193, 1.0186, 1.0148, 1.0091, 1.0084, 1.0076, 1.0066, 1.0065, 1.0056, 1.005, 1.0044, 1.0029, 1.0026, 1.0016, 0.9998, 0.9945, 0.9934, 0.9902, 0.9868, 0.9808, 0.974, 0.8997, 0.9821, 0.9164, 0.9227, 0.975, 0.8615, 0.8573, 0.9444, 0.7855, 0.8948, 0.8314, 0.8509, 0.6583, 0.6524, 0.8392, 0.8881, 0.6793, 0.7024, 0.2399, 0.2285, 0.1948, 0.326, 0.1305, 0.6928, 0.6456, 0.1367, 0.1596, 0.0419, 0.1696, 0.0794, -0.5146, 0.2085, 0.0979, -0.2068, 0.1476, 0.1733, 0.0967, 0.3074, -0.8111, 1.0685, 1.0653, 1.062, 1.0502, 1.0318, 1.0293, 1.0288, 1.0279, 1.0222, 1.0217, 1.0197, 1.0174, 1.0136, 1.0051, 1.0039, 0.9906, 0.9882, 0.986, 0.984, 0.9836, 0.9832, 0.983, 0.983, 0.9822, 0.9819, 0.9811, 0.981, 0.9793, 0.9774, 0.9773, 0.9747, 0.9632, 0.9675, 0.9357, 0.9246, 0.9525, 0.8895, 0.9101, 0.953, 0.9517, 0.8792, 0.8466, 0.9141, 0.8367, 0.7701, 0.7168, 0.5593, 0.8111, 0.6003, 0.5824, 0.7612, 0.9166, 0.8084, 0.6026, 0.5902, 0.7796, 0.7983, 0.5376, 0.4545, 0.6598, 0.5626, 0.7008, 0.4154, 0.2869, 0.1843, -0.0277, 0.4564, -0.0965, 0.2654, 0.0279, -0.1172, -0.1249, 0.1691, -0.0297, 0.1845, 0.0663, -0.0375, 0.0732, -1.0525, -0.7245, -1.0903]}, \"token.table\": {\"Topic\": [1, 2, 3, 1, 2, 3, 1, 2, 3, 1, 2, 3, 1, 2, 3, 1, 2, 3, 3, 3, 1, 3, 1, 2, 3, 1, 2, 3, 1, 2, 3, 1, 3, 2, 3, 1, 2, 3, 2, 1, 2, 3, 1, 2, 3, 1, 2, 3, 1, 1, 1, 2, 3, 2, 1, 2, 3, 1, 2, 3, 2, 2, 1, 2, 3, 1, 2, 3, 1, 1, 3, 1, 2, 3, 1, 2, 3, 2, 1, 2, 3, 2, 3, 1, 2, 3, 1, 2, 3, 2, 1, 2, 3, 1, 1, 2, 3, 1, 2, 3, 3, 1, 1, 2, 1, 2, 3, 1, 2, 3, 1, 2, 3, 3, 1, 2, 3, 1, 3, 1, 2, 3, 1, 2, 3, 1, 2, 3, 2, 3, 1, 2, 3, 1, 2, 3, 3, 1, 2, 3, 3, 1, 2, 3, 1, 2, 3, 1, 2, 3, 1, 2, 3, 3, 1, 2, 3, 2, 1, 2, 3, 1, 2, 3, 1, 2, 3, 1, 2, 3, 1, 2, 3, 1, 2, 3, 1, 1, 2, 3, 1, 2, 3, 1, 2, 3, 1, 2, 3, 1, 2, 3, 1, 2, 3, 1, 3, 1, 2, 3, 1, 2, 3, 1, 2, 1, 2, 1, 1, 2, 3, 1, 2, 3, 1, 2, 1, 2, 3, 2, 1, 1, 3, 1, 2, 3, 1, 2, 3, 1, 2, 3, 3, 1, 2, 1, 2, 3, 1, 3, 1, 2, 3, 1, 2, 1, 2, 3, 1, 1, 2, 3, 3, 3, 1, 3, 3, 2, 3, 1, 2, 3, 1, 2, 3, 2, 1, 2, 3, 1, 2, 3, 1, 2, 3, 1, 2, 3, 1, 2, 3, 2, 3, 1, 3, 1, 1, 2, 3, 2, 3, 1, 2, 3, 1, 2, 3, 1, 2, 3, 1, 2, 3, 1, 2, 3, 1, 2, 1, 2, 3, 3, 2, 3, 2, 1, 3, 1, 2, 3, 2, 1, 2, 3, 2, 3, 1, 2, 3, 1, 2, 3, 1, 2, 3, 1, 2, 3, 1, 2, 3, 2, 1, 1, 2, 3, 1, 2, 3, 1, 2, 3, 2, 3, 3, 1, 2, 3, 1, 2, 3, 3, 1, 1, 3, 2, 1, 1, 2, 3, 1, 2, 3, 1, 2, 3, 1, 2, 3, 1, 2, 3, 1, 3, 1, 3, 3, 1, 2, 3, 1, 2, 3, 2, 3, 1, 2, 3, 1, 2, 3, 1, 2, 3, 1, 2, 3, 1, 1, 1, 2, 3, 3, 1, 2, 1, 2, 3, 1, 2, 3], \"Freq\": [0.46044163243848074, 0.39250762109509835, 0.1509644696519609, 0.16782855655554318, 0.7272570784073539, 0.08391427827777159, 0.05843879787609998, 0.779183971681333, 0.17531639362829993, 0.34494938855264, 0.24349368603715765, 0.40582281006192944, 0.702429759638741, 0.08027768681585612, 0.22076363874360433, 0.060340142309778945, 0.8447619923369052, 0.09051021346466842, 0.9665447847611607, 0.9058637234671988, 0.8401700972189728, 0.9666796945894545, 0.1340753424605519, 0.8044520547633113, 0.1340753424605519, 0.1672251094635239, 0.1672251094635239, 0.6689004378540956, 0.20073737936171435, 0.06691245978723812, 0.8029495174468574, 0.9397481273542853, 0.8052139112454982, 0.12089207574748259, 0.8462445302323782, 0.08046063769353734, 0.8850670146289107, 0.08046063769353734, 0.80452163812043, 0.1303969108863765, 0.1303969108863765, 0.7497822375966648, 0.10045913508140106, 0.8036730806512085, 0.10045913508140106, 0.10968882493630615, 0.10968882493630615, 0.7678217745541431, 0.9405687481202288, 0.7848666078046228, 0.36641353878872707, 0.07328270775774541, 0.5618340928093815, 0.8039824786923307, 0.06144313482926405, 0.08192417977235207, 0.8397228426666087, 0.25258946703432894, 0.5998999842065312, 0.12629473351716447, 0.804714237223044, 0.8041406289337415, 0.19263690604650602, 0.09631845302325301, 0.7223883976743976, 0.6979066522677599, 0.12137506995961043, 0.15171883744951303, 0.8822415898770909, 0.09297203344053757, 0.9297203344053757, 0.18063832727648332, 0.18063832727648332, 0.6623405333471055, 0.3159569931799507, 0.3554516173274445, 0.3159569931799507, 0.7236962923476404, 0.1721876632707551, 0.1721876632707551, 0.6887506530830204, 0.15113860135625298, 0.7556930067812649, 0.34696628192281903, 0.37298875306703044, 0.2775730255382552, 0.5583857746172823, 0.3512426646786131, 0.09006222171246489, 0.9654989648048284, 0.7141823212059769, 0.18654015852394917, 0.10126465748442956, 0.8818104769660783, 0.6892058675620286, 0.08615073344525358, 0.21537683361313392, 0.25402384365425357, 0.1847446135667299, 0.5542338407001897, 0.9064476740149097, 0.8404816612238488, 0.10949741972619265, 0.7664819380833485, 0.14175035677045697, 0.14175035677045697, 0.7087517838522848, 0.44598534078934077, 0.3495560779159698, 0.20491218360591332, 0.04827290535071325, 0.8206393909621252, 0.0965458107014265, 0.9058782685596747, 0.8828440806447544, 0.09809378673830604, 0.09809378673830604, 0.10974462826164715, 0.8779570260931772, 0.6243885397558379, 0.18731656192675136, 0.18731656192675136, 0.31158542294279623, 0.43142597022848705, 0.2636492040285199, 0.25720277469670655, 0.25720277469670655, 0.4858274633160012, 0.8623520469988588, 0.9058108247623936, 0.7664615444910128, 0.06387179537425107, 0.1916153861227532, 0.8824929142384228, 0.8048296746311697, 0.724649331700973, 0.9058317671543358, 0.05615143709503153, 0.7861201193304415, 0.16845431128509458, 0.9058273802264978, 0.13434639248644786, 0.759752012681981, 0.10655058714442417, 0.03266262901137622, 0.42461417714789085, 0.5552646931933957, 0.07818580883685841, 0.39092904418429203, 0.5386133497650246, 0.783808762594559, 0.09443479067404324, 0.1133217488088519, 0.7250465037085411, 0.08042897690728977, 0.7238607921656078, 0.16085795381457954, 0.9056959310899414, 0.6589229123709063, 0.026356916494836253, 0.31628299793803505, 0.7041097722893802, 0.059924235939521724, 0.22471588477320648, 0.2125027408477304, 0.07083424694924348, 0.7791767164416782, 0.10961974836756401, 0.8769579869405121, 0.10961974836756401, 0.07540491817291609, 0.8294540999020769, 0.07540491817291609, 0.8067785273775574, 0.062059886721350564, 0.12411977344270113, 0.7848060928808657, 0.10219891019807167, 0.8175912815845734, 0.08175912815845734, 0.7728733094699433, 0.045463135851173134, 0.18185254340469253, 0.2902438834753549, 0.593107066232247, 0.11357369353383452, 0.4101295313695665, 0.2496440625727796, 0.3388026563487723, 0.3766664993126419, 0.13294111740446185, 0.4874507638163601, 0.8867288336610057, 0.032244684860400205, 0.09673405458120062, 0.15057960759904074, 0.8030912405282172, 0.19241652989645205, 0.6734578546375822, 0.14431239742233903, 0.7530974516431739, 0.04634445856265686, 0.19696394889129165, 0.12063144259872123, 0.8444200981910487, 0.9238199277115497, 0.08398362979195907, 0.8403468005384417, 0.5847060573901194, 0.31062509298850094, 0.10963238576064739, 0.5938472054795172, 0.2483361041096163, 0.15116110684933165, 0.12044971802457792, 0.8431480261720454, 0.6202868942474941, 0.24272095861858464, 0.1348449770103248, 0.8046331994060125, 0.8553158343139002, 0.8826451495033173, 0.09807168327814637, 0.09643655979864141, 0.6268376386911692, 0.24109139949660352, 0.8251817317289767, 0.11788310453271096, 0.05894155226635548, 0.6645846483764508, 0.0553820540313709, 0.2769102701568545, 0.9058039295041621, 0.9808116599990231, 0.7240218101739448, 0.13404828601352617, 0.20107242902028927, 0.6702414300676309, 0.8402652027548649, 0.8630069905719754, 0.3722643716594427, 0.07977093678416629, 0.5451014013584696, 0.8815605324350838, 0.9653215170679527, 0.22276337529760346, 0.17821070023808275, 0.5791847757737689, 0.9617828970638268, 0.13395099857836837, 0.13395099857836837, 0.736730492181026, 0.9666442568814549, 0.9057804141478172, 0.8823401337730156, 0.9057839554762671, 0.8056890449953962, 0.17270102373599105, 0.8635051186799553, 0.34709579063731155, 0.24296705344611808, 0.41651494876477385, 0.8832120126258285, 0.0981346680695365, 0.0981346680695365, 0.862398090696432, 0.10985014526465123, 0.10985014526465123, 0.7689510168525586, 0.7780333135363843, 0.05763209729899143, 0.17289629189697428, 0.29965574326064975, 0.366245908429683, 0.3329508258451664, 0.12054499851346813, 0.8438149895942769, 0.060272499256734065, 0.7415570736580088, 0.14029458150286653, 0.12025249843102846, 0.9054415482176125, 0.1509069247029354, 0.17248048048913356, 0.8624024024456678, 0.8817989537607056, 0.1926115936987025, 0.09630579684935126, 0.7222934763701344, 0.3024276026972423, 0.655259805844025, 0.41453851005281095, 0.12192309119200322, 0.4633077465296122, 0.3691990169412378, 0.33966309558593877, 0.2953592135529902, 0.04834082834613781, 0.31421538424989576, 0.6284307684997915, 0.1130955863642262, 0.6408749893972818, 0.3015882303046032, 0.2781261789289897, 0.1610204193799414, 0.5562523578579794, 0.8986304076810864, 0.06912541597546819, 0.31426549861797354, 0.3731902796088436, 0.2946239049543502, 0.8636285795510587, 0.9240642616626178, 0.07108186628173983, 0.9654746509625164, 0.12042885787870457, 0.7225731472722274, 0.28118342643704985, 0.35616567348692985, 0.35616567348692985, 0.7239778956736205, 0.030998119898132576, 0.4959699183701212, 0.46497179847198866, 0.12092957266479806, 0.8465070086535864, 0.5362979325856647, 0.3351862078660404, 0.13407448314641618, 0.13388086107517813, 0.7363447359134798, 0.13388086107517813, 0.17242181690413141, 0.17242181690413141, 0.8621090845206572, 0.15040594479643934, 0.7018944090500503, 0.1002706298642929, 0.5673254854194913, 0.13988847585686087, 0.3030916976898652, 0.8047759394430589, 0.9232351165977991, 0.2026665763792381, 0.4323553629423746, 0.36479983748262856, 0.058893236803774944, 0.8981218612575679, 0.044169927602831206, 0.47690745751594005, 0.3485092958770331, 0.18342594519843847, 0.7239446079827649, 0.9667409080752717, 0.9667632601575903, 0.8416871779803543, 0.030606806472012884, 0.12242722588805154, 0.08317531085852514, 0.7069901422974637, 0.20793827714631286, 0.9058516436562124, 0.882295941002243, 0.13390817611301514, 0.803449056678091, 0.8624218743713101, 0.9150713353904405, 0.25579776494709416, 0.373858271845753, 0.373858271845753, 0.6156340136203466, 0.13192157434721716, 0.2638431486944343, 0.6805692978472101, 0.22685643261573668, 0.10082508116254964, 0.4267872042585664, 0.05690496056780886, 0.5405971253941841, 0.4052133901127631, 0.3220926947050168, 0.2701422600751754, 0.8821126015344755, 0.07350938346120629, 0.9048734388814239, 0.09048734388814239, 0.8636188268164358, 0.8043855031644639, 0.10725140042192853, 0.053625700210964265, 0.12904562293511032, 0.6022129070305148, 0.25809124587022064, 0.7241013643700035, 0.9058051314552944, 0.05029004849010588, 0.7040606788614824, 0.20116019396042353, 0.0670406840738388, 0.7374475248122268, 0.1340813681476776, 0.10838642543248338, 0.5961253398786586, 0.2980626699393293, 0.157241617398623, 0.26206936233103834, 0.628966469594492, 0.8406533085122274, 0.922874870454558, 0.057590118349102826, 0.17277035504730848, 0.7486715385383368, 0.9058237076316856, 0.8406779750310411, 0.8046879077189201, 0.6867716116312156, 0.06867716116312156, 0.24037006407092545, 0.6386408504645058, 0.21896257730211627, 0.1459750515347442], \"Term\": [\"'s\", \"'s\", \"'s\", \"1\", \"1\", \"1\", \"2\", \"2\", \"2\", \"2019\", \"2019\", \"2019\", \"2020\", \"2020\", \"2020\", \"3\", \"3\", \"3\", \"30e-3\", \"3lod\", \"500\", \"60\", \"able\", \"able\", \"able\", \"achieve\", \"achieve\", \"achieve\", \"active\", \"active\", \"active\", \"adaptation\", \"advance\", \"advisory\", \"advisory\", \"air\", \"air\", \"air\", \"airline\", \"align\", \"align\", \"align\", \"alternative\", \"alternative\", \"alternative\", \"apply\", \"apply\", \"apply\", \"arctic\", \"aspect\", \"asset\", \"asset\", \"asset\", \"aviva\", \"bank\", \"bank\", \"bank\", \"base\", \"base\", \"base\", \"baseline\", \"biomass\", \"bnp\", \"bnp\", \"bnp\", \"board\", \"board\", \"board\", \"body\", \"bond\", \"bond\", \"building\", \"building\", \"building\", \"business\", \"business\", \"business\", \"canadian\", \"capital\", \"capital\", \"capital\", \"car\", \"car\", \"carbon\", \"carbon\", \"carbon\", \"change\", \"change\", \"change\", \"cibc\", \"climate\", \"climate\", \"climate\", \"climate-kic\", \"climate-related\", \"climate-related\", \"climate-related\", \"coal\", \"coal\", \"coal\", \"coal-fired\", \"coalition\", \"combustion\", \"combustion\", \"commit\", \"commit\", \"commit\", \"company\", \"company\", \"company\", \"consumption\", \"consumption\", \"consumption\", \"cookstove\", \"country\", \"country\", \"country\", \"culture\", \"culture\", \"customer\", \"customer\", \"customer\", \"data\", \"data\", \"data\", \"development\", \"development\", \"development\", \"diesel\", \"digital\", \"disclosure\", \"disclosure\", \"disclosure\", \"discussion\", \"dr\", \"dynamic\", \"efficient\", \"electricity\", \"electricity\", \"electricity\", \"eliminate\", \"emission\", \"emission\", \"emission\", \"employee\", \"employee\", \"employee\", \"energy\", \"energy\", \"energy\", \"environmental\", \"environmental\", \"environmental\", \"eraring\", \"facility\", \"facility\", \"facility\", \"figure\", \"finance\", \"finance\", \"finance\", \"financial\", \"financial\", \"financial\", \"financing\", \"financing\", \"financing\", \"fleet\", \"fleet\", \"fleet\", \"footprint\", \"footprint\", \"footprint\", \"force\", \"force\", \"force\", \"form\", \"fuel\", \"fuel\", \"fuel\", \"fund\", \"fund\", \"fund\", \"gas\", \"gas\", \"gas\", \"global\", \"global\", \"global\", \"goal\", \"goal\", \"goal\", \"governance\", \"governance\", \"governance\", \"green\", \"green\", \"greenhouse\", \"greenhouse\", \"greenhouse\", \"group\", \"group\", \"group\", \"heat\", \"heat\", \"http\", \"http\", \"iag\", \"impact\", \"impact\", \"impact\", \"include\", \"include\", \"include\", \"indirect\", \"indirect\", \"industry\", \"industry\", \"industry\", \"initial\", \"institutional\", \"insurance\", \"insurance\", \"intensity\", \"intensity\", \"intensity\", \"internal\", \"internal\", \"internal\", \"investment\", \"investment\", \"investment\", \"issuance\", \"join\", \"leak\", \"limit\", \"limit\", \"limit\", \"lti\", \"maintain\", \"management\", \"management\", \"management\", \"manager\", \"maritime\", \"market\", \"market\", \"market\", \"measurement\", \"mining\", \"mining\", \"mining\", \"mizuho\", \"monetary\", \"morgan\", \"mountain\", \"network\", \"neutrality\", \"neutrality\", \"new\", \"new\", \"new\", \"number\", \"number\", \"number\", \"occur\", \"offset\", \"offset\", \"offset\", \"oil\", \"oil\", \"oil\", \"operation\", \"operation\", \"operation\", \"operational\", \"operational\", \"operational\", \"opportunity\", \"opportunity\", \"opportunity\", \"outside\", \"outside\", \"oversight\", \"oversight\", \"p\", \"paribas\", \"paribas\", \"paribas\", \"plant\", \"plant\", \"policy\", \"policy\", \"policy\", \"portfolio\", \"portfolio\", \"portfolio\", \"power\", \"power\", \"power\", \"production\", \"production\", \"production\", \"project\", \"project\", \"project\", \"proposal\", \"proposal\", \"provide\", \"provide\", \"provide\", \"pseg\", \"purchase\", \"purchase\", \"quantify\", \"raise\", \"raise\", \"reduce\", \"reduce\", \"reduce\", \"refrigerant\", \"renewable\", \"renewable\", \"renewable\", \"replace\", \"replace\", \"report\", \"report\", \"report\", \"result\", \"result\", \"result\", \"retail\", \"retail\", \"retail\", \"review\", \"review\", \"review\", \"risk\", \"risk\", \"risk\", \"rng\", \"s\", \"scenario\", \"scenario\", \"scenario\", \"scope\", \"scope\", \"scope\", \"sector\", \"sector\", \"sector\", \"shipping\", \"short-term\", \"singapore\", \"social\", \"social\", \"social\", \"source\", \"source\", \"source\", \"spend\", \"stanley\", \"statement\", \"statement\", \"steam\", \"stewardship\", \"strategy\", \"strategy\", \"strategy\", \"support\", \"support\", \"support\", \"sustainability\", \"sustainability\", \"sustainability\", \"sustainable\", \"sustainable\", \"sustainable\", \"target\", \"target\", \"target\", \"task\", \"task\", \"tax\", \"tax\", \"td\", \"team\", \"team\", \"team\", \"technology\", \"technology\", \"technology\", \"timeframe\", \"tone\", \"total\", \"total\", \"total\", \"travel\", \"travel\", \"travel\", \"use\", \"use\", \"use\", \"value\", \"value\", \"value\", \"view\", \"vote\", \"water\", \"water\", \"water\", \"wba\", \"well\", \"wm\", \"work\", \"work\", \"work\", \"year\", \"year\", \"year\"]}, \"R\": 30, \"lambda.step\": 0.01, \"plot.opts\": {\"xlab\": \"PC1\", \"ylab\": \"PC2\"}, \"topic.order\": [3, 1, 2]};\n",
       "\n",
       "function LDAvis_load_lib(url, callback){\n",
       "  var s = document.createElement('script');\n",
       "  s.src = url;\n",
       "  s.async = true;\n",
       "  s.onreadystatechange = s.onload = callback;\n",
       "  s.onerror = function(){console.warn(\"failed to load library \" + url);};\n",
       "  document.getElementsByTagName(\"head\")[0].appendChild(s);\n",
       "}\n",
       "\n",
       "if(typeof(LDAvis) !== \"undefined\"){\n",
       "   // already loaded: just create the visualization\n",
       "   !function(LDAvis){\n",
       "       new LDAvis(\"#\" + \"ldavis_el1700020255372027686332116330\", ldavis_el1700020255372027686332116330_data);\n",
       "   }(LDAvis);\n",
       "}else if(typeof define === \"function\" && define.amd){\n",
       "   // require.js is available: use it to load d3/LDAvis\n",
       "   require.config({paths: {d3: \"https://d3js.org/d3.v5\"}});\n",
       "   require([\"d3\"], function(d3){\n",
       "      window.d3 = d3;\n",
       "      LDAvis_load_lib(\"https://cdn.jsdelivr.net/gh/bmabey/pyLDAvis@3.4.0/pyLDAvis/js/ldavis.v3.0.0.js\", function(){\n",
       "        new LDAvis(\"#\" + \"ldavis_el1700020255372027686332116330\", ldavis_el1700020255372027686332116330_data);\n",
       "      });\n",
       "    });\n",
       "}else{\n",
       "    // require.js not available: dynamically load d3 & LDAvis\n",
       "    LDAvis_load_lib(\"https://d3js.org/d3.v5.js\", function(){\n",
       "         LDAvis_load_lib(\"https://cdn.jsdelivr.net/gh/bmabey/pyLDAvis@3.4.0/pyLDAvis/js/ldavis.v3.0.0.js\", function(){\n",
       "                 new LDAvis(\"#\" + \"ldavis_el1700020255372027686332116330\", ldavis_el1700020255372027686332116330_data);\n",
       "            })\n",
       "         });\n",
       "}\n",
       "</script>"
      ],
      "text/plain": [
       "<IPython.core.display.HTML object>"
      ]
     },
     "execution_count": 132,
     "metadata": {},
     "output_type": "execute_result"
    }
   ],
   "source": [
    "neutral_vis = gensimvis.prepare(neutral_model, neutral_corpus, neutral_dictionary)\n",
    "pyLDAvis.display(neutral_vis)"
   ]
  },
  {
   "cell_type": "markdown",
   "id": "5f718b44",
   "metadata": {},
   "source": [
    "## Negative"
   ]
  },
  {
   "cell_type": "code",
   "execution_count": 89,
   "id": "27662664",
   "metadata": {},
   "outputs": [],
   "source": [
    "negative_texts = []\n",
    "for text in negative_df['processed_wo_punct']:\n",
    "    negative_texts.append(text)"
   ]
  },
  {
   "cell_type": "code",
   "execution_count": 90,
   "id": "4dde79e7",
   "metadata": {},
   "outputs": [
    {
     "name": "stdout",
     "output_type": "stream",
     "text": [
      "(0, '0.025*\"change\" + 0.023*\"climate\" + 0.022*\"risk\" + 0.019*\"impact\" + 0.012*\"increase\" + 0.010*\"cost\" + 0.008*\"weather\" + 0.008*\"physical\" + 0.008*\"result\" + 0.007*\"include\"')\n",
      "(1, '0.062*\"risk\" + 0.015*\"climate\" + 0.010*\"change\" + 0.009*\"scenario\" + 0.009*\"management\" + 0.008*\"physical\" + 0.008*\"portfolio\" + 0.008*\"include\" + 0.007*\"\\'s\" + 0.007*\"impact\"')\n",
      "(2, '0.017*\"risk\" + 0.013*\"impact\" + 0.012*\"change\" + 0.009*\"business\" + 0.009*\"climate\" + 0.009*\"\\'s\" + 0.009*\"increase\" + 0.008*\"group\" + 0.008*\"include\" + 0.007*\"loss\"')\n"
     ]
    }
   ],
   "source": [
    "negative_dictionary = corpora.Dictionary(negative_texts)\n",
    "negative_corpus = [negative_dictionary.doc2bow(doc) for doc in negative_texts]\n",
    "\n",
    "negative_model = LdaModel(\n",
    "    corpus = negative_corpus,\n",
    "    id2word = negative_dictionary,\n",
    "    num_topics = 3,\n",
    "    alpha = 2,\n",
    "    eta = 'auto',\n",
    "    passes = 10,\n",
    "    random_state = 10,\n",
    "    per_word_topics = True)\n",
    "\n",
    "for topic in negative_model.print_topics():\n",
    "    print(topic)"
   ]
  },
  {
   "cell_type": "code",
   "execution_count": 91,
   "id": "9dea05fb",
   "metadata": {
    "scrolled": false
   },
   "outputs": [
    {
     "data": {
      "text/html": [
       "\n",
       "<link rel=\"stylesheet\" type=\"text/css\" href=\"https://cdn.jsdelivr.net/gh/bmabey/pyLDAvis@3.4.0/pyLDAvis/js/ldavis.v1.0.0.css\">\n",
       "\n",
       "\n",
       "<div id=\"ldavis_el1700020255341253289901306437\" style=\"background-color:white;\"></div>\n",
       "<script type=\"text/javascript\">\n",
       "\n",
       "var ldavis_el1700020255341253289901306437_data = {\"mdsDat\": {\"x\": [-0.07678485809329702, 0.10543694967263713, -0.02865209157934014], \"y\": [-0.04979947980554535, -0.01787608227798763, 0.067675562083533], \"topics\": [1, 2, 3], \"cluster\": [1, 1, 1], \"Freq\": [42.580305077558656, 32.731886232460326, 24.68780868998102]}, \"tinfo\": {\"Term\": [\"risk\", \"scenario\", \"management\", \"cost\", \"climate-related\", \"increase\", \"group\", \"review\", \"loss\", \"portfolio\", \"lead\", \"assessment\", \"affect\", \"assess\", \"analysis\", \"'s\", \"c\", \"operation\", \"insurance\", \"2\", \"weather\", \"impact\", \"increased\", \"emission\", \"issue\", \"regulation\", \"cause\", \"high\", \"approach\", \"provide\", \"fuel\", \"particularly\", \"jurisdiction\", \"life\", \"building\", \"increased\", \"disrupt\", \"mortality\", \"africa\", \"south\", \"regulate\", \"intensive\", \"litigation\", \"preference\", \"pose\", \"maersk\", \"distribution\", \"growth\", \"affect\", \"agricultural\", \"negatively\", \"relative\", \"insurance\", \"aegon\", \"consumer\", \"obligation\", \"cenovus\", \"livelihood\", \"disruption\", \"cost\", \"coal\", \"demand\", \"regulation\", \"product\", \"decline\", \"economy\", \"effect\", \"supply\", \"material\", \"uncertainty\", \"cause\", \"change\", \"result\", \"raw\", \"weather\", \"investment\", \"increase\", \"gas\", \"impact\", \"climate\", \"long-term\", \"significant\", \"production\", \"energy\", \"transition\", \"customer\", \"event\", \"carbon\", \"risk\", \"physical\", \"damage\", \"policy\", \"include\", \"business\", \"financial\", \"emission\", \"environmental\", \"potential\", \"asset\", \"extreme\", \"review\", \"bnp\", \"2\", \"paribas\", \"enterprise\", \"msci\", \"pilot\", \"pme\", \"programme\", \"profile\", \"organization\", \"regular\", \"4\", \"chief\", \"methodology\", \"department\", \"score\", \"discuss\", \"wm\", \"fi\", \"disclosure\", \"task\", \"approach\", \"rcp\", \"corporate\", \"sign\", \"tool\", \"test\", \"united\", \"climate-related\", \"scenario\", \"assessment\", \"c\", \"committee\", \"assess\", \"analysis\", \"management\", \"board\", \"assume\", \"matter\", \"risk\", \"portfolio\", \"provide\", \"target\", \"2019\", \"conduct\", \"credit\", \"sector\", \"process\", \"use\", \"climate\", \"base\", \"physical\", \"client\", \"company\", \"'s\", \"include\", \"group\", \"financial\", \"environment\", \"change\", \"business\", \"impact\", \"asset\", \"exposure\", \"environmental\", \"temperature\", \"policy\", \"divest\", \"maintenance\", \"billion\", \"forest\", \"ead\", \"ect\", \"planet\", \"lafargeholcim\", \"probability\", \"construction\", \"phenomenon\", \"city\", \"centre\", \"label\", \"continuity\", \"reversible\", \"eni\", \"shortage\", \"esr\", \"ifc\", \"pollution\", \"generally\", \"correspond\", \"illness\", \"harm\", \"surface\", \"chemical\", \"upm\", \"edd\", \"structure\", \"penalty\", \"sand\", \"land\", \"limited\", \"rainfall\", \"plan\", \"deforestation\", \"address\", \"lead\", \"facility\", \"loss\", \"predict\", \"ghg\", \"group\", \"project\", \"'s\", \"issue\", \"operation\", \"high\", \"business\", \"example\", \"potential\", \"addition\", \"impact\", \"increase\", \"emission\", \"property\", \"event\", \"environmental\", \"include\", \"change\", \"risk\", \"water\", \"climate\", \"extreme\", \"damage\", \"social\", \"weather\", \"transition\", \"asset\", \"physical\", \"result\", \"energy\"], \"Freq\": [504.0, 53.0, 54.0, 73.0, 37.0, 117.0, 66.0, 22.0, 46.0, 55.0, 33.0, 28.0, 45.0, 27.0, 28.0, 91.0, 20.0, 46.0, 38.0, 15.0, 71.0, 206.0, 29.0, 53.0, 33.0, 40.0, 43.0, 52.0, 15.0, 23.0, 14.02042464785669, 15.849655382746928, 6.273933431042003, 7.824176996021827, 11.733130135269649, 26.525267275899306, 6.2392295713386625, 5.4274582027767435, 5.424370726253551, 5.424306140906708, 4.621896678195709, 5.379727033199097, 10.71386052332897, 5.319845652451677, 5.306699193747851, 4.546736779938354, 9.038676233702281, 9.77320983750326, 39.7164071619753, 6.738900417247861, 8.199775678845146, 3.73173688639462, 33.554941317676175, 3.7308263814762035, 11.939319226244308, 3.724018566266794, 3.721499366559784, 3.7148240626654476, 17.760017191036216, 62.80511931152107, 18.410137746514117, 16.918486453605944, 34.1686060431226, 28.08678358216422, 11.00162016500533, 22.011774504117565, 21.945230810781204, 24.492159160035182, 25.619887613052658, 17.36786981221506, 33.34762086959131, 162.16727908954672, 47.875763549101706, 10.100747371591789, 50.060865483976286, 41.27339803979939, 76.20599974028775, 33.42809272703638, 122.75484768782741, 147.31913457543973, 15.728193358505854, 27.85703791387916, 22.984726771688198, 37.63261959256819, 41.53718538239257, 28.855034448818497, 41.475804062641764, 36.23200542901614, 137.8033819741788, 48.539510870403056, 32.58287394359331, 29.80719171942648, 43.40801947369366, 40.85433267619079, 35.04854056403394, 29.35271873854206, 32.32919160951989, 30.221633663033526, 30.1877315524634, 28.91418571820247, 21.3701461129864, 10.217146009366127, 14.104199650729553, 9.395007222244157, 8.413599667322913, 5.2907577437198885, 6.0271315525500855, 5.251630479036205, 5.2460237500124, 5.238977817874291, 5.979188740796709, 5.208259220077709, 5.949314718975214, 4.447803012109233, 4.446942457669752, 4.444543690702672, 4.438944950911064, 7.375157554408369, 4.432524461522074, 4.420544322513295, 10.317416580030022, 4.409078632992044, 13.93793459816368, 4.401366455954669, 13.136725316759478, 4.389164901082151, 4.38041925979418, 9.463942312253991, 5.8320002627383944, 32.70509983856923, 45.823861937393715, 24.377751922042652, 17.243010337515596, 7.989823399952965, 22.70856392180918, 23.44701321903221, 42.95086099502642, 10.532406818445114, 7.855669354223682, 8.485719607682045, 302.0542978189882, 38.418729354442505, 17.618606969463478, 8.36765416361873, 12.16951348613301, 12.786584661228277, 22.678832564848342, 23.880511240666742, 16.595031105688793, 23.33405004104542, 73.34279506554708, 12.618494639764883, 39.49868180587314, 20.290869322335833, 27.148139166074625, 35.37737246331155, 37.26305724288865, 27.298188359918825, 28.615923187903054, 15.867699395727014, 49.18865262214095, 26.342498143438988, 34.50718757507709, 20.593866659992777, 15.939213295758076, 18.20954308340534, 16.093872276579813, 16.170444501910318, 6.4316029109090715, 4.8732968794620275, 7.615230857727538, 7.5884107690782585, 3.412266180134051, 3.391342576984367, 3.38879257674039, 3.367852402570469, 5.381856325536992, 4.709712502261262, 3.361499030370058, 4.70054808244613, 3.3216151671566703, 2.6371704818718924, 5.263979987142721, 2.625507926954045, 3.9391062592349533, 2.621895014126306, 2.6183847555408137, 2.6172161758020347, 5.22482890735669, 3.2597678154717236, 2.602812300679295, 2.5990551984546904, 3.887245852551439, 2.583135613000418, 3.2265528194674125, 3.215040910188082, 2.566592569810742, 2.560302038362398, 3.8277898927739162, 7.481056382910209, 6.856289752115738, 6.197024839684849, 8.883206588799796, 12.054806892249113, 3.724778405156246, 10.537159688221598, 19.546467867278672, 9.5636212880462, 24.515306793184607, 5.245352869148195, 7.522323818709344, 28.98742658978687, 17.50982663942031, 33.24241695385013, 16.029601533664767, 20.284051295093807, 21.783280132940167, 34.92378755948196, 12.227657697883092, 22.521609041457904, 11.56029838008665, 48.78722532778843, 32.60186825554855, 19.50160301363176, 12.859141832907074, 23.188750568702662, 22.5300865171614, 27.807841971906193, 45.870963355799255, 64.17079294024516, 14.272437233550232, 34.12964917647103, 15.756158178951583, 15.743788019948818, 12.87740094512751, 16.166103698805234, 15.581874087671146, 14.252632066662505, 15.416127730349611, 13.521655526136602, 12.697110827447469], \"Total\": [504.0, 53.0, 54.0, 73.0, 37.0, 117.0, 66.0, 22.0, 46.0, 55.0, 33.0, 28.0, 45.0, 27.0, 28.0, 91.0, 20.0, 46.0, 38.0, 15.0, 71.0, 206.0, 29.0, 53.0, 33.0, 40.0, 43.0, 52.0, 15.0, 23.0, 14.77632931287926, 17.335198488319126, 6.933163555744707, 8.670226527416832, 13.006683357332015, 29.449785556477924, 6.931093998418849, 6.06335778160515, 6.062856848887063, 6.062789196581213, 5.195277650583967, 6.058900152216064, 12.109738565500162, 6.055540901774477, 6.053205665425763, 5.190097940417836, 10.37260438030809, 11.225579601807656, 45.75041578332663, 7.77111039145669, 9.494527919116555, 4.321642960255488, 38.86690962742559, 4.322232753348203, 13.837379193514094, 4.321115927593781, 4.320494210517717, 4.320603593118158, 20.716832844884912, 73.30539243446285, 21.58463319469335, 19.820720093857, 40.573681395794004, 33.612349745881744, 12.947278954075069, 26.66225656627404, 26.65853639583793, 31.029752002783134, 32.62659496587254, 21.486207148905716, 43.62183708435735, 257.2268950674869, 67.4056555229836, 12.053011491625409, 71.54443378841633, 58.51554877775285, 117.83059640013201, 46.38556136280395, 206.04926059069294, 254.79157881745783, 19.76028747884465, 39.42475244269348, 31.608352485345574, 60.35132627553921, 69.58147646963249, 43.49119948576962, 75.05060442253914, 62.10378864119536, 504.0284727334122, 103.45432040662581, 54.960414775474106, 48.83121820167614, 108.4789186884885, 102.12061837911173, 73.83468251552422, 53.79891005942375, 73.06882121008664, 61.22956606986378, 65.03423027911867, 51.46399434359108, 22.675908302223334, 10.913596326859944, 15.112015129743474, 10.073961325093554, 9.225955247727143, 5.876343315397994, 6.715456062746791, 5.877391629561629, 5.876238027486476, 5.875139993622756, 6.714657909595816, 5.8771724573765916, 6.719220811390876, 5.036441995551481, 5.035927326380505, 5.0361483425307405, 5.035950576713811, 8.377682412644706, 5.036962452261862, 5.036580882153845, 11.776983256806336, 5.0362962166778615, 15.932358146955151, 5.035521953982656, 15.063519822366924, 5.034568172313695, 5.033659803822915, 10.903846478870319, 6.723528718714083, 37.789449353197384, 53.629075766022794, 28.52925797703388, 20.221455389777407, 9.245106059647119, 27.53650732226323, 28.575168202633805, 54.96690946258241, 12.542153935014369, 9.255045075622673, 10.101296920704794, 504.0284727334122, 55.14686183751459, 23.673008634719665, 10.08068547309394, 15.876683215226102, 16.892197936929982, 37.15233306408686, 40.47648977201124, 25.963854177502547, 42.64782400939652, 254.79157881745783, 18.56522120143382, 103.45432040662581, 37.857856645970806, 59.71742924112132, 91.46606153714646, 108.4789186884885, 66.00736734006261, 73.83468251552422, 26.981809036884762, 257.2268950674869, 102.12061837911173, 206.04926059069294, 65.03423027911867, 31.19147135964647, 73.06882121008664, 35.033809721029115, 48.83121820167614, 7.227233163554157, 5.630251591221242, 8.847371220281765, 8.850489090254019, 4.027761484977556, 4.029196948121808, 4.029672088972284, 4.031129650276136, 6.446363437718212, 5.645343548671413, 4.032273259502841, 5.6499688516620274, 4.036195130030628, 3.2290109969560348, 6.467848812936456, 3.2298731026316125, 4.8488293589272295, 3.2303517221465166, 3.2299622696098513, 3.2301367916981834, 6.462715116134737, 4.041353274884612, 3.231116958992017, 3.2320320383626027, 4.852185667712786, 3.232804223103317, 4.039055272046102, 4.045930424349748, 3.233601854023087, 3.2340176091052015, 4.860226868300937, 9.730106318066307, 8.902234823134197, 8.120505595713027, 12.196426548564874, 18.75852994848754, 4.852809175012714, 16.36741227514666, 33.870903421699154, 14.72806502524094, 46.40443300779339, 7.329809990881946, 11.433589956252224, 66.00736734006261, 37.2191440795997, 91.46606153714646, 33.769597170686495, 46.77298649386488, 52.60520189562891, 102.12061837911173, 24.001295027548498, 61.22956606986378, 23.987083489859398, 206.04926059069294, 117.83059640013201, 53.79891005942375, 28.387744385321767, 75.05060442253914, 73.06882121008664, 108.4789186884885, 257.2268950674869, 504.0284727334122, 35.18739640453868, 254.79157881745783, 51.46399434359108, 54.960414775474106, 35.009464055739834, 71.54443378841633, 69.58147646963249, 65.03423027911867, 103.45432040662581, 67.4056555229836, 60.35132627553921], \"Category\": [\"Default\", \"Default\", \"Default\", \"Default\", \"Default\", \"Default\", \"Default\", \"Default\", \"Default\", \"Default\", \"Default\", \"Default\", \"Default\", \"Default\", \"Default\", \"Default\", \"Default\", \"Default\", \"Default\", \"Default\", \"Default\", \"Default\", \"Default\", \"Default\", \"Default\", \"Default\", \"Default\", \"Default\", \"Default\", \"Default\", \"Topic1\", \"Topic1\", \"Topic1\", \"Topic1\", \"Topic1\", \"Topic1\", \"Topic1\", \"Topic1\", \"Topic1\", \"Topic1\", \"Topic1\", \"Topic1\", \"Topic1\", \"Topic1\", \"Topic1\", \"Topic1\", \"Topic1\", \"Topic1\", \"Topic1\", \"Topic1\", \"Topic1\", \"Topic1\", \"Topic1\", \"Topic1\", \"Topic1\", \"Topic1\", \"Topic1\", \"Topic1\", \"Topic1\", \"Topic1\", \"Topic1\", \"Topic1\", \"Topic1\", \"Topic1\", \"Topic1\", \"Topic1\", \"Topic1\", \"Topic1\", \"Topic1\", \"Topic1\", \"Topic1\", \"Topic1\", \"Topic1\", \"Topic1\", \"Topic1\", \"Topic1\", \"Topic1\", \"Topic1\", \"Topic1\", \"Topic1\", \"Topic1\", \"Topic1\", \"Topic1\", \"Topic1\", \"Topic1\", \"Topic1\", \"Topic1\", \"Topic1\", \"Topic1\", \"Topic1\", \"Topic1\", \"Topic1\", \"Topic1\", \"Topic1\", \"Topic1\", \"Topic1\", \"Topic1\", \"Topic1\", \"Topic1\", \"Topic1\", \"Topic2\", \"Topic2\", \"Topic2\", \"Topic2\", \"Topic2\", \"Topic2\", \"Topic2\", \"Topic2\", \"Topic2\", \"Topic2\", \"Topic2\", \"Topic2\", \"Topic2\", \"Topic2\", \"Topic2\", \"Topic2\", \"Topic2\", \"Topic2\", \"Topic2\", \"Topic2\", \"Topic2\", \"Topic2\", \"Topic2\", \"Topic2\", \"Topic2\", \"Topic2\", \"Topic2\", \"Topic2\", \"Topic2\", \"Topic2\", \"Topic2\", \"Topic2\", \"Topic2\", \"Topic2\", \"Topic2\", \"Topic2\", \"Topic2\", \"Topic2\", \"Topic2\", \"Topic2\", \"Topic2\", \"Topic2\", \"Topic2\", \"Topic2\", \"Topic2\", \"Topic2\", \"Topic2\", \"Topic2\", \"Topic2\", \"Topic2\", \"Topic2\", \"Topic2\", \"Topic2\", \"Topic2\", \"Topic2\", \"Topic2\", \"Topic2\", \"Topic2\", \"Topic2\", \"Topic2\", \"Topic2\", \"Topic2\", \"Topic2\", \"Topic2\", \"Topic2\", \"Topic2\", \"Topic2\", \"Topic2\", \"Topic3\", \"Topic3\", \"Topic3\", \"Topic3\", \"Topic3\", \"Topic3\", \"Topic3\", \"Topic3\", \"Topic3\", \"Topic3\", \"Topic3\", \"Topic3\", \"Topic3\", \"Topic3\", \"Topic3\", \"Topic3\", \"Topic3\", \"Topic3\", \"Topic3\", \"Topic3\", \"Topic3\", \"Topic3\", \"Topic3\", \"Topic3\", \"Topic3\", \"Topic3\", \"Topic3\", \"Topic3\", \"Topic3\", \"Topic3\", \"Topic3\", \"Topic3\", \"Topic3\", \"Topic3\", \"Topic3\", \"Topic3\", \"Topic3\", \"Topic3\", \"Topic3\", \"Topic3\", \"Topic3\", \"Topic3\", \"Topic3\", \"Topic3\", \"Topic3\", \"Topic3\", \"Topic3\", \"Topic3\", \"Topic3\", \"Topic3\", \"Topic3\", \"Topic3\", \"Topic3\", \"Topic3\", \"Topic3\", \"Topic3\", \"Topic3\", \"Topic3\", \"Topic3\", \"Topic3\", \"Topic3\", \"Topic3\", \"Topic3\", \"Topic3\", \"Topic3\", \"Topic3\", \"Topic3\", \"Topic3\", \"Topic3\", \"Topic3\", \"Topic3\", \"Topic3\", \"Topic3\"], \"logprob\": [30.0, 29.0, 28.0, 27.0, 26.0, 25.0, 24.0, 23.0, 22.0, 21.0, 20.0, 19.0, 18.0, 17.0, 16.0, 15.0, 14.0, 13.0, 12.0, 11.0, 10.0, 9.0, 8.0, 7.0, 6.0, 5.0, 4.0, 3.0, 2.0, 1.0, -6.1199, -5.9973, -6.924, -6.7032, -6.298, -5.4823, -6.9296, -7.069, -7.0695, -7.0695, -7.2296, -7.0778, -6.3889, -7.089, -7.0915, -7.246, -6.5589, -6.4808, -5.0787, -6.8525, -6.6563, -7.4436, -5.2472, -7.4438, -6.2806, -7.4456, -7.4463, -7.4481, -5.8835, -4.6204, -5.8475, -5.932, -5.2291, -5.4251, -6.3624, -5.6688, -5.6719, -5.5621, -5.5171, -5.9058, -5.2534, -3.6718, -4.8918, -6.4478, -4.8472, -5.0402, -4.427, -5.251, -3.9502, -3.7678, -6.005, -5.4333, -5.6256, -5.1326, -5.0338, -5.3981, -5.0353, -5.1705, -3.8346, -4.878, -5.2766, -5.3657, -4.9898, -5.0504, -5.2037, -5.381, -5.2845, -5.3519, -5.353, -5.3961, -5.4354, -6.1733, -5.8509, -6.2572, -6.3675, -6.8314, -6.7011, -6.8388, -6.8399, -6.8413, -6.7091, -6.8471, -6.7141, -7.005, -7.0052, -7.0057, -7.007, -6.4993, -7.0084, -7.0111, -6.1636, -7.0137, -5.8628, -7.0155, -5.922, -7.0182, -7.0202, -6.2499, -6.734, -5.0099, -4.6726, -5.3037, -5.65, -6.4192, -5.3746, -5.3426, -4.7373, -6.1429, -6.4361, -6.359, -2.7868, -4.8488, -5.6284, -6.373, -5.9984, -5.949, -5.376, -5.3243, -5.6883, -5.3475, -4.2022, -5.9622, -4.8211, -5.4872, -5.1961, -4.9313, -4.8794, -5.1906, -5.1434, -5.7331, -4.6017, -5.2262, -4.9562, -5.4724, -5.7286, -5.5954, -5.7189, -5.7142, -6.3541, -6.6316, -6.1852, -6.1887, -6.988, -6.9941, -6.9949, -7.0011, -6.5323, -6.6657, -7.003, -6.6677, -7.0149, -7.2456, -6.5545, -7.2501, -6.8444, -7.2514, -7.2528, -7.2532, -6.5619, -7.0337, -7.2588, -7.2602, -6.8576, -7.2663, -7.0439, -7.0475, -7.2728, -7.2752, -6.8731, -6.203, -6.2902, -6.3913, -6.0312, -5.7259, -6.9003, -5.8604, -5.2425, -5.9574, -5.016, -6.558, -6.1975, -4.8485, -5.3526, -4.7115, -5.4409, -5.2055, -5.1342, -4.6622, -5.7116, -5.1009, -5.7678, -4.3279, -4.731, -5.2448, -5.6613, -5.0717, -5.1005, -4.89, -4.3895, -4.0538, -5.557, -4.6852, -5.4581, -5.4589, -5.6599, -5.4324, -5.4692, -5.5584, -5.4799, -5.6111, -5.674], \"loglift\": [30.0, 29.0, 28.0, 27.0, 26.0, 25.0, 24.0, 23.0, 22.0, 21.0, 20.0, 19.0, 18.0, 17.0, 16.0, 15.0, 14.0, 13.0, 12.0, 11.0, 10.0, 9.0, 8.0, 7.0, 6.0, 5.0, 4.0, 3.0, 2.0, 1.0, 0.8013, 0.7642, 0.7539, 0.7511, 0.7507, 0.7492, 0.7486, 0.743, 0.7425, 0.7425, 0.7368, 0.7349, 0.7313, 0.7242, 0.7222, 0.7214, 0.7161, 0.7152, 0.7123, 0.7113, 0.7072, 0.707, 0.7068, 0.7066, 0.7062, 0.7051, 0.7045, 0.7027, 0.6998, 0.6992, 0.6947, 0.6955, 0.682, 0.6742, 0.6909, 0.6621, 0.6592, 0.6172, 0.612, 0.641, 0.5852, 0.3924, 0.5117, 0.6771, 0.4967, 0.5047, 0.418, 0.5262, 0.3359, 0.3059, 0.6256, 0.5065, 0.5352, 0.3815, 0.3379, 0.4435, 0.2607, 0.3149, -0.443, 0.097, 0.331, 0.3602, -0.0621, -0.0624, 0.1087, 0.2479, 0.0383, 0.1477, 0.0863, 0.2772, 1.0575, 1.0509, 1.0478, 1.047, 1.0246, 1.0118, 1.0087, 1.0042, 1.0034, 1.0022, 1.0008, 0.996, 0.9951, 0.9925, 0.9924, 0.9919, 0.9906, 0.9894, 0.989, 0.9864, 0.9845, 0.9838, 0.9831, 0.9822, 0.98, 0.9796, 0.9778, 0.9752, 0.9746, 0.9723, 0.9595, 0.9596, 0.9575, 0.9709, 0.924, 0.919, 0.8701, 0.9422, 0.9529, 0.9425, 0.6048, 0.7554, 0.8214, 0.9306, 0.8509, 0.8384, 0.6232, 0.5892, 0.6692, 0.5138, -0.1285, 0.7307, 0.154, 0.4932, 0.3285, 0.1669, 0.0483, 0.2339, 0.169, 0.5859, -0.5375, -0.2382, -0.6701, -0.0331, 0.4455, -0.2726, 0.3389, 0.0116, 1.2822, 1.2545, 1.2489, 1.245, 1.233, 1.2265, 1.2256, 1.2191, 1.2184, 1.2177, 1.2169, 1.2149, 1.204, 1.1964, 1.1929, 1.1917, 1.1911, 1.1902, 1.1889, 1.1884, 1.1862, 1.1839, 1.1826, 1.1809, 1.1771, 1.1745, 1.1743, 1.169, 1.1678, 1.1653, 1.1601, 1.136, 1.1377, 1.1285, 1.0819, 0.9567, 1.1343, 0.9585, 0.8491, 0.9671, 0.7608, 1.0643, 0.9802, 0.576, 0.6448, 0.3867, 0.6537, 0.5634, 0.5172, 0.3259, 0.7245, 0.3987, 0.6689, -0.0418, 0.114, 0.3841, 0.607, 0.2244, 0.2223, 0.0376, -0.3253, -0.6622, 0.4965, -0.6114, 0.2152, 0.1487, 0.3987, -0.0885, -0.0975, -0.1191, -0.5049, -0.2076, -0.1599]}, \"token.table\": {\"Topic\": [1, 2, 3, 2, 3, 1, 2, 3, 2, 1, 2, 3, 1, 2, 3, 1, 1, 2, 3, 1, 1, 3, 1, 2, 3, 1, 2, 3, 1, 2, 3, 1, 2, 3, 1, 2, 3, 1, 2, 1, 2, 3, 2, 3, 2, 1, 2, 3, 1, 2, 1, 2, 3, 1, 2, 3, 1, 2, 3, 1, 2, 3, 1, 3, 1, 2, 3, 3, 2, 1, 3, 1, 2, 3, 1, 2, 3, 1, 2, 3, 1, 2, 3, 1, 2, 1, 2, 3, 1, 2, 3, 1, 3, 1, 2, 3, 1, 3, 1, 2, 3, 3, 1, 2, 3, 1, 2, 3, 1, 2, 3, 1, 2, 3, 1, 2, 3, 2, 3, 1, 2, 3, 2, 1, 2, 2, 3, 1, 1, 2, 3, 1, 2, 3, 3, 3, 1, 2, 3, 3, 3, 1, 2, 3, 1, 2, 3, 1, 2, 3, 1, 3, 2, 1, 2, 3, 1, 2, 3, 3, 1, 2, 3, 1, 2, 3, 1, 2, 3, 1, 2, 3, 1, 2, 3, 2, 1, 2, 3, 1, 2, 3, 1, 1, 2, 3, 3, 1, 2, 3, 1, 2, 3, 1, 3, 1, 3, 1, 2, 3, 3, 3, 1, 2, 3, 1, 2, 3, 1, 2, 3, 1, 2, 3, 1, 2, 3, 1, 1, 2, 3, 1, 2, 3, 1, 3, 3, 1, 2, 3, 1, 2, 3, 1, 2, 1, 3, 1, 2, 3, 1, 1, 2, 3, 1, 2, 3, 1, 3, 1, 2, 3, 1, 2, 3, 1, 2, 2, 1, 2, 1, 3, 1, 1, 2, 3, 2, 2, 1, 2, 3, 1, 3, 3, 1, 2, 3, 2, 1, 2, 3, 3, 2, 1, 2, 3, 1, 2, 3, 1, 2, 3, 1, 1, 2, 3, 1, 2, 3, 1, 2, 3, 1, 2, 3, 1, 2, 3, 1, 2, 3, 2, 2, 1, 2, 3, 1, 2, 3, 1, 2, 3, 1, 2, 3, 1, 3, 2, 2, 1, 1, 2, 3, 1, 1, 2, 3, 3, 1, 2, 3, 1, 2, 3, 1, 2, 3, 1, 2, 3, 2, 1, 2, 3, 3, 2, 1, 2, 3, 1, 2, 3, 1, 3, 1, 2, 3, 3, 1, 2, 3, 2, 1, 2, 3, 1, 2, 3, 2, 1, 2, 3, 1, 2, 3, 1, 2, 1, 3, 1, 2, 3, 1, 2, 3, 1, 2, 3, 2], \"Freq\": [0.25145938956450176, 0.3826555928155461, 0.36078955894037207, 0.9264151656680911, 0.06617251183343507, 0.06298544768097264, 0.7558253721716716, 0.12597089536194528, 0.8929606822607162, 0.29182372266971385, 0.25013461943118326, 0.5002692388623665, 0.2443880518653434, 0.1221940259326717, 0.6720671426296944, 0.9254476166054254, 0.8743089940305565, 0.043715449701527825, 0.08743089940305565, 0.8246937251896079, 0.9007721737804131, 0.1286817391114876, 0.1049862586538856, 0.8048946496797896, 0.06999083910259041, 0.06276534777691468, 0.8787148688768055, 0.06276534777691468, 0.03631542621934124, 0.8352548030448484, 0.14526170487736495, 0.07010347067596377, 0.8412416481115652, 0.07010347067596377, 0.4612955342324158, 0.3229068739626911, 0.2152712493084607, 0.10804917661978222, 0.8643934129582578, 0.21545663025502085, 0.7002340483288177, 0.05386415756375521, 0.11302792378685254, 0.9042233902948204, 0.916288242711392, 0.0797311215586555, 0.8770423371452104, 0.0797311215586555, 0.9226026090068121, 0.07688355075056767, 0.40148601380175686, 0.2546008868011141, 0.3427319630014998, 0.09890484940124854, 0.8406912199106126, 0.04945242470062427, 0.5796747797141653, 0.24153115821423554, 0.1610207721428237, 0.756501839575979, 0.04584859633793813, 0.1833943853517525, 0.9258200115770291, 0.7432742727622376, 0.6297941743513917, 0.19049329964949505, 0.1788304445689137, 0.7427479442439672, 0.7942114698299046, 0.1769921261965602, 0.8849606309828011, 0.2905605592748401, 0.5282919259542548, 0.18490217408398915, 0.5769421449572958, 0.2865086842304938, 0.13344240087447656, 0.07938723774354677, 0.8732596151790144, 0.052924825162364506, 0.8339266105492753, 0.046329256141626404, 0.09265851228325281, 0.10816533564333923, 0.8653226851467138, 0.3349105990354326, 0.45212930869783396, 0.20094635942125955, 0.17759678232525053, 0.7695860567427523, 0.059198927441750177, 0.1771371381349045, 0.8856856906745225, 0.8672162432048319, 0.07226802026706933, 0.07226802026706933, 0.15461091143625416, 0.7730545571812708, 0.06638554679067502, 0.8630121082787752, 0.06638554679067502, 0.928471497031752, 0.8594183580194845, 0.040924683715213545, 0.10913248990723613, 0.29607831037219845, 0.6190728307782332, 0.10766484013534489, 0.666801567739902, 0.16095210255790737, 0.18394526006617984, 0.6004321498448031, 0.1273643954216249, 0.2911186181065712, 0.8495993667100086, 0.07723630606454623, 0.07723630606454623, 0.20606621112345305, 0.8242648444938122, 0.8576883140218897, 0.050452253765993514, 0.10090450753198703, 0.7942577795454571, 0.08491138844254233, 0.8491138844254232, 0.835553277769837, 0.11936475396711957, 0.8656642084739792, 0.8688586780987755, 0.048269926561043085, 0.09653985312208617, 0.8676702272657852, 0.0964078030295317, 0.0964078030295317, 0.8301932239099593, 0.744830599127872, 0.8251364600484912, 0.03750620272947687, 0.15002481091790748, 0.7445652418153539, 0.9277580034374203, 0.8252516069649928, 0.037511436680226946, 0.15004574672090779, 0.5390443778130071, 0.0929386858298288, 0.3717547433193152, 0.6296464774694048, 0.16569644143931708, 0.2154053738711122, 0.20623534589001152, 0.8249413835600461, 0.8671188820226325, 0.29649605736456786, 0.5929921147291357, 0.11118602151171295, 0.4379432905861991, 0.246343100954737, 0.3147717401088306, 0.9288034192307675, 0.546298065358244, 0.13324343057518145, 0.30645989032291737, 0.3333153478100937, 0.16665767390504685, 0.4999730217151406, 0.3206004578846947, 0.5129607326155116, 0.16030022894234736, 0.5635007614524858, 0.13601742517818624, 0.31089697183585424, 0.20369274543930946, 0.1357951636262063, 0.6789758181310316, 0.7941895689937652, 0.4740319699030469, 0.392769346491096, 0.13543770568658484, 0.11298810605858832, 0.11298810605858832, 0.9039048484687066, 0.9474612878177667, 0.711428277042742, 0.19402589373892967, 0.0862337305506354, 0.7423256013384911, 0.17492318752487193, 0.17492318752487193, 0.6996927500994877, 0.15149824031734385, 0.4090452488568284, 0.43934489692029716, 0.8908225993417479, 0.08908225993417479, 0.2060926906928065, 0.824370762771226, 0.4372191184748808, 0.15207621512169767, 0.4182095915846686, 0.9287532366153468, 0.928208620580335, 0.5969446318195417, 0.16986229360718666, 0.23780721105006133, 0.3963903818352039, 0.34108009599773365, 0.25811466724152815, 0.6449937649633661, 0.07638084058776703, 0.2800630821551458, 0.9168148252971215, 0.03395610464063413, 0.06791220928126826, 0.874780123398559, 0.051457654317562294, 0.07718648147634344, 0.8252322821611827, 0.700668469430605, 0.2563421229624165, 0.034178949728322194, 0.14806217482334144, 0.3849616545406877, 0.4737989594346926, 0.865405806708324, 0.9290770464479924, 0.7442082642503194, 0.11233134374318059, 0.11233134374318059, 0.7863194062022641, 0.3838102526569056, 0.029523865588992736, 0.5904773117798547, 0.9226979219865302, 0.11533724024831628, 0.12314504167424248, 0.7388702500454549, 0.9083598246570134, 0.08257816587791031, 0.08257816587791031, 0.9257965730462256, 0.8097048191798621, 0.050606551198741384, 0.15181965359622415, 0.3878939754953366, 0.06464899591588943, 0.5387416326324119, 0.963372957003865, 0.8880597818747678, 0.0363855275756673, 0.782288842876847, 0.1819276378783365, 0.7968959073785061, 0.09194952777444301, 0.12259937036592403, 0.09899718895999222, 0.7919775116799378, 0.7942926378317969, 0.8246255919729599, 0.850869279012055, 0.8425906025188015, 0.10532382531485018, 0.9256868056829489, 0.47035696561487894, 0.08551944829361435, 0.42759724146807176, 0.8935674878426033, 0.8933923517833655, 0.9229776059836399, 0.05768610037397749, 0.05768610037397749, 0.20575171223428612, 0.8230068489371445, 0.7439971963531768, 0.47363899165744033, 0.37697797295184027, 0.1449915280584001, 0.8934612845260502, 0.10661816280338406, 0.2132363256067681, 0.6397089768203044, 0.7444774497185231, 0.8507175146967244, 0.614361080980983, 0.32765924318985756, 0.06143610809809829, 0.1547337275479484, 0.1547337275479484, 0.7736686377397419, 0.12693378674247843, 0.6890691280305973, 0.1813339810606835, 0.8260086103729496, 0.4899593762557387, 0.130655833668197, 0.37563552179606635, 0.13642918455512063, 0.13642918455512063, 0.682145922775603, 0.8256900714740167, 0.1551262211107919, 0.7756311055539595, 0.19257541526066868, 0.6547564118862734, 0.19257541526066868, 0.8330271525700348, 0.059501939469288195, 0.08925290920393229, 0.7276557679070232, 0.09491162190091608, 0.18982324380183216, 0.8510435505242959, 0.8508845245226934, 0.2686789351902676, 0.2686789351902676, 0.4836220833424817, 0.49317056719867014, 0.0352264690856193, 0.45794409811305087, 0.21121100731855538, 0.7603596263467994, 0.04224220146371108, 0.16398245765152708, 0.08199122882576354, 0.7379210594318718, 0.8296681710581735, 0.08296681710581735, 0.7943565804208939, 0.8507492397512294, 0.9624124707633254, 0.8379816381050537, 0.07393955630338708, 0.07393955630338708, 0.9255739163985742, 0.7121064193735678, 0.08901330242169597, 0.20769770565062393, 0.9288290606698083, 0.04409966677727091, 0.9260930023226891, 0.04409966677727091, 0.27379405621989567, 0.5991724998435398, 0.12697695360922698, 0.10277379992685763, 0.10277379992685763, 0.7194165994880034, 0.055939804241427526, 0.857743665035222, 0.09323300706904587, 0.7942889706852889, 0.2964683960390701, 0.5929367920781402, 0.12352849834961255, 0.9286914423072632, 0.7945070685499831, 0.7102137176561825, 0.17755342941404562, 0.12682387815288973, 0.3142007539014737, 0.3142007539014737, 0.3713281637017416, 0.8247029276260311, 0.9276387338008496, 0.7734512347326328, 0.12890853912210545, 0.06445426956105273, 0.9279869094949902, 0.0991996033076392, 0.7935968264611136, 0.0991996033076392, 0.7942344587980881, 0.22835084347672255, 0.4567016869534451, 0.28543855434590315, 0.09171075564369133, 0.825396800793222, 0.09171075564369133, 0.7946504443868294, 0.6036089219568386, 0.17245969198766817, 0.22994625598355756, 0.7912052547099176, 0.046541485571171624, 0.13962445671351487, 0.14873142390492478, 0.8923885434295487, 0.24716193683946447, 0.7414858105183935, 0.21103069638481545, 0.5393006685389728, 0.23447855153868383, 0.5115467991169205, 0.08525779985282009, 0.3978697326464937, 0.6988663876755069, 0.06988663876755069, 0.2236372440561622, 0.7941294059485771], \"Term\": [\"'s\", \"'s\", \"'s\", \"2\", \"2\", \"2019\", \"2019\", \"2019\", \"4\", \"addition\", \"addition\", \"addition\", \"address\", \"address\", \"address\", \"aegon\", \"affect\", \"affect\", \"affect\", \"africa\", \"agricultural\", \"agricultural\", \"analysis\", \"analysis\", \"analysis\", \"approach\", \"approach\", \"approach\", \"assess\", \"assess\", \"assess\", \"assessment\", \"assessment\", \"assessment\", \"asset\", \"asset\", \"asset\", \"assume\", \"assume\", \"base\", \"base\", \"base\", \"billion\", \"billion\", \"bnp\", \"board\", \"board\", \"board\", \"building\", \"building\", \"business\", \"business\", \"business\", \"c\", \"c\", \"c\", \"carbon\", \"carbon\", \"carbon\", \"cause\", \"cause\", \"cause\", \"cenovus\", \"centre\", \"change\", \"change\", \"change\", \"chemical\", \"chief\", \"city\", \"city\", \"client\", \"client\", \"client\", \"climate\", \"climate\", \"climate\", \"climate-related\", \"climate-related\", \"climate-related\", \"coal\", \"coal\", \"coal\", \"committee\", \"committee\", \"company\", \"company\", \"company\", \"conduct\", \"conduct\", \"conduct\", \"construction\", \"construction\", \"consumer\", \"consumer\", \"consumer\", \"continuity\", \"continuity\", \"corporate\", \"corporate\", \"corporate\", \"correspond\", \"cost\", \"cost\", \"cost\", \"credit\", \"credit\", \"credit\", \"customer\", \"customer\", \"customer\", \"damage\", \"damage\", \"damage\", \"decline\", \"decline\", \"decline\", \"deforestation\", \"deforestation\", \"demand\", \"demand\", \"demand\", \"department\", \"disclosure\", \"disclosure\", \"discuss\", \"discuss\", \"disrupt\", \"disruption\", \"disruption\", \"disruption\", \"distribution\", \"distribution\", \"distribution\", \"divest\", \"ead\", \"economy\", \"economy\", \"economy\", \"ect\", \"edd\", \"effect\", \"effect\", \"effect\", \"emission\", \"emission\", \"emission\", \"energy\", \"energy\", \"energy\", \"eni\", \"eni\", \"enterprise\", \"environment\", \"environment\", \"environment\", \"environmental\", \"environmental\", \"environmental\", \"esr\", \"event\", \"event\", \"event\", \"example\", \"example\", \"example\", \"exposure\", \"exposure\", \"exposure\", \"extreme\", \"extreme\", \"extreme\", \"facility\", \"facility\", \"facility\", \"fi\", \"financial\", \"financial\", \"financial\", \"forest\", \"forest\", \"forest\", \"fuel\", \"gas\", \"gas\", \"gas\", \"generally\", \"ghg\", \"ghg\", \"ghg\", \"group\", \"group\", \"group\", \"growth\", \"growth\", \"harm\", \"harm\", \"high\", \"high\", \"high\", \"ifc\", \"illness\", \"impact\", \"impact\", \"impact\", \"include\", \"include\", \"include\", \"increase\", \"increase\", \"increase\", \"increased\", \"increased\", \"increased\", \"insurance\", \"insurance\", \"insurance\", \"intensive\", \"investment\", \"investment\", \"investment\", \"issue\", \"issue\", \"issue\", \"jurisdiction\", \"label\", \"lafargeholcim\", \"land\", \"land\", \"land\", \"lead\", \"lead\", \"lead\", \"life\", \"life\", \"limited\", \"limited\", \"litigation\", \"litigation\", \"litigation\", \"livelihood\", \"long-term\", \"long-term\", \"long-term\", \"loss\", \"loss\", \"loss\", \"maersk\", \"maintenance\", \"management\", \"management\", \"management\", \"material\", \"material\", \"material\", \"matter\", \"matter\", \"methodology\", \"mortality\", \"msci\", \"negatively\", \"negatively\", \"obligation\", \"operation\", \"operation\", \"operation\", \"organization\", \"paribas\", \"particularly\", \"particularly\", \"particularly\", \"penalty\", \"penalty\", \"phenomenon\", \"physical\", \"physical\", \"physical\", \"pilot\", \"plan\", \"plan\", \"plan\", \"planet\", \"pme\", \"policy\", \"policy\", \"policy\", \"pollution\", \"pollution\", \"pollution\", \"portfolio\", \"portfolio\", \"portfolio\", \"pose\", \"potential\", \"potential\", \"potential\", \"predict\", \"predict\", \"predict\", \"preference\", \"probability\", \"probability\", \"process\", \"process\", \"process\", \"product\", \"product\", \"product\", \"production\", \"production\", \"production\", \"profile\", \"programme\", \"project\", \"project\", \"project\", \"property\", \"property\", \"property\", \"provide\", \"provide\", \"provide\", \"rainfall\", \"rainfall\", \"rainfall\", \"raw\", \"raw\", \"rcp\", \"regular\", \"regulate\", \"regulation\", \"regulation\", \"regulation\", \"relative\", \"result\", \"result\", \"result\", \"reversible\", \"review\", \"review\", \"review\", \"risk\", \"risk\", \"risk\", \"sand\", \"sand\", \"sand\", \"scenario\", \"scenario\", \"scenario\", \"score\", \"sector\", \"sector\", \"sector\", \"shortage\", \"sign\", \"significant\", \"significant\", \"significant\", \"social\", \"social\", \"social\", \"south\", \"structure\", \"supply\", \"supply\", \"supply\", \"surface\", \"target\", \"target\", \"target\", \"task\", \"temperature\", \"temperature\", \"temperature\", \"test\", \"test\", \"test\", \"tool\", \"transition\", \"transition\", \"transition\", \"uncertainty\", \"uncertainty\", \"uncertainty\", \"united\", \"united\", \"upm\", \"upm\", \"use\", \"use\", \"use\", \"water\", \"water\", \"water\", \"weather\", \"weather\", \"weather\", \"wm\"]}, \"R\": 30, \"lambda.step\": 0.01, \"plot.opts\": {\"xlab\": \"PC1\", \"ylab\": \"PC2\"}, \"topic.order\": [1, 2, 3]};\n",
       "\n",
       "function LDAvis_load_lib(url, callback){\n",
       "  var s = document.createElement('script');\n",
       "  s.src = url;\n",
       "  s.async = true;\n",
       "  s.onreadystatechange = s.onload = callback;\n",
       "  s.onerror = function(){console.warn(\"failed to load library \" + url);};\n",
       "  document.getElementsByTagName(\"head\")[0].appendChild(s);\n",
       "}\n",
       "\n",
       "if(typeof(LDAvis) !== \"undefined\"){\n",
       "   // already loaded: just create the visualization\n",
       "   !function(LDAvis){\n",
       "       new LDAvis(\"#\" + \"ldavis_el1700020255341253289901306437\", ldavis_el1700020255341253289901306437_data);\n",
       "   }(LDAvis);\n",
       "}else if(typeof define === \"function\" && define.amd){\n",
       "   // require.js is available: use it to load d3/LDAvis\n",
       "   require.config({paths: {d3: \"https://d3js.org/d3.v5\"}});\n",
       "   require([\"d3\"], function(d3){\n",
       "      window.d3 = d3;\n",
       "      LDAvis_load_lib(\"https://cdn.jsdelivr.net/gh/bmabey/pyLDAvis@3.4.0/pyLDAvis/js/ldavis.v3.0.0.js\", function(){\n",
       "        new LDAvis(\"#\" + \"ldavis_el1700020255341253289901306437\", ldavis_el1700020255341253289901306437_data);\n",
       "      });\n",
       "    });\n",
       "}else{\n",
       "    // require.js not available: dynamically load d3 & LDAvis\n",
       "    LDAvis_load_lib(\"https://d3js.org/d3.v5.js\", function(){\n",
       "         LDAvis_load_lib(\"https://cdn.jsdelivr.net/gh/bmabey/pyLDAvis@3.4.0/pyLDAvis/js/ldavis.v3.0.0.js\", function(){\n",
       "                 new LDAvis(\"#\" + \"ldavis_el1700020255341253289901306437\", ldavis_el1700020255341253289901306437_data);\n",
       "            })\n",
       "         });\n",
       "}\n",
       "</script>"
      ],
      "text/plain": [
       "<IPython.core.display.HTML object>"
      ]
     },
     "execution_count": 91,
     "metadata": {},
     "output_type": "execute_result"
    }
   ],
   "source": [
    "negative_vis = gensimvis.prepare(negative_model, negative_corpus, negative_dictionary)\n",
    "pyLDAvis.display(negative_vis)"
   ]
  },
  {
   "cell_type": "markdown",
   "id": "df5962db",
   "metadata": {},
   "source": [
    "# Sentiment Analysis"
   ]
  },
  {
   "cell_type": "code",
   "execution_count": 92,
   "id": "1c25cd0c",
   "metadata": {},
   "outputs": [],
   "source": [
    "# nltk.download('vader_lexicon')\n",
    "from nltk.sentiment.vader import SentimentIntensityAnalyzer"
   ]
  },
  {
   "cell_type": "code",
   "execution_count": 93,
   "id": "e70814ba",
   "metadata": {},
   "outputs": [],
   "source": [
    "sid = SentimentIntensityAnalyzer()"
   ]
  },
  {
   "cell_type": "code",
   "execution_count": 94,
   "id": "afa161f4",
   "metadata": {},
   "outputs": [],
   "source": [
    "sentiment_score = []\n",
    "for text in train_text_processed['text']:\n",
    "    score = sid.polarity_scores(text)['compound']\n",
    "    sentiment_score.append(score)\n",
    "train_text_processed['sentiment'] = sentiment_score"
   ]
  },
  {
   "cell_type": "code",
   "execution_count": 95,
   "id": "113e31f0",
   "metadata": {},
   "outputs": [],
   "source": [
    "positive_df = train_text_processed.loc[train_text_processed['label'] == 2]\n",
    "neutral_df = train_text_processed.loc[train_text_processed['label'] == 1]\n",
    "negative_df = train_text_processed.loc[train_text_processed['label'] == 0]"
   ]
  },
  {
   "cell_type": "code",
   "execution_count": 96,
   "id": "7260e0ff",
   "metadata": {},
   "outputs": [
    {
     "data": {
      "text/plain": [
       "<AxesSubplot:title={'center':'sentiment'}, xlabel='label'>"
      ]
     },
     "execution_count": 96,
     "metadata": {},
     "output_type": "execute_result"
    },
    {
     "data": {
      "image/png": "[encoded data removed]",
      "text/plain": [
       "<Figure size 1080x360 with 1 Axes>"
      ]
     },
     "metadata": {
      "needs_background": "light"
     },
     "output_type": "display_data"
    }
   ],
   "source": [
    "train_text_processed.boxplot(column='sentiment', by='label', figsize = (15,5))"
   ]
  },
  {
   "cell_type": "code",
   "execution_count": 97,
   "id": "82164878",
   "metadata": {},
   "outputs": [],
   "source": [
    "from scipy.stats import pearsonr"
   ]
  },
  {
   "cell_type": "code",
   "execution_count": 98,
   "id": "0bf2f648",
   "metadata": {},
   "outputs": [],
   "source": [
    "correlation, p_value = pearsonr(train_text_processed['label'], train_text_processed['sentiment'])"
   ]
  },
  {
   "cell_type": "code",
   "execution_count": 99,
   "id": "4c3b57d5",
   "metadata": {},
   "outputs": [
    {
     "data": {
      "text/plain": [
       "(0.5401455003938614, 8.121214139816934e-77)"
      ]
     },
     "execution_count": 99,
     "metadata": {},
     "output_type": "execute_result"
    }
   ],
   "source": [
    "correlation, p_value"
   ]
  }
 ],
 "metadata": {
  "kernelspec": {
   "display_name": "Python 3 (ipykernel)",
   "language": "python",
   "name": "python3"
  },
  "language_info": {
   "codemirror_mode": {
    "name": "ipython",
    "version": 3
   },
   "file_extension": ".py",
   "mimetype": "text/x-python",
   "name": "python",
   "nbconvert_exporter": "python",
   "pygments_lexer": "ipython3",
   "version": "3.9.12"
  }
 },
 "nbformat": 4,
 "nbformat_minor": 5
}
